{
  "cells": [
    {
      "cell_type": "markdown",
      "metadata": {
        "id": "raUVz0R49bqt"
      },
      "source": [
        "### Pandas\n",
        "\n",
        "\n",
        "Pandas es un paquete Python de código abierto que proporciona estructuras de datos rápidas, flexibles y expresivas diseñadas para que trabajar con datos \"relacionales\" o \"etiquetados\" sea fácil e intuitivo.\n",
        "\n",
        "### Estructuras de datos\n",
        "Pandas presenta dos nuevas estructuras de datos en Python: Series y DataFrame, ambas construidas sobre NumPy (esto significa que es rápido).\n",
        "\n",
        "\n",
        "#### Serie\n",
        "\n",
        "Este es un objeto unidimensional similar a la columna en una hoja de cálculo o tabla SQL. De forma predeterminada, a cada elemento se le asignará una etiqueta de índice de `0` a `N`."
      ]
    },
    {
      "cell_type": "code",
      "execution_count": 1,
      "metadata": {
        "id": "_6Ivxpg87Xpu"
      },
      "outputs": [],
      "source": [
        "import pandas as pd\n",
        "import numpy as np\n",
        "import matplotlib.pyplot as plt"
      ]
    },
    {
      "cell_type": "code",
      "execution_count": 2,
      "metadata": {
        "colab": {
          "base_uri": "https://localhost:8080/"
        },
        "id": "El1ASrOeAMve",
        "outputId": "e2e97274-28a2-4d98-837b-621c7916eecf"
      },
      "outputs": [
        {
          "output_type": "stream",
          "name": "stdout",
          "text": [
            "A    1.0\n",
            "B    3.0\n",
            "C    4.0\n",
            "D    NaN\n",
            "E    5.0\n",
            "F    6.0\n",
            "dtype: float64\n"
          ]
        }
      ],
      "source": [
        "s = pd.Series([1,3,4,np.nan, 5, 6], index = ['A', 'B', 'C', 'D', 'E', 'F'])\n",
        "print(s)"
      ]
    },
    {
      "cell_type": "markdown",
      "metadata": {
        "id": "1V0ty8qDAwC8"
      },
      "source": [
        "Si creas una serie utilizando el diccionario, la clave se convertirá en el índice de forma predeterminada."
      ]
    },
    {
      "cell_type": "code",
      "execution_count": 3,
      "metadata": {
        "colab": {
          "base_uri": "https://localhost:8080/"
        },
        "id": "Gavd17DGAgfV",
        "outputId": "e81bd03e-ad50-4ff5-94f8-a928f998aca8"
      },
      "outputs": [
        {
          "output_type": "execute_result",
          "data": {
            "text/plain": [
              "{'A': 1, 'B': 2, 'C': 3, 'D': nan, 'E': 5, 'F': 6}"
            ]
          },
          "metadata": {},
          "execution_count": 3
        }
      ],
      "source": [
        "dict_ejemplo = {'A': 1, 'B':2, 'C':3, 'D':np.nan, 'E': 5, 'F': 6}\n",
        "dict_ejemplo"
      ]
    },
    {
      "cell_type": "code",
      "execution_count": 4,
      "metadata": {
        "colab": {
          "base_uri": "https://localhost:8080/"
        },
        "id": "EDXTx0FlBTHj",
        "outputId": "12d276e1-d2f8-432f-c035-874d5d6cfbd4"
      },
      "outputs": [
        {
          "output_type": "stream",
          "name": "stdout",
          "text": [
            "A    1.0\n",
            "B    2.0\n",
            "C    3.0\n",
            "D    NaN\n",
            "E    5.0\n",
            "F    6.0\n",
            "dtype: float64\n"
          ]
        }
      ],
      "source": [
        "s = pd.Series(dict_ejemplo)\n",
        "print(s)"
      ]
    },
    {
      "cell_type": "markdown",
      "metadata": {
        "id": "KKEKfZrdE231"
      },
      "source": [
        "La contraparte bidimensional de las series unidimensionales es el DataFrame."
      ]
    },
    {
      "cell_type": "markdown",
      "metadata": {
        "id": "khVQ3e1FBrPA"
      },
      "source": [
        "### DataFrame\n",
        "\n",
        "Es un objeto bidimensional similar a una hoja de cálculo o una tabla SQL. Este es el objeto Pandas más utilizado.\n"
      ]
    },
    {
      "cell_type": "code",
      "execution_count": 5,
      "metadata": {
        "colab": {
          "base_uri": "https://localhost:8080/",
          "height": 144
        },
        "id": "HEEaxqFvBZeK",
        "outputId": "40661eda-772a-4ef5-d116-bf27c55d55fd"
      },
      "outputs": [
        {
          "output_type": "execute_result",
          "data": {
            "text/plain": [
              "  Emp_ID Genero  Edad\n",
              "0    E01      F    25\n",
              "1    E02      M    27\n",
              "2    E03      M    25"
            ],
            "text/html": [
              "\n",
              "  <div id=\"df-feb7f688-2e75-4147-9c80-560bb27d18a4\">\n",
              "    <div class=\"colab-df-container\">\n",
              "      <div>\n",
              "<style scoped>\n",
              "    .dataframe tbody tr th:only-of-type {\n",
              "        vertical-align: middle;\n",
              "    }\n",
              "\n",
              "    .dataframe tbody tr th {\n",
              "        vertical-align: top;\n",
              "    }\n",
              "\n",
              "    .dataframe thead th {\n",
              "        text-align: right;\n",
              "    }\n",
              "</style>\n",
              "<table border=\"1\" class=\"dataframe\">\n",
              "  <thead>\n",
              "    <tr style=\"text-align: right;\">\n",
              "      <th></th>\n",
              "      <th>Emp_ID</th>\n",
              "      <th>Genero</th>\n",
              "      <th>Edad</th>\n",
              "    </tr>\n",
              "  </thead>\n",
              "  <tbody>\n",
              "    <tr>\n",
              "      <th>0</th>\n",
              "      <td>E01</td>\n",
              "      <td>F</td>\n",
              "      <td>25</td>\n",
              "    </tr>\n",
              "    <tr>\n",
              "      <th>1</th>\n",
              "      <td>E02</td>\n",
              "      <td>M</td>\n",
              "      <td>27</td>\n",
              "    </tr>\n",
              "    <tr>\n",
              "      <th>2</th>\n",
              "      <td>E03</td>\n",
              "      <td>M</td>\n",
              "      <td>25</td>\n",
              "    </tr>\n",
              "  </tbody>\n",
              "</table>\n",
              "</div>\n",
              "      <button class=\"colab-df-convert\" onclick=\"convertToInteractive('df-feb7f688-2e75-4147-9c80-560bb27d18a4')\"\n",
              "              title=\"Convert this dataframe to an interactive table.\"\n",
              "              style=\"display:none;\">\n",
              "        \n",
              "  <svg xmlns=\"http://www.w3.org/2000/svg\" height=\"24px\"viewBox=\"0 0 24 24\"\n",
              "       width=\"24px\">\n",
              "    <path d=\"M0 0h24v24H0V0z\" fill=\"none\"/>\n",
              "    <path d=\"M18.56 5.44l.94 2.06.94-2.06 2.06-.94-2.06-.94-.94-2.06-.94 2.06-2.06.94zm-11 1L8.5 8.5l.94-2.06 2.06-.94-2.06-.94L8.5 2.5l-.94 2.06-2.06.94zm10 10l.94 2.06.94-2.06 2.06-.94-2.06-.94-.94-2.06-.94 2.06-2.06.94z\"/><path d=\"M17.41 7.96l-1.37-1.37c-.4-.4-.92-.59-1.43-.59-.52 0-1.04.2-1.43.59L10.3 9.45l-7.72 7.72c-.78.78-.78 2.05 0 2.83L4 21.41c.39.39.9.59 1.41.59.51 0 1.02-.2 1.41-.59l7.78-7.78 2.81-2.81c.8-.78.8-2.07 0-2.86zM5.41 20L4 18.59l7.72-7.72 1.47 1.35L5.41 20z\"/>\n",
              "  </svg>\n",
              "      </button>\n",
              "      \n",
              "  <style>\n",
              "    .colab-df-container {\n",
              "      display:flex;\n",
              "      flex-wrap:wrap;\n",
              "      gap: 12px;\n",
              "    }\n",
              "\n",
              "    .colab-df-convert {\n",
              "      background-color: #E8F0FE;\n",
              "      border: none;\n",
              "      border-radius: 50%;\n",
              "      cursor: pointer;\n",
              "      display: none;\n",
              "      fill: #1967D2;\n",
              "      height: 32px;\n",
              "      padding: 0 0 0 0;\n",
              "      width: 32px;\n",
              "    }\n",
              "\n",
              "    .colab-df-convert:hover {\n",
              "      background-color: #E2EBFA;\n",
              "      box-shadow: 0px 1px 2px rgba(60, 64, 67, 0.3), 0px 1px 3px 1px rgba(60, 64, 67, 0.15);\n",
              "      fill: #174EA6;\n",
              "    }\n",
              "\n",
              "    [theme=dark] .colab-df-convert {\n",
              "      background-color: #3B4455;\n",
              "      fill: #D2E3FC;\n",
              "    }\n",
              "\n",
              "    [theme=dark] .colab-df-convert:hover {\n",
              "      background-color: #434B5C;\n",
              "      box-shadow: 0px 1px 3px 1px rgba(0, 0, 0, 0.15);\n",
              "      filter: drop-shadow(0px 1px 2px rgba(0, 0, 0, 0.3));\n",
              "      fill: #FFFFFF;\n",
              "    }\n",
              "  </style>\n",
              "\n",
              "      <script>\n",
              "        const buttonEl =\n",
              "          document.querySelector('#df-feb7f688-2e75-4147-9c80-560bb27d18a4 button.colab-df-convert');\n",
              "        buttonEl.style.display =\n",
              "          google.colab.kernel.accessAllowed ? 'block' : 'none';\n",
              "\n",
              "        async function convertToInteractive(key) {\n",
              "          const element = document.querySelector('#df-feb7f688-2e75-4147-9c80-560bb27d18a4');\n",
              "          const dataTable =\n",
              "            await google.colab.kernel.invokeFunction('convertToInteractive',\n",
              "                                                     [key], {});\n",
              "          if (!dataTable) return;\n",
              "\n",
              "          const docLinkHtml = 'Like what you see? Visit the ' +\n",
              "            '<a target=\"_blank\" href=https://colab.research.google.com/notebooks/data_table.ipynb>data table notebook</a>'\n",
              "            + ' to learn more about interactive tables.';\n",
              "          element.innerHTML = '';\n",
              "          dataTable['output_type'] = 'display_data';\n",
              "          await google.colab.output.renderOutput(dataTable, element);\n",
              "          const docLink = document.createElement('div');\n",
              "          docLink.innerHTML = docLinkHtml;\n",
              "          element.appendChild(docLink);\n",
              "        }\n",
              "      </script>\n",
              "    </div>\n",
              "  </div>\n",
              "  "
            ]
          },
          "metadata": {},
          "execution_count": 5
        }
      ],
      "source": [
        "data = {'Genero': ['F', 'M', 'M'],\n",
        "        'Emp_ID': ['E01', 'E02', 'E03'],\n",
        "        'Edad': [25, 27, 25]}\n",
        "# Si queremos el orden de las columnas, especificamos en el parametro columns\n",
        "df = pd.DataFrame(data, columns=['Emp_ID', 'Genero', 'Edad'])\n",
        "df"
      ]
    },
    {
      "cell_type": "markdown",
      "metadata": {
        "id": "VJvTVteQCuY6"
      },
      "source": [
        "#### Lectura y escritura de datos\n",
        "\n",
        "Veremos tres formatos de archivo de uso común: csv, archivo de texto y Excel."
      ]
    },
    {
      "cell_type": "code",
      "execution_count": 8,
      "metadata": {
        "colab": {
          "base_uri": "https://localhost:8080/",
          "height": 206
        },
        "id": "XCMbYN2TEmXV",
        "outputId": "d5db8a73-ca35-4de5-eacf-5feaf64f7fe8"
      },
      "outputs": [
        {
          "output_type": "execute_result",
          "data": {
            "text/plain": [
              "               model   mpg  cyl   disp   hp  drat     wt   qsec  vs  am  gear  \\\n",
              "0          Mazda RX4  21.0    6  160.0  110  3.90  2.620  16.46   0   1     4   \n",
              "1      Mazda RX4 Wag  21.0    6  160.0  110  3.90  2.875  17.02   0   1     4   \n",
              "2         Datsun 710  22.8    4  108.0   93  3.85  2.320  18.61   1   1     4   \n",
              "3     Hornet 4 Drive  21.4    6  258.0  110  3.08  3.215  19.44   1   0     3   \n",
              "4  Hornet Sportabout  18.7    8  360.0  175  3.15  3.440  17.02   0   0     3   \n",
              "\n",
              "   carb  \n",
              "0     4  \n",
              "1     4  \n",
              "2     1  \n",
              "3     1  \n",
              "4     2  "
            ],
            "text/html": [
              "\n",
              "  <div id=\"df-eca73ef2-aaf1-4852-9cbb-b4c8e88c72c6\">\n",
              "    <div class=\"colab-df-container\">\n",
              "      <div>\n",
              "<style scoped>\n",
              "    .dataframe tbody tr th:only-of-type {\n",
              "        vertical-align: middle;\n",
              "    }\n",
              "\n",
              "    .dataframe tbody tr th {\n",
              "        vertical-align: top;\n",
              "    }\n",
              "\n",
              "    .dataframe thead th {\n",
              "        text-align: right;\n",
              "    }\n",
              "</style>\n",
              "<table border=\"1\" class=\"dataframe\">\n",
              "  <thead>\n",
              "    <tr style=\"text-align: right;\">\n",
              "      <th></th>\n",
              "      <th>model</th>\n",
              "      <th>mpg</th>\n",
              "      <th>cyl</th>\n",
              "      <th>disp</th>\n",
              "      <th>hp</th>\n",
              "      <th>drat</th>\n",
              "      <th>wt</th>\n",
              "      <th>qsec</th>\n",
              "      <th>vs</th>\n",
              "      <th>am</th>\n",
              "      <th>gear</th>\n",
              "      <th>carb</th>\n",
              "    </tr>\n",
              "  </thead>\n",
              "  <tbody>\n",
              "    <tr>\n",
              "      <th>0</th>\n",
              "      <td>Mazda RX4</td>\n",
              "      <td>21.0</td>\n",
              "      <td>6</td>\n",
              "      <td>160.0</td>\n",
              "      <td>110</td>\n",
              "      <td>3.90</td>\n",
              "      <td>2.620</td>\n",
              "      <td>16.46</td>\n",
              "      <td>0</td>\n",
              "      <td>1</td>\n",
              "      <td>4</td>\n",
              "      <td>4</td>\n",
              "    </tr>\n",
              "    <tr>\n",
              "      <th>1</th>\n",
              "      <td>Mazda RX4 Wag</td>\n",
              "      <td>21.0</td>\n",
              "      <td>6</td>\n",
              "      <td>160.0</td>\n",
              "      <td>110</td>\n",
              "      <td>3.90</td>\n",
              "      <td>2.875</td>\n",
              "      <td>17.02</td>\n",
              "      <td>0</td>\n",
              "      <td>1</td>\n",
              "      <td>4</td>\n",
              "      <td>4</td>\n",
              "    </tr>\n",
              "    <tr>\n",
              "      <th>2</th>\n",
              "      <td>Datsun 710</td>\n",
              "      <td>22.8</td>\n",
              "      <td>4</td>\n",
              "      <td>108.0</td>\n",
              "      <td>93</td>\n",
              "      <td>3.85</td>\n",
              "      <td>2.320</td>\n",
              "      <td>18.61</td>\n",
              "      <td>1</td>\n",
              "      <td>1</td>\n",
              "      <td>4</td>\n",
              "      <td>1</td>\n",
              "    </tr>\n",
              "    <tr>\n",
              "      <th>3</th>\n",
              "      <td>Hornet 4 Drive</td>\n",
              "      <td>21.4</td>\n",
              "      <td>6</td>\n",
              "      <td>258.0</td>\n",
              "      <td>110</td>\n",
              "      <td>3.08</td>\n",
              "      <td>3.215</td>\n",
              "      <td>19.44</td>\n",
              "      <td>1</td>\n",
              "      <td>0</td>\n",
              "      <td>3</td>\n",
              "      <td>1</td>\n",
              "    </tr>\n",
              "    <tr>\n",
              "      <th>4</th>\n",
              "      <td>Hornet Sportabout</td>\n",
              "      <td>18.7</td>\n",
              "      <td>8</td>\n",
              "      <td>360.0</td>\n",
              "      <td>175</td>\n",
              "      <td>3.15</td>\n",
              "      <td>3.440</td>\n",
              "      <td>17.02</td>\n",
              "      <td>0</td>\n",
              "      <td>0</td>\n",
              "      <td>3</td>\n",
              "      <td>2</td>\n",
              "    </tr>\n",
              "  </tbody>\n",
              "</table>\n",
              "</div>\n",
              "      <button class=\"colab-df-convert\" onclick=\"convertToInteractive('df-eca73ef2-aaf1-4852-9cbb-b4c8e88c72c6')\"\n",
              "              title=\"Convert this dataframe to an interactive table.\"\n",
              "              style=\"display:none;\">\n",
              "        \n",
              "  <svg xmlns=\"http://www.w3.org/2000/svg\" height=\"24px\"viewBox=\"0 0 24 24\"\n",
              "       width=\"24px\">\n",
              "    <path d=\"M0 0h24v24H0V0z\" fill=\"none\"/>\n",
              "    <path d=\"M18.56 5.44l.94 2.06.94-2.06 2.06-.94-2.06-.94-.94-2.06-.94 2.06-2.06.94zm-11 1L8.5 8.5l.94-2.06 2.06-.94-2.06-.94L8.5 2.5l-.94 2.06-2.06.94zm10 10l.94 2.06.94-2.06 2.06-.94-2.06-.94-.94-2.06-.94 2.06-2.06.94z\"/><path d=\"M17.41 7.96l-1.37-1.37c-.4-.4-.92-.59-1.43-.59-.52 0-1.04.2-1.43.59L10.3 9.45l-7.72 7.72c-.78.78-.78 2.05 0 2.83L4 21.41c.39.39.9.59 1.41.59.51 0 1.02-.2 1.41-.59l7.78-7.78 2.81-2.81c.8-.78.8-2.07 0-2.86zM5.41 20L4 18.59l7.72-7.72 1.47 1.35L5.41 20z\"/>\n",
              "  </svg>\n",
              "      </button>\n",
              "      \n",
              "  <style>\n",
              "    .colab-df-container {\n",
              "      display:flex;\n",
              "      flex-wrap:wrap;\n",
              "      gap: 12px;\n",
              "    }\n",
              "\n",
              "    .colab-df-convert {\n",
              "      background-color: #E8F0FE;\n",
              "      border: none;\n",
              "      border-radius: 50%;\n",
              "      cursor: pointer;\n",
              "      display: none;\n",
              "      fill: #1967D2;\n",
              "      height: 32px;\n",
              "      padding: 0 0 0 0;\n",
              "      width: 32px;\n",
              "    }\n",
              "\n",
              "    .colab-df-convert:hover {\n",
              "      background-color: #E2EBFA;\n",
              "      box-shadow: 0px 1px 2px rgba(60, 64, 67, 0.3), 0px 1px 3px 1px rgba(60, 64, 67, 0.15);\n",
              "      fill: #174EA6;\n",
              "    }\n",
              "\n",
              "    [theme=dark] .colab-df-convert {\n",
              "      background-color: #3B4455;\n",
              "      fill: #D2E3FC;\n",
              "    }\n",
              "\n",
              "    [theme=dark] .colab-df-convert:hover {\n",
              "      background-color: #434B5C;\n",
              "      box-shadow: 0px 1px 3px 1px rgba(0, 0, 0, 0.15);\n",
              "      filter: drop-shadow(0px 1px 2px rgba(0, 0, 0, 0.3));\n",
              "      fill: #FFFFFF;\n",
              "    }\n",
              "  </style>\n",
              "\n",
              "      <script>\n",
              "        const buttonEl =\n",
              "          document.querySelector('#df-eca73ef2-aaf1-4852-9cbb-b4c8e88c72c6 button.colab-df-convert');\n",
              "        buttonEl.style.display =\n",
              "          google.colab.kernel.accessAllowed ? 'block' : 'none';\n",
              "\n",
              "        async function convertToInteractive(key) {\n",
              "          const element = document.querySelector('#df-eca73ef2-aaf1-4852-9cbb-b4c8e88c72c6');\n",
              "          const dataTable =\n",
              "            await google.colab.kernel.invokeFunction('convertToInteractive',\n",
              "                                                     [key], {});\n",
              "          if (!dataTable) return;\n",
              "\n",
              "          const docLinkHtml = 'Like what you see? Visit the ' +\n",
              "            '<a target=\"_blank\" href=https://colab.research.google.com/notebooks/data_table.ipynb>data table notebook</a>'\n",
              "            + ' to learn more about interactive tables.';\n",
              "          element.innerHTML = '';\n",
              "          dataTable['output_type'] = 'display_data';\n",
              "          await google.colab.output.renderOutput(dataTable, element);\n",
              "          const docLink = document.createElement('div');\n",
              "          docLink.innerHTML = docLinkHtml;\n",
              "          element.appendChild(docLink);\n",
              "        }\n",
              "      </script>\n",
              "    </div>\n",
              "  </div>\n",
              "  "
            ]
          },
          "metadata": {},
          "execution_count": 8
        }
      ],
      "source": [
        "# Leyendo desde un archivo csv\n",
        "df=pd.read_csv('mtcars.csv')\n",
        "df.head()"
      ]
    },
    {
      "cell_type": "code",
      "execution_count": 12,
      "metadata": {
        "id": "4JoGt04EE_vr",
        "colab": {
          "base_uri": "https://localhost:8080/",
          "height": 206
        },
        "outputId": "9027944b-4460-4a12-995d-2e05e5faf8e4"
      },
      "outputs": [
        {
          "output_type": "execute_result",
          "data": {
            "text/plain": [
              "               model   mpg  cyl   disp   hp  drat     wt   qsec  vs  am  gear  \\\n",
              "0          Mazda RX4  21.0    6  160.0  110  3.90  2.620  16.46   0   1     4   \n",
              "1      Mazda RX4 Wag  21.0    6  160.0  110  3.90  2.875  17.02   0   1     4   \n",
              "2         Datsun 710  22.8    4  108.0   93  3.85  2.320  18.61   1   1     4   \n",
              "3     Hornet 4 Drive  21.4    6  258.0  110  3.08  3.215  19.44   1   0     3   \n",
              "4  Hornet Sportabout  18.7    8  360.0  175  3.15  3.440  17.02   0   0     3   \n",
              "\n",
              "   carb  \n",
              "0     4  \n",
              "1     4  \n",
              "2     1  \n",
              "3     1  \n",
              "4     2  "
            ],
            "text/html": [
              "\n",
              "  <div id=\"df-f7b22a84-014a-43c3-aa50-247c372f52e0\">\n",
              "    <div class=\"colab-df-container\">\n",
              "      <div>\n",
              "<style scoped>\n",
              "    .dataframe tbody tr th:only-of-type {\n",
              "        vertical-align: middle;\n",
              "    }\n",
              "\n",
              "    .dataframe tbody tr th {\n",
              "        vertical-align: top;\n",
              "    }\n",
              "\n",
              "    .dataframe thead th {\n",
              "        text-align: right;\n",
              "    }\n",
              "</style>\n",
              "<table border=\"1\" class=\"dataframe\">\n",
              "  <thead>\n",
              "    <tr style=\"text-align: right;\">\n",
              "      <th></th>\n",
              "      <th>model</th>\n",
              "      <th>mpg</th>\n",
              "      <th>cyl</th>\n",
              "      <th>disp</th>\n",
              "      <th>hp</th>\n",
              "      <th>drat</th>\n",
              "      <th>wt</th>\n",
              "      <th>qsec</th>\n",
              "      <th>vs</th>\n",
              "      <th>am</th>\n",
              "      <th>gear</th>\n",
              "      <th>carb</th>\n",
              "    </tr>\n",
              "  </thead>\n",
              "  <tbody>\n",
              "    <tr>\n",
              "      <th>0</th>\n",
              "      <td>Mazda RX4</td>\n",
              "      <td>21.0</td>\n",
              "      <td>6</td>\n",
              "      <td>160.0</td>\n",
              "      <td>110</td>\n",
              "      <td>3.90</td>\n",
              "      <td>2.620</td>\n",
              "      <td>16.46</td>\n",
              "      <td>0</td>\n",
              "      <td>1</td>\n",
              "      <td>4</td>\n",
              "      <td>4</td>\n",
              "    </tr>\n",
              "    <tr>\n",
              "      <th>1</th>\n",
              "      <td>Mazda RX4 Wag</td>\n",
              "      <td>21.0</td>\n",
              "      <td>6</td>\n",
              "      <td>160.0</td>\n",
              "      <td>110</td>\n",
              "      <td>3.90</td>\n",
              "      <td>2.875</td>\n",
              "      <td>17.02</td>\n",
              "      <td>0</td>\n",
              "      <td>1</td>\n",
              "      <td>4</td>\n",
              "      <td>4</td>\n",
              "    </tr>\n",
              "    <tr>\n",
              "      <th>2</th>\n",
              "      <td>Datsun 710</td>\n",
              "      <td>22.8</td>\n",
              "      <td>4</td>\n",
              "      <td>108.0</td>\n",
              "      <td>93</td>\n",
              "      <td>3.85</td>\n",
              "      <td>2.320</td>\n",
              "      <td>18.61</td>\n",
              "      <td>1</td>\n",
              "      <td>1</td>\n",
              "      <td>4</td>\n",
              "      <td>1</td>\n",
              "    </tr>\n",
              "    <tr>\n",
              "      <th>3</th>\n",
              "      <td>Hornet 4 Drive</td>\n",
              "      <td>21.4</td>\n",
              "      <td>6</td>\n",
              "      <td>258.0</td>\n",
              "      <td>110</td>\n",
              "      <td>3.08</td>\n",
              "      <td>3.215</td>\n",
              "      <td>19.44</td>\n",
              "      <td>1</td>\n",
              "      <td>0</td>\n",
              "      <td>3</td>\n",
              "      <td>1</td>\n",
              "    </tr>\n",
              "    <tr>\n",
              "      <th>4</th>\n",
              "      <td>Hornet Sportabout</td>\n",
              "      <td>18.7</td>\n",
              "      <td>8</td>\n",
              "      <td>360.0</td>\n",
              "      <td>175</td>\n",
              "      <td>3.15</td>\n",
              "      <td>3.440</td>\n",
              "      <td>17.02</td>\n",
              "      <td>0</td>\n",
              "      <td>0</td>\n",
              "      <td>3</td>\n",
              "      <td>2</td>\n",
              "    </tr>\n",
              "  </tbody>\n",
              "</table>\n",
              "</div>\n",
              "      <button class=\"colab-df-convert\" onclick=\"convertToInteractive('df-f7b22a84-014a-43c3-aa50-247c372f52e0')\"\n",
              "              title=\"Convert this dataframe to an interactive table.\"\n",
              "              style=\"display:none;\">\n",
              "        \n",
              "  <svg xmlns=\"http://www.w3.org/2000/svg\" height=\"24px\"viewBox=\"0 0 24 24\"\n",
              "       width=\"24px\">\n",
              "    <path d=\"M0 0h24v24H0V0z\" fill=\"none\"/>\n",
              "    <path d=\"M18.56 5.44l.94 2.06.94-2.06 2.06-.94-2.06-.94-.94-2.06-.94 2.06-2.06.94zm-11 1L8.5 8.5l.94-2.06 2.06-.94-2.06-.94L8.5 2.5l-.94 2.06-2.06.94zm10 10l.94 2.06.94-2.06 2.06-.94-2.06-.94-.94-2.06-.94 2.06-2.06.94z\"/><path d=\"M17.41 7.96l-1.37-1.37c-.4-.4-.92-.59-1.43-.59-.52 0-1.04.2-1.43.59L10.3 9.45l-7.72 7.72c-.78.78-.78 2.05 0 2.83L4 21.41c.39.39.9.59 1.41.59.51 0 1.02-.2 1.41-.59l7.78-7.78 2.81-2.81c.8-.78.8-2.07 0-2.86zM5.41 20L4 18.59l7.72-7.72 1.47 1.35L5.41 20z\"/>\n",
              "  </svg>\n",
              "      </button>\n",
              "      \n",
              "  <style>\n",
              "    .colab-df-container {\n",
              "      display:flex;\n",
              "      flex-wrap:wrap;\n",
              "      gap: 12px;\n",
              "    }\n",
              "\n",
              "    .colab-df-convert {\n",
              "      background-color: #E8F0FE;\n",
              "      border: none;\n",
              "      border-radius: 50%;\n",
              "      cursor: pointer;\n",
              "      display: none;\n",
              "      fill: #1967D2;\n",
              "      height: 32px;\n",
              "      padding: 0 0 0 0;\n",
              "      width: 32px;\n",
              "    }\n",
              "\n",
              "    .colab-df-convert:hover {\n",
              "      background-color: #E2EBFA;\n",
              "      box-shadow: 0px 1px 2px rgba(60, 64, 67, 0.3), 0px 1px 3px 1px rgba(60, 64, 67, 0.15);\n",
              "      fill: #174EA6;\n",
              "    }\n",
              "\n",
              "    [theme=dark] .colab-df-convert {\n",
              "      background-color: #3B4455;\n",
              "      fill: #D2E3FC;\n",
              "    }\n",
              "\n",
              "    [theme=dark] .colab-df-convert:hover {\n",
              "      background-color: #434B5C;\n",
              "      box-shadow: 0px 1px 3px 1px rgba(0, 0, 0, 0.15);\n",
              "      filter: drop-shadow(0px 1px 2px rgba(0, 0, 0, 0.3));\n",
              "      fill: #FFFFFF;\n",
              "    }\n",
              "  </style>\n",
              "\n",
              "      <script>\n",
              "        const buttonEl =\n",
              "          document.querySelector('#df-f7b22a84-014a-43c3-aa50-247c372f52e0 button.colab-df-convert');\n",
              "        buttonEl.style.display =\n",
              "          google.colab.kernel.accessAllowed ? 'block' : 'none';\n",
              "\n",
              "        async function convertToInteractive(key) {\n",
              "          const element = document.querySelector('#df-f7b22a84-014a-43c3-aa50-247c372f52e0');\n",
              "          const dataTable =\n",
              "            await google.colab.kernel.invokeFunction('convertToInteractive',\n",
              "                                                     [key], {});\n",
              "          if (!dataTable) return;\n",
              "\n",
              "          const docLinkHtml = 'Like what you see? Visit the ' +\n",
              "            '<a target=\"_blank\" href=https://colab.research.google.com/notebooks/data_table.ipynb>data table notebook</a>'\n",
              "            + ' to learn more about interactive tables.';\n",
              "          element.innerHTML = '';\n",
              "          dataTable['output_type'] = 'display_data';\n",
              "          await google.colab.output.renderOutput(dataTable, element);\n",
              "          const docLink = document.createElement('div');\n",
              "          docLink.innerHTML = docLinkHtml;\n",
              "          element.appendChild(docLink);\n",
              "        }\n",
              "      </script>\n",
              "    </div>\n",
              "  </div>\n",
              "  "
            ]
          },
          "metadata": {},
          "execution_count": 12
        }
      ],
      "source": [
        "# Escribir un csv\n",
        "# index = False - no escribe los valores de indice, el valor predeterminado es True\n",
        "# completar\n",
        "import pandas as pd\n",
        "\n",
        "# Lectura de un archivo CSV\n",
        "data = pd.read_csv('mtcars.csv')\n",
        "\n",
        "# Escritura de un archivo CSV\n",
        "data.to_csv('mtcars.csv', index=False)\n",
        "data.head()"
      ]
    },
    {
      "cell_type": "code",
      "execution_count": 10,
      "metadata": {
        "id": "YoHlMIShFRCt",
        "colab": {
          "base_uri": "https://localhost:8080/",
          "height": 206
        },
        "outputId": "9e0ce2a7-892e-4eaa-f3d2-96edc9e6d4ac"
      },
      "outputs": [
        {
          "output_type": "execute_result",
          "data": {
            "text/plain": [
              "               model   mpg  cyl   disp   hp  drat     wt   qsec  vs  am  gear  \\\n",
              "0          Mazda RX4  21.0    6  160.0  110  3.90  2.620  16.46   0   1     4   \n",
              "1      Mazda RX4 Wag  21.0    6  160.0  110  3.90  2.875  17.02   0   1     4   \n",
              "2         Datsun 710  22.8    4  108.0   93  3.85  2.320  18.61   1   1     4   \n",
              "3     Hornet 4 Drive  21.4    6  258.0  110  3.08  3.215  19.44   1   0     3   \n",
              "4  Hornet Sportabout  18.7    8  360.0  175  3.15  3.440  17.02   0   0     3   \n",
              "\n",
              "   carb  \n",
              "0     4  \n",
              "1     4  \n",
              "2     1  \n",
              "3     1  \n",
              "4     2  "
            ],
            "text/html": [
              "\n",
              "  <div id=\"df-1c6cc6cc-0103-4947-88f8-14c7860277bc\">\n",
              "    <div class=\"colab-df-container\">\n",
              "      <div>\n",
              "<style scoped>\n",
              "    .dataframe tbody tr th:only-of-type {\n",
              "        vertical-align: middle;\n",
              "    }\n",
              "\n",
              "    .dataframe tbody tr th {\n",
              "        vertical-align: top;\n",
              "    }\n",
              "\n",
              "    .dataframe thead th {\n",
              "        text-align: right;\n",
              "    }\n",
              "</style>\n",
              "<table border=\"1\" class=\"dataframe\">\n",
              "  <thead>\n",
              "    <tr style=\"text-align: right;\">\n",
              "      <th></th>\n",
              "      <th>model</th>\n",
              "      <th>mpg</th>\n",
              "      <th>cyl</th>\n",
              "      <th>disp</th>\n",
              "      <th>hp</th>\n",
              "      <th>drat</th>\n",
              "      <th>wt</th>\n",
              "      <th>qsec</th>\n",
              "      <th>vs</th>\n",
              "      <th>am</th>\n",
              "      <th>gear</th>\n",
              "      <th>carb</th>\n",
              "    </tr>\n",
              "  </thead>\n",
              "  <tbody>\n",
              "    <tr>\n",
              "      <th>0</th>\n",
              "      <td>Mazda RX4</td>\n",
              "      <td>21.0</td>\n",
              "      <td>6</td>\n",
              "      <td>160.0</td>\n",
              "      <td>110</td>\n",
              "      <td>3.90</td>\n",
              "      <td>2.620</td>\n",
              "      <td>16.46</td>\n",
              "      <td>0</td>\n",
              "      <td>1</td>\n",
              "      <td>4</td>\n",
              "      <td>4</td>\n",
              "    </tr>\n",
              "    <tr>\n",
              "      <th>1</th>\n",
              "      <td>Mazda RX4 Wag</td>\n",
              "      <td>21.0</td>\n",
              "      <td>6</td>\n",
              "      <td>160.0</td>\n",
              "      <td>110</td>\n",
              "      <td>3.90</td>\n",
              "      <td>2.875</td>\n",
              "      <td>17.02</td>\n",
              "      <td>0</td>\n",
              "      <td>1</td>\n",
              "      <td>4</td>\n",
              "      <td>4</td>\n",
              "    </tr>\n",
              "    <tr>\n",
              "      <th>2</th>\n",
              "      <td>Datsun 710</td>\n",
              "      <td>22.8</td>\n",
              "      <td>4</td>\n",
              "      <td>108.0</td>\n",
              "      <td>93</td>\n",
              "      <td>3.85</td>\n",
              "      <td>2.320</td>\n",
              "      <td>18.61</td>\n",
              "      <td>1</td>\n",
              "      <td>1</td>\n",
              "      <td>4</td>\n",
              "      <td>1</td>\n",
              "    </tr>\n",
              "    <tr>\n",
              "      <th>3</th>\n",
              "      <td>Hornet 4 Drive</td>\n",
              "      <td>21.4</td>\n",
              "      <td>6</td>\n",
              "      <td>258.0</td>\n",
              "      <td>110</td>\n",
              "      <td>3.08</td>\n",
              "      <td>3.215</td>\n",
              "      <td>19.44</td>\n",
              "      <td>1</td>\n",
              "      <td>0</td>\n",
              "      <td>3</td>\n",
              "      <td>1</td>\n",
              "    </tr>\n",
              "    <tr>\n",
              "      <th>4</th>\n",
              "      <td>Hornet Sportabout</td>\n",
              "      <td>18.7</td>\n",
              "      <td>8</td>\n",
              "      <td>360.0</td>\n",
              "      <td>175</td>\n",
              "      <td>3.15</td>\n",
              "      <td>3.440</td>\n",
              "      <td>17.02</td>\n",
              "      <td>0</td>\n",
              "      <td>0</td>\n",
              "      <td>3</td>\n",
              "      <td>2</td>\n",
              "    </tr>\n",
              "  </tbody>\n",
              "</table>\n",
              "</div>\n",
              "      <button class=\"colab-df-convert\" onclick=\"convertToInteractive('df-1c6cc6cc-0103-4947-88f8-14c7860277bc')\"\n",
              "              title=\"Convert this dataframe to an interactive table.\"\n",
              "              style=\"display:none;\">\n",
              "        \n",
              "  <svg xmlns=\"http://www.w3.org/2000/svg\" height=\"24px\"viewBox=\"0 0 24 24\"\n",
              "       width=\"24px\">\n",
              "    <path d=\"M0 0h24v24H0V0z\" fill=\"none\"/>\n",
              "    <path d=\"M18.56 5.44l.94 2.06.94-2.06 2.06-.94-2.06-.94-.94-2.06-.94 2.06-2.06.94zm-11 1L8.5 8.5l.94-2.06 2.06-.94-2.06-.94L8.5 2.5l-.94 2.06-2.06.94zm10 10l.94 2.06.94-2.06 2.06-.94-2.06-.94-.94-2.06-.94 2.06-2.06.94z\"/><path d=\"M17.41 7.96l-1.37-1.37c-.4-.4-.92-.59-1.43-.59-.52 0-1.04.2-1.43.59L10.3 9.45l-7.72 7.72c-.78.78-.78 2.05 0 2.83L4 21.41c.39.39.9.59 1.41.59.51 0 1.02-.2 1.41-.59l7.78-7.78 2.81-2.81c.8-.78.8-2.07 0-2.86zM5.41 20L4 18.59l7.72-7.72 1.47 1.35L5.41 20z\"/>\n",
              "  </svg>\n",
              "      </button>\n",
              "      \n",
              "  <style>\n",
              "    .colab-df-container {\n",
              "      display:flex;\n",
              "      flex-wrap:wrap;\n",
              "      gap: 12px;\n",
              "    }\n",
              "\n",
              "    .colab-df-convert {\n",
              "      background-color: #E8F0FE;\n",
              "      border: none;\n",
              "      border-radius: 50%;\n",
              "      cursor: pointer;\n",
              "      display: none;\n",
              "      fill: #1967D2;\n",
              "      height: 32px;\n",
              "      padding: 0 0 0 0;\n",
              "      width: 32px;\n",
              "    }\n",
              "\n",
              "    .colab-df-convert:hover {\n",
              "      background-color: #E2EBFA;\n",
              "      box-shadow: 0px 1px 2px rgba(60, 64, 67, 0.3), 0px 1px 3px 1px rgba(60, 64, 67, 0.15);\n",
              "      fill: #174EA6;\n",
              "    }\n",
              "\n",
              "    [theme=dark] .colab-df-convert {\n",
              "      background-color: #3B4455;\n",
              "      fill: #D2E3FC;\n",
              "    }\n",
              "\n",
              "    [theme=dark] .colab-df-convert:hover {\n",
              "      background-color: #434B5C;\n",
              "      box-shadow: 0px 1px 3px 1px rgba(0, 0, 0, 0.15);\n",
              "      filter: drop-shadow(0px 1px 2px rgba(0, 0, 0, 0.3));\n",
              "      fill: #FFFFFF;\n",
              "    }\n",
              "  </style>\n",
              "\n",
              "      <script>\n",
              "        const buttonEl =\n",
              "          document.querySelector('#df-1c6cc6cc-0103-4947-88f8-14c7860277bc button.colab-df-convert');\n",
              "        buttonEl.style.display =\n",
              "          google.colab.kernel.accessAllowed ? 'block' : 'none';\n",
              "\n",
              "        async function convertToInteractive(key) {\n",
              "          const element = document.querySelector('#df-1c6cc6cc-0103-4947-88f8-14c7860277bc');\n",
              "          const dataTable =\n",
              "            await google.colab.kernel.invokeFunction('convertToInteractive',\n",
              "                                                     [key], {});\n",
              "          if (!dataTable) return;\n",
              "\n",
              "          const docLinkHtml = 'Like what you see? Visit the ' +\n",
              "            '<a target=\"_blank\" href=https://colab.research.google.com/notebooks/data_table.ipynb>data table notebook</a>'\n",
              "            + ' to learn more about interactive tables.';\n",
              "          element.innerHTML = '';\n",
              "          dataTable['output_type'] = 'display_data';\n",
              "          await google.colab.output.renderOutput(dataTable, element);\n",
              "          const docLink = document.createElement('div');\n",
              "          docLink.innerHTML = docLinkHtml;\n",
              "          element.appendChild(docLink);\n",
              "        }\n",
              "      </script>\n",
              "    </div>\n",
              "  </div>\n",
              "  "
            ]
          },
          "metadata": {},
          "execution_count": 10
        }
      ],
      "source": [
        "# Leyendo desde un archivo .txt\n",
        "# df=pd.read_csv('Data/mtcars.txt', sep='\\t')\n",
        "# completar\n",
        "import pandas as pd\n",
        "\n",
        "# Lectura de un archivo de texto\n",
        "data = pd.read_table('mtcars.txt')\n",
        "\n",
        "# Escritura de un archivo de texto\n",
        "data.to_csv('mtcars.txt', index=False, sep='\\t')\n",
        "data.head()"
      ]
    },
    {
      "cell_type": "code",
      "execution_count": 15,
      "metadata": {
        "id": "e3Msn077GtuI",
        "colab": {
          "base_uri": "https://localhost:8080/",
          "height": 144
        },
        "outputId": "b5ce1361-1901-439f-86bc-5e00d26898ce"
      },
      "outputs": [
        {
          "output_type": "execute_result",
          "data": {
            "text/plain": [
              "   Columna1  Columna2\n",
              "0         1         4\n",
              "1         2         5\n",
              "2         3         6"
            ],
            "text/html": [
              "\n",
              "  <div id=\"df-0a5f0018-b66a-49d0-9ac4-68bb2935bead\">\n",
              "    <div class=\"colab-df-container\">\n",
              "      <div>\n",
              "<style scoped>\n",
              "    .dataframe tbody tr th:only-of-type {\n",
              "        vertical-align: middle;\n",
              "    }\n",
              "\n",
              "    .dataframe tbody tr th {\n",
              "        vertical-align: top;\n",
              "    }\n",
              "\n",
              "    .dataframe thead th {\n",
              "        text-align: right;\n",
              "    }\n",
              "</style>\n",
              "<table border=\"1\" class=\"dataframe\">\n",
              "  <thead>\n",
              "    <tr style=\"text-align: right;\">\n",
              "      <th></th>\n",
              "      <th>Columna1</th>\n",
              "      <th>Columna2</th>\n",
              "    </tr>\n",
              "  </thead>\n",
              "  <tbody>\n",
              "    <tr>\n",
              "      <th>0</th>\n",
              "      <td>1</td>\n",
              "      <td>4</td>\n",
              "    </tr>\n",
              "    <tr>\n",
              "      <th>1</th>\n",
              "      <td>2</td>\n",
              "      <td>5</td>\n",
              "    </tr>\n",
              "    <tr>\n",
              "      <th>2</th>\n",
              "      <td>3</td>\n",
              "      <td>6</td>\n",
              "    </tr>\n",
              "  </tbody>\n",
              "</table>\n",
              "</div>\n",
              "      <button class=\"colab-df-convert\" onclick=\"convertToInteractive('df-0a5f0018-b66a-49d0-9ac4-68bb2935bead')\"\n",
              "              title=\"Convert this dataframe to an interactive table.\"\n",
              "              style=\"display:none;\">\n",
              "        \n",
              "  <svg xmlns=\"http://www.w3.org/2000/svg\" height=\"24px\"viewBox=\"0 0 24 24\"\n",
              "       width=\"24px\">\n",
              "    <path d=\"M0 0h24v24H0V0z\" fill=\"none\"/>\n",
              "    <path d=\"M18.56 5.44l.94 2.06.94-2.06 2.06-.94-2.06-.94-.94-2.06-.94 2.06-2.06.94zm-11 1L8.5 8.5l.94-2.06 2.06-.94-2.06-.94L8.5 2.5l-.94 2.06-2.06.94zm10 10l.94 2.06.94-2.06 2.06-.94-2.06-.94-.94-2.06-.94 2.06-2.06.94z\"/><path d=\"M17.41 7.96l-1.37-1.37c-.4-.4-.92-.59-1.43-.59-.52 0-1.04.2-1.43.59L10.3 9.45l-7.72 7.72c-.78.78-.78 2.05 0 2.83L4 21.41c.39.39.9.59 1.41.59.51 0 1.02-.2 1.41-.59l7.78-7.78 2.81-2.81c.8-.78.8-2.07 0-2.86zM5.41 20L4 18.59l7.72-7.72 1.47 1.35L5.41 20z\"/>\n",
              "  </svg>\n",
              "      </button>\n",
              "      \n",
              "  <style>\n",
              "    .colab-df-container {\n",
              "      display:flex;\n",
              "      flex-wrap:wrap;\n",
              "      gap: 12px;\n",
              "    }\n",
              "\n",
              "    .colab-df-convert {\n",
              "      background-color: #E8F0FE;\n",
              "      border: none;\n",
              "      border-radius: 50%;\n",
              "      cursor: pointer;\n",
              "      display: none;\n",
              "      fill: #1967D2;\n",
              "      height: 32px;\n",
              "      padding: 0 0 0 0;\n",
              "      width: 32px;\n",
              "    }\n",
              "\n",
              "    .colab-df-convert:hover {\n",
              "      background-color: #E2EBFA;\n",
              "      box-shadow: 0px 1px 2px rgba(60, 64, 67, 0.3), 0px 1px 3px 1px rgba(60, 64, 67, 0.15);\n",
              "      fill: #174EA6;\n",
              "    }\n",
              "\n",
              "    [theme=dark] .colab-df-convert {\n",
              "      background-color: #3B4455;\n",
              "      fill: #D2E3FC;\n",
              "    }\n",
              "\n",
              "    [theme=dark] .colab-df-convert:hover {\n",
              "      background-color: #434B5C;\n",
              "      box-shadow: 0px 1px 3px 1px rgba(0, 0, 0, 0.15);\n",
              "      filter: drop-shadow(0px 1px 2px rgba(0, 0, 0, 0.3));\n",
              "      fill: #FFFFFF;\n",
              "    }\n",
              "  </style>\n",
              "\n",
              "      <script>\n",
              "        const buttonEl =\n",
              "          document.querySelector('#df-0a5f0018-b66a-49d0-9ac4-68bb2935bead button.colab-df-convert');\n",
              "        buttonEl.style.display =\n",
              "          google.colab.kernel.accessAllowed ? 'block' : 'none';\n",
              "\n",
              "        async function convertToInteractive(key) {\n",
              "          const element = document.querySelector('#df-0a5f0018-b66a-49d0-9ac4-68bb2935bead');\n",
              "          const dataTable =\n",
              "            await google.colab.kernel.invokeFunction('convertToInteractive',\n",
              "                                                     [key], {});\n",
              "          if (!dataTable) return;\n",
              "\n",
              "          const docLinkHtml = 'Like what you see? Visit the ' +\n",
              "            '<a target=\"_blank\" href=https://colab.research.google.com/notebooks/data_table.ipynb>data table notebook</a>'\n",
              "            + ' to learn more about interactive tables.';\n",
              "          element.innerHTML = '';\n",
              "          dataTable['output_type'] = 'display_data';\n",
              "          await google.colab.output.renderOutput(dataTable, element);\n",
              "          const docLink = document.createElement('div');\n",
              "          docLink.innerHTML = docLinkHtml;\n",
              "          element.appendChild(docLink);\n",
              "        }\n",
              "      </script>\n",
              "    </div>\n",
              "  </div>\n",
              "  "
            ]
          },
          "metadata": {},
          "execution_count": 15
        }
      ],
      "source": [
        "# Leyendo un archivo Excel\n",
        "#df=pd.read_excel('Data/mtcars.xlsx','Sheet2')\n",
        "# Completar\n",
        "import pandas as pd\n",
        "\n",
        "# Crear un DataFrame de ejemplo\n",
        "data = pd.DataFrame({'Columna1': [1, 2, 3], 'Columna2': [4, 5, 6]})\n",
        "\n",
        "# Escribir el DataFrame en un nuevo archivo de Excel con una hoja de trabajo llamada \"Hoja1\"\n",
        "data.to_excel('mtcars.xlsx', index=False, sheet_name='Hoja1')\n",
        "data.head()"
      ]
    },
    {
      "cell_type": "markdown",
      "metadata": {
        "id": "xWCcg3JGI0NR"
      },
      "source": [
        "### Resumen de estadísticas básicas\n"
      ]
    },
    {
      "cell_type": "code",
      "execution_count": 17,
      "metadata": {
        "colab": {
          "base_uri": "https://localhost:8080/"
        },
        "id": "54NqMh47HBCZ",
        "outputId": "24cc52ac-b3f0-4841-a3be-059b6fbc9b7f"
      },
      "outputs": [
        {
          "output_type": "stream",
          "name": "stdout",
          "text": [
            "             mpg        cyl        disp          hp       drat         wt  \\\n",
            "count  32.000000  32.000000   32.000000   32.000000  32.000000  32.000000   \n",
            "mean   20.090625   6.187500  230.721875  146.687500   3.596563   3.217250   \n",
            "std     6.026948   1.785922  123.938694   68.562868   0.534679   0.978457   \n",
            "min    10.400000   4.000000   71.100000   52.000000   2.760000   1.513000   \n",
            "25%    15.425000   4.000000  120.825000   96.500000   3.080000   2.581250   \n",
            "50%    19.200000   6.000000  196.300000  123.000000   3.695000   3.325000   \n",
            "75%    22.800000   8.000000  326.000000  180.000000   3.920000   3.610000   \n",
            "max    33.900000   8.000000  472.000000  335.000000   4.930000   5.424000   \n",
            "\n",
            "            qsec         vs         am       gear     carb  \n",
            "count  32.000000  32.000000  32.000000  32.000000  32.0000  \n",
            "mean   17.848750   0.437500   0.406250   3.687500   2.8125  \n",
            "std     1.786943   0.504016   0.498991   0.737804   1.6152  \n",
            "min    14.500000   0.000000   0.000000   3.000000   1.0000  \n",
            "25%    16.892500   0.000000   0.000000   3.000000   2.0000  \n",
            "50%    17.710000   0.000000   0.000000   4.000000   2.0000  \n",
            "75%    18.900000   1.000000   1.000000   4.000000   4.0000  \n",
            "max    22.900000   1.000000   1.000000   5.000000   8.0000  \n"
          ]
        }
      ],
      "source": [
        "#df = pd.read_csv('Data/iris.csv')\n",
        "# completar\n",
        "import pandas as pd\n",
        "\n",
        "# Lectura del archivo CSV\n",
        "df = pd.read_csv('mtcars.csv')\n",
        "\n",
        "# Resumen de estadísticas básicas\n",
        "summary_stats = df.describe()\n",
        "\n",
        "print(summary_stats)\n"
      ]
    },
    {
      "cell_type": "markdown",
      "metadata": {
        "id": "wkI0064bJHE0"
      },
      "source": [
        "#### Covarianza\n",
        ""
      ]
    },
    {
      "cell_type": "code",
      "execution_count": 18,
      "metadata": {
        "colab": {
          "base_uri": "https://localhost:8080/"
        },
        "id": "GlwA10C4JAyU",
        "outputId": "d2487e5f-6df8-457e-ef25-2e8f3a49fca9"
      },
      "outputs": [
        {
          "output_type": "stream",
          "name": "stdout",
          "text": [
            "             mpg         cyl          disp           hp       drat  \\\n",
            "mpg    36.324103   -9.172379   -633.097208  -320.732056   2.195064   \n",
            "cyl    -9.172379    3.189516    199.660282   101.931452  -0.668367   \n",
            "disp -633.097208  199.660282  15360.799829  6721.158669 -47.064019   \n",
            "hp   -320.732056  101.931452   6721.158669  4700.866935 -16.451109   \n",
            "drat    2.195064   -0.668367    -47.064019   -16.451109   0.285881   \n",
            "wt     -5.116685    1.367371    107.684204    44.192661  -0.372721   \n",
            "qsec    4.509149   -1.886855    -96.051681   -86.770081   0.087141   \n",
            "vs      2.017137   -0.729839    -44.377621   -24.987903   0.118649   \n",
            "am      1.803931   -0.465726    -36.564012    -8.320565   0.190151   \n",
            "gear    2.135685   -0.649194    -50.802621    -6.358871   0.275988   \n",
            "carb   -5.363105    1.520161     79.068750    83.036290  -0.078407   \n",
            "\n",
            "              wt       qsec         vs         am       gear       carb  \n",
            "mpg    -5.116685   4.509149   2.017137   1.803931   2.135685  -5.363105  \n",
            "cyl     1.367371  -1.886855  -0.729839  -0.465726  -0.649194   1.520161  \n",
            "disp  107.684204 -96.051681 -44.377621 -36.564012 -50.802621  79.068750  \n",
            "hp     44.192661 -86.770081 -24.987903  -8.320565  -6.358871  83.036290  \n",
            "drat   -0.372721   0.087141   0.118649   0.190151   0.275988  -0.078407  \n",
            "wt      0.957379  -0.305482  -0.273661  -0.338105  -0.421081   0.675790  \n",
            "qsec   -0.305482   3.193166   0.670565  -0.204960  -0.280403  -1.894113  \n",
            "vs     -0.273661   0.670565   0.254032   0.042339   0.076613  -0.463710  \n",
            "am     -0.338105  -0.204960   0.042339   0.248992   0.292339   0.046371  \n",
            "gear   -0.421081  -0.280403   0.076613   0.292339   0.544355   0.326613  \n",
            "carb    0.675790  -1.894113  -0.463710   0.046371   0.326613   2.608871  \n"
          ]
        },
        {
          "output_type": "stream",
          "name": "stderr",
          "text": [
            "<ipython-input-18-d06c1ea7b6b8>:9: FutureWarning: The default value of numeric_only in DataFrame.cov is deprecated. In a future version, it will default to False. Select only valid columns or specify the value of numeric_only to silence this warning.\n",
            "  covariance_matrix = df.cov()\n"
          ]
        }
      ],
      "source": [
        "# covarianza: devuelve la covarianza entre columnas adecuadas\n",
        "# completar\n",
        "import pandas as pd\n",
        "\n",
        "# Lectura del archivo CSV\n",
        "df = pd.read_csv('mtcars.csv')\n",
        "\n",
        "# Cálculo de la covarianza entre columnas\n",
        "covariance_matrix = df.cov()\n",
        "\n",
        "print(covariance_matrix)\n"
      ]
    },
    {
      "cell_type": "markdown",
      "metadata": {
        "id": "6Rj-HfKeKkUY"
      },
      "source": [
        "#### Correlación\n"
      ]
    },
    {
      "cell_type": "code",
      "execution_count": 20,
      "metadata": {
        "colab": {
          "base_uri": "https://localhost:8080/"
        },
        "id": "H_TLYjm5KbkP",
        "outputId": "0256cba0-5025-4b5e-a47e-045ef4b6d4f4"
      },
      "outputs": [
        {
          "output_type": "stream",
          "name": "stdout",
          "text": [
            "Index(['model', 'mpg', 'cyl', 'disp', 'hp', 'drat', 'wt', 'qsec', 'vs', 'am',\n",
            "       'gear', 'carb'],\n",
            "      dtype='object')\n"
          ]
        }
      ],
      "source": [
        "# completar\n",
        "import pandas as pd\n",
        "\n",
        "# Lectura del archivo CSV\n",
        "df = pd.read_csv('mtcars.csv')\n",
        "\n",
        "# Verificar los nombres de las columnas\n",
        "print(df.columns)\n",
        "\n"
      ]
    },
    {
      "cell_type": "code",
      "source": [
        "import pandas as pd\n",
        "\n",
        "# Lectura del archivo CSV\n",
        "df = pd.read_csv('mtcars.csv')\n",
        "\n",
        "# Cálculo de la matriz de correlación\n",
        "correlation_matrix = df.corr()\n",
        "\n",
        "print(correlation_matrix)\n",
        "\n"
      ],
      "metadata": {
        "colab": {
          "base_uri": "https://localhost:8080/"
        },
        "id": "1P2EXFliIjVA",
        "outputId": "3e23e155-cfa4-4ec6-8a7b-dbaed3627468"
      },
      "execution_count": 21,
      "outputs": [
        {
          "output_type": "stream",
          "name": "stdout",
          "text": [
            "           mpg       cyl      disp        hp      drat        wt      qsec  \\\n",
            "mpg   1.000000 -0.852162 -0.847551 -0.776168  0.681172 -0.867659  0.418684   \n",
            "cyl  -0.852162  1.000000  0.902033  0.832447 -0.699938  0.782496 -0.591242   \n",
            "disp -0.847551  0.902033  1.000000  0.790949 -0.710214  0.887980 -0.433698   \n",
            "hp   -0.776168  0.832447  0.790949  1.000000 -0.448759  0.658748 -0.708223   \n",
            "drat  0.681172 -0.699938 -0.710214 -0.448759  1.000000 -0.712441  0.091205   \n",
            "wt   -0.867659  0.782496  0.887980  0.658748 -0.712441  1.000000 -0.174716   \n",
            "qsec  0.418684 -0.591242 -0.433698 -0.708223  0.091205 -0.174716  1.000000   \n",
            "vs    0.664039 -0.810812 -0.710416 -0.723097  0.440278 -0.554916  0.744535   \n",
            "am    0.599832 -0.522607 -0.591227 -0.243204  0.712711 -0.692495 -0.229861   \n",
            "gear  0.480285 -0.492687 -0.555569 -0.125704  0.699610 -0.583287 -0.212682   \n",
            "carb -0.550925  0.526988  0.394977  0.749812 -0.090790  0.427606 -0.656249   \n",
            "\n",
            "            vs        am      gear      carb  \n",
            "mpg   0.664039  0.599832  0.480285 -0.550925  \n",
            "cyl  -0.810812 -0.522607 -0.492687  0.526988  \n",
            "disp -0.710416 -0.591227 -0.555569  0.394977  \n",
            "hp   -0.723097 -0.243204 -0.125704  0.749812  \n",
            "drat  0.440278  0.712711  0.699610 -0.090790  \n",
            "wt   -0.554916 -0.692495 -0.583287  0.427606  \n",
            "qsec  0.744535 -0.229861 -0.212682 -0.656249  \n",
            "vs    1.000000  0.168345  0.206023 -0.569607  \n",
            "am    0.168345  1.000000  0.794059  0.057534  \n",
            "gear  0.206023  0.794059  1.000000  0.274073  \n",
            "carb -0.569607  0.057534  0.274073  1.000000  \n"
          ]
        },
        {
          "output_type": "stream",
          "name": "stderr",
          "text": [
            "<ipython-input-21-d8d57f5c725a>:7: FutureWarning: The default value of numeric_only in DataFrame.corr is deprecated. In a future version, it will default to False. Select only valid columns or specify the value of numeric_only to silence this warning.\n",
            "  correlation_matrix = df.corr()\n"
          ]
        }
      ]
    },
    {
      "cell_type": "markdown",
      "metadata": {
        "id": "J64xxx5-Lk5t"
      },
      "source": [
        "### Visualización de datos\n",
        "Pandas DataFrame viene con funciones integradas para ver los datos contenidos:\n",
        "\n",
        "* Mirando los `n` primeros registros, el valor predeterminado de `n` es 5 si no se especifica:  `df.head(n=2)`.\n",
        "\n",
        "* Mirando los `n` registros inferiores: `df.tail()`\n",
        "\n",
        "* Obtener los nombres de las columnas: `df.columns`\n",
        "\n",
        "* Obtener los tipos de datos de las columnas: `df.types`\n",
        "\n",
        "* Obtener el índice del dataframe: `df.index`\n",
        "\n",
        "* Obtener valores únicos: `df[column_name].unique()`\n",
        "\n",
        "* Obtener valores: `df.values`\n",
        "\n",
        "* Ordenar el dataframe: `df.sort_values(by =['Column1', 'Column2'], ascending=[True,True'])`\n",
        "\n",
        "* Seleccionar/ver por el nombre de la columna: `df[column_name]`\n",
        "\n",
        "* Seleccionar/ver por número de fila `df[0:3]`\n",
        "\n",
        "* Selección por índice:\n",
        "\n",
        "- `df.loc[0:3] # índice de 0 a 3`\n",
        "- `df.loc[0:3,[‘column1’, ‘column2’]] # índice de 0 a 3 para las columnas específicas`\n",
        "\n",
        "* Selección por posición\n",
        "\n",
        "- `df.iloc[0:2] # usando el rango, primeras 2 filas`\n",
        "- `df.iloc[2,3,6] # posición específica`\n",
        "-  `df.iloc[0:2,0:2] # primeras 2 filas y primeras 2 columnas`\n",
        "\n",
        "* Selección sin que esté en el índice\n",
        "\n",
        "- `print(df.ix[1,1]) # valor de la primera fila y la primera columna`\n",
        "- `print(df.ix[:,2]) # todas las filas de la columna en la segunda posición`\n",
        "\n",
        "* Alternativa más rápida a `iloc` para obtener valores escalares: `print(df.iat[1,1])`\n",
        "\n",
        "* Transponer el dataframe: `df.T`\n",
        "\n",
        "* Filtrar DataFrame según la condición de valor para una columna: `df[df['column_name'] > 7.5]`\n",
        "\n",
        "* Filtrar DataFrame basado en una condición de valor en una columna: `df[df['column_name'].isin(['condition_value1', 'condition_value2'])]`\n",
        "\n",
        "* Filtro basado en múltiples condiciones en múltiples columnas usando el operador AND: `df[(df['column1']>7.5) & (df['column2']>3)]`\n",
        "\n",
        "* Filtro basado en múltiples condiciones en múltiples columnas usando el operador OR: `df[(df[‘column1’]>7.5) | (df['column2']>3)]`."
      ]
    },
    {
      "cell_type": "code",
      "execution_count": 37,
      "metadata": {
        "colab": {
          "base_uri": "https://localhost:8080/"
        },
        "id": "o5lOhc1sVNhu",
        "outputId": "646ea77d-a8bc-4777-e49b-5cbde8809e50"
      },
      "outputs": [
        {
          "output_type": "stream",
          "name": "stdout",
          "text": [
            "               model   mpg  cyl   disp   hp  drat     wt   qsec  vs  am  gear  \\\n",
            "0          Mazda RX4  21.0    6  160.0  110  3.90  2.620  16.46   0   1     4   \n",
            "1      Mazda RX4 Wag  21.0    6  160.0  110  3.90  2.875  17.02   0   1     4   \n",
            "2         Datsun 710  22.8    4  108.0   93  3.85  2.320  18.61   1   1     4   \n",
            "3     Hornet 4 Drive  21.4    6  258.0  110  3.08  3.215  19.44   1   0     3   \n",
            "4  Hornet Sportabout  18.7    8  360.0  175  3.15  3.440  17.02   0   0     3   \n",
            "\n",
            "   carb  \n",
            "0     4  \n",
            "1     4  \n",
            "2     1  \n",
            "3     1  \n",
            "4     2  \n",
            "             model   mpg  cyl   disp   hp  drat     wt  qsec  vs  am  gear  \\\n",
            "27    Lotus Europa  30.4    4   95.1  113  3.77  1.513  16.9   1   1     5   \n",
            "28  Ford Pantera L  15.8    8  351.0  264  4.22  3.170  14.5   0   1     5   \n",
            "29    Ferrari Dino  19.7    6  145.0  175  3.62  2.770  15.5   0   1     5   \n",
            "30   Maserati Bora  15.0    8  301.0  335  3.54  3.570  14.6   0   1     5   \n",
            "31      Volvo 142E  21.4    4  121.0  109  4.11  2.780  18.6   1   1     4   \n",
            "\n",
            "    carb  \n",
            "27     2  \n",
            "28     4  \n",
            "29     6  \n",
            "30     8  \n",
            "31     2  \n",
            "Nombres de las columnas: Index(['model', 'mpg', 'cyl', 'disp', 'hp', 'drat', 'wt', 'qsec', 'vs', 'am',\n",
            "       'gear', 'carb'],\n",
            "      dtype='object')\n",
            "Tipos de datos de las columnas: model     object\n",
            "mpg      float64\n",
            "cyl        int64\n",
            "disp     float64\n",
            "hp         int64\n",
            "drat     float64\n",
            "wt       float64\n",
            "qsec     float64\n",
            "vs         int64\n",
            "am         int64\n",
            "gear       int64\n",
            "carb       int64\n",
            "dtype: object\n",
            "Índice del DataFrame: RangeIndex(start=0, stop=32, step=1)\n",
            "Valores únicos de la columna 'Model': ['Mazda RX4' 'Mazda RX4 Wag' 'Datsun 710' 'Hornet 4 Drive'\n",
            " 'Hornet Sportabout' 'Valiant' 'Duster 360' 'Merc 240D' 'Merc 230'\n",
            " 'Merc 280' 'Merc 280C' 'Merc 450SE' 'Merc 450SL' 'Merc 450SLC'\n",
            " 'Cadillac Fleetwood' 'Lincoln Continental' 'Chrysler Imperial' 'Fiat 128'\n",
            " 'Honda Civic' 'Toyota Corolla' 'Toyota Corona' 'Dodge Challenger'\n",
            " 'AMC Javelin' 'Camaro Z28' 'Pontiac Firebird' 'Fiat X1-9' 'Porsche 914-2'\n",
            " 'Lotus Europa' 'Ford Pantera L' 'Ferrari Dino' 'Maserati Bora'\n",
            " 'Volvo 142E']\n",
            "Valores del DataFrame:\n",
            "[['Mazda RX4' 21.0 6 160.0 110 3.9 2.62 16.46 0 1 4 4]\n",
            " ['Mazda RX4 Wag' 21.0 6 160.0 110 3.9 2.875 17.02 0 1 4 4]\n",
            " ['Datsun 710' 22.8 4 108.0 93 3.85 2.32 18.61 1 1 4 1]\n",
            " ['Hornet 4 Drive' 21.4 6 258.0 110 3.08 3.215 19.44 1 0 3 1]\n",
            " ['Hornet Sportabout' 18.7 8 360.0 175 3.15 3.44 17.02 0 0 3 2]\n",
            " ['Valiant' 18.1 6 225.0 105 2.76 3.46 20.22 1 0 3 1]\n",
            " ['Duster 360' 14.3 8 360.0 245 3.21 3.57 15.84 0 0 3 4]\n",
            " ['Merc 240D' 24.4 4 146.7 62 3.69 3.19 20.0 1 0 4 2]\n",
            " ['Merc 230' 22.8 4 140.8 95 3.92 3.15 22.9 1 0 4 2]\n",
            " ['Merc 280' 19.2 6 167.6 123 3.92 3.44 18.3 1 0 4 4]\n",
            " ['Merc 280C' 17.8 6 167.6 123 3.92 3.44 18.9 1 0 4 4]\n",
            " ['Merc 450SE' 16.4 8 275.8 180 3.07 4.07 17.4 0 0 3 3]\n",
            " ['Merc 450SL' 17.3 8 275.8 180 3.07 3.73 17.6 0 0 3 3]\n",
            " ['Merc 450SLC' 15.2 8 275.8 180 3.07 3.78 18.0 0 0 3 3]\n",
            " ['Cadillac Fleetwood' 10.4 8 472.0 205 2.93 5.25 17.98 0 0 3 4]\n",
            " ['Lincoln Continental' 10.4 8 460.0 215 3.0 5.424 17.82 0 0 3 4]\n",
            " ['Chrysler Imperial' 14.7 8 440.0 230 3.23 5.345 17.42 0 0 3 4]\n",
            " ['Fiat 128' 32.4 4 78.7 66 4.08 2.2 19.47 1 1 4 1]\n",
            " ['Honda Civic' 30.4 4 75.7 52 4.93 1.615 18.52 1 1 4 2]\n",
            " ['Toyota Corolla' 33.9 4 71.1 65 4.22 1.835 19.9 1 1 4 1]\n",
            " ['Toyota Corona' 21.5 4 120.1 97 3.7 2.465 20.01 1 0 3 1]\n",
            " ['Dodge Challenger' 15.5 8 318.0 150 2.76 3.52 16.87 0 0 3 2]\n",
            " ['AMC Javelin' 15.2 8 304.0 150 3.15 3.435 17.3 0 0 3 2]\n",
            " ['Camaro Z28' 13.3 8 350.0 245 3.73 3.84 15.41 0 0 3 4]\n",
            " ['Pontiac Firebird' 19.2 8 400.0 175 3.08 3.845 17.05 0 0 3 2]\n",
            " ['Fiat X1-9' 27.3 4 79.0 66 4.08 1.935 18.9 1 1 4 1]\n",
            " ['Porsche 914-2' 26.0 4 120.3 91 4.43 2.14 16.7 0 1 5 2]\n",
            " ['Lotus Europa' 30.4 4 95.1 113 3.77 1.513 16.9 1 1 5 2]\n",
            " ['Ford Pantera L' 15.8 8 351.0 264 4.22 3.17 14.5 0 1 5 4]\n",
            " ['Ferrari Dino' 19.7 6 145.0 175 3.62 2.77 15.5 0 1 5 6]\n",
            " ['Maserati Bora' 15.0 8 301.0 335 3.54 3.57 14.6 0 1 5 8]\n",
            " ['Volvo 142E' 21.4 4 121.0 109 4.11 2.78 18.6 1 1 4 2]]\n",
            "DataFrame ordenado:\n",
            "                  model   mpg  cyl   disp   hp  drat     wt   qsec  vs  am  \\\n",
            "22          AMC Javelin  15.2    8  304.0  150  3.15  3.435  17.30   0   0   \n",
            "14   Cadillac Fleetwood  10.4    8  472.0  205  2.93  5.250  17.98   0   0   \n",
            "23           Camaro Z28  13.3    8  350.0  245  3.73  3.840  15.41   0   0   \n",
            "16    Chrysler Imperial  14.7    8  440.0  230  3.23  5.345  17.42   0   0   \n",
            "2            Datsun 710  22.8    4  108.0   93  3.85  2.320  18.61   1   1   \n",
            "21     Dodge Challenger  15.5    8  318.0  150  2.76  3.520  16.87   0   0   \n",
            "6            Duster 360  14.3    8  360.0  245  3.21  3.570  15.84   0   0   \n",
            "29         Ferrari Dino  19.7    6  145.0  175  3.62  2.770  15.50   0   1   \n",
            "17             Fiat 128  32.4    4   78.7   66  4.08  2.200  19.47   1   1   \n",
            "25            Fiat X1-9  27.3    4   79.0   66  4.08  1.935  18.90   1   1   \n",
            "28       Ford Pantera L  15.8    8  351.0  264  4.22  3.170  14.50   0   1   \n",
            "18          Honda Civic  30.4    4   75.7   52  4.93  1.615  18.52   1   1   \n",
            "3        Hornet 4 Drive  21.4    6  258.0  110  3.08  3.215  19.44   1   0   \n",
            "4     Hornet Sportabout  18.7    8  360.0  175  3.15  3.440  17.02   0   0   \n",
            "15  Lincoln Continental  10.4    8  460.0  215  3.00  5.424  17.82   0   0   \n",
            "27         Lotus Europa  30.4    4   95.1  113  3.77  1.513  16.90   1   1   \n",
            "30        Maserati Bora  15.0    8  301.0  335  3.54  3.570  14.60   0   1   \n",
            "0             Mazda RX4  21.0    6  160.0  110  3.90  2.620  16.46   0   1   \n",
            "1         Mazda RX4 Wag  21.0    6  160.0  110  3.90  2.875  17.02   0   1   \n",
            "8              Merc 230  22.8    4  140.8   95  3.92  3.150  22.90   1   0   \n",
            "7             Merc 240D  24.4    4  146.7   62  3.69  3.190  20.00   1   0   \n",
            "9              Merc 280  19.2    6  167.6  123  3.92  3.440  18.30   1   0   \n",
            "10            Merc 280C  17.8    6  167.6  123  3.92  3.440  18.90   1   0   \n",
            "11           Merc 450SE  16.4    8  275.8  180  3.07  4.070  17.40   0   0   \n",
            "12           Merc 450SL  17.3    8  275.8  180  3.07  3.730  17.60   0   0   \n",
            "13          Merc 450SLC  15.2    8  275.8  180  3.07  3.780  18.00   0   0   \n",
            "24     Pontiac Firebird  19.2    8  400.0  175  3.08  3.845  17.05   0   0   \n",
            "26        Porsche 914-2  26.0    4  120.3   91  4.43  2.140  16.70   0   1   \n",
            "19       Toyota Corolla  33.9    4   71.1   65  4.22  1.835  19.90   1   1   \n",
            "20        Toyota Corona  21.5    4  120.1   97  3.70  2.465  20.01   1   0   \n",
            "5               Valiant  18.1    6  225.0  105  2.76  3.460  20.22   1   0   \n",
            "31           Volvo 142E  21.4    4  121.0  109  4.11  2.780  18.60   1   1   \n",
            "\n",
            "    gear  carb  \n",
            "22     3     2  \n",
            "14     3     4  \n",
            "23     3     4  \n",
            "16     3     4  \n",
            "2      4     1  \n",
            "21     3     2  \n",
            "6      3     4  \n",
            "29     5     6  \n",
            "17     4     1  \n",
            "25     4     1  \n",
            "28     5     4  \n",
            "18     4     2  \n",
            "3      3     1  \n",
            "4      3     2  \n",
            "15     3     4  \n",
            "27     5     2  \n",
            "30     5     8  \n",
            "0      4     4  \n",
            "1      4     4  \n",
            "8      4     2  \n",
            "7      4     2  \n",
            "9      4     4  \n",
            "10     4     4  \n",
            "11     3     3  \n",
            "12     3     3  \n",
            "13     3     3  \n",
            "24     3     2  \n",
            "26     5     2  \n",
            "19     4     1  \n",
            "20     3     1  \n",
            "5      3     1  \n",
            "31     4     2  \n",
            "Columna 'model':\n",
            "0               Mazda RX4\n",
            "1           Mazda RX4 Wag\n",
            "2              Datsun 710\n",
            "3          Hornet 4 Drive\n",
            "4       Hornet Sportabout\n",
            "5                 Valiant\n",
            "6              Duster 360\n",
            "7               Merc 240D\n",
            "8                Merc 230\n",
            "9                Merc 280\n",
            "10              Merc 280C\n",
            "11             Merc 450SE\n",
            "12             Merc 450SL\n",
            "13            Merc 450SLC\n",
            "14     Cadillac Fleetwood\n",
            "15    Lincoln Continental\n",
            "16      Chrysler Imperial\n",
            "17               Fiat 128\n",
            "18            Honda Civic\n",
            "19         Toyota Corolla\n",
            "20          Toyota Corona\n",
            "21       Dodge Challenger\n",
            "22            AMC Javelin\n",
            "23             Camaro Z28\n",
            "24       Pontiac Firebird\n",
            "25              Fiat X1-9\n",
            "26          Porsche 914-2\n",
            "27           Lotus Europa\n",
            "28         Ford Pantera L\n",
            "29           Ferrari Dino\n",
            "30          Maserati Bora\n",
            "31             Volvo 142E\n",
            "Name: model, dtype: object\n",
            "Filas 0 a 2:\n",
            "           model   mpg  cyl   disp   hp  drat     wt   qsec  vs  am  gear  \\\n",
            "0      Mazda RX4  21.0    6  160.0  110  3.90  2.620  16.46   0   1     4   \n",
            "1  Mazda RX4 Wag  21.0    6  160.0  110  3.90  2.875  17.02   0   1     4   \n",
            "2     Datsun 710  22.8    4  108.0   93  3.85  2.320  18.61   1   1     4   \n",
            "\n",
            "   carb  \n",
            "0     4  \n",
            "1     4  \n",
            "2     1  \n",
            "Filas 0 a 3:\n",
            "            model   mpg  cyl   disp   hp  drat     wt   qsec  vs  am  gear  \\\n",
            "0       Mazda RX4  21.0    6  160.0  110  3.90  2.620  16.46   0   1     4   \n",
            "1   Mazda RX4 Wag  21.0    6  160.0  110  3.90  2.875  17.02   0   1     4   \n",
            "2      Datsun 710  22.8    4  108.0   93  3.85  2.320  18.61   1   1     4   \n",
            "3  Hornet 4 Drive  21.4    6  258.0  110  3.08  3.215  19.44   1   0     3   \n",
            "\n",
            "   carb  \n",
            "0     4  \n",
            "1     4  \n",
            "2     1  \n",
            "3     1  \n",
            "Filas 0 a 3 para columnas específicas:\n",
            "            model   hp\n",
            "0       Mazda RX4  110\n",
            "1   Mazda RX4 Wag  110\n",
            "2      Datsun 710   93\n",
            "3  Hornet 4 Drive  110\n",
            "Primeras 2 filas:\n",
            "           model   mpg  cyl   disp   hp  drat     wt   qsec  vs  am  gear  \\\n",
            "0      Mazda RX4  21.0    6  160.0  110   3.9  2.620  16.46   0   1     4   \n",
            "1  Mazda RX4 Wag  21.0    6  160.0  110   3.9  2.875  17.02   0   1     4   \n",
            "\n",
            "   carb  \n",
            "0     4  \n",
            "1     4  \n",
            "Valor en posición específica:\n",
            "108.0\n",
            "Primeras 2 filas y primeras 2 columnas:\n",
            "           model   mpg\n",
            "0      Mazda RX4  21.0\n",
            "1  Mazda RX4 Wag  21.0\n",
            "Valor de la primera fila y la primera columna:\n",
            "21.0\n",
            "Todas las filas de la columna en la segunda posición:\n",
            "0     6\n",
            "1     6\n",
            "2     4\n",
            "3     6\n",
            "4     8\n",
            "5     6\n",
            "6     8\n",
            "7     4\n",
            "8     4\n",
            "9     6\n",
            "10    6\n",
            "11    8\n",
            "12    8\n",
            "13    8\n",
            "14    8\n",
            "15    8\n",
            "16    8\n",
            "17    4\n",
            "18    4\n",
            "19    4\n",
            "20    4\n",
            "21    8\n",
            "22    8\n",
            "23    8\n",
            "24    8\n",
            "25    4\n",
            "26    4\n",
            "27    4\n",
            "28    8\n",
            "29    6\n",
            "30    8\n",
            "31    4\n",
            "Name: cyl, dtype: int64\n",
            "DataFrame transpuesto:\n",
            "              0              1           2               3   \\\n",
            "model  Mazda RX4  Mazda RX4 Wag  Datsun 710  Hornet 4 Drive   \n",
            "mpg         21.0           21.0        22.8            21.4   \n",
            "cyl            6              6           4               6   \n",
            "disp       160.0          160.0       108.0           258.0   \n",
            "hp           110            110          93             110   \n",
            "drat         3.9            3.9        3.85            3.08   \n",
            "wt          2.62          2.875        2.32           3.215   \n",
            "qsec       16.46          17.02       18.61           19.44   \n",
            "vs             0              0           1               1   \n",
            "am             1              1           1               0   \n",
            "gear           4              4           4               3   \n",
            "carb           4              4           1               1   \n",
            "\n",
            "                      4        5           6          7         8         9   \\\n",
            "model  Hornet Sportabout  Valiant  Duster 360  Merc 240D  Merc 230  Merc 280   \n",
            "mpg                 18.7     18.1        14.3       24.4      22.8      19.2   \n",
            "cyl                    8        6           8          4         4         6   \n",
            "disp               360.0    225.0       360.0      146.7     140.8     167.6   \n",
            "hp                   175      105         245         62        95       123   \n",
            "drat                3.15     2.76        3.21       3.69      3.92      3.92   \n",
            "wt                  3.44     3.46        3.57       3.19      3.15      3.44   \n",
            "qsec               17.02    20.22       15.84       20.0      22.9      18.3   \n",
            "vs                     0        1           0          1         1         1   \n",
            "am                     0        0           0          0         0         0   \n",
            "gear                   3        3           3          4         4         4   \n",
            "carb                   2        1           4          2         2         4   \n",
            "\n",
            "       ...           22          23                24         25  \\\n",
            "model  ...  AMC Javelin  Camaro Z28  Pontiac Firebird  Fiat X1-9   \n",
            "mpg    ...         15.2        13.3              19.2       27.3   \n",
            "cyl    ...            8           8                 8          4   \n",
            "disp   ...        304.0       350.0             400.0       79.0   \n",
            "hp     ...          150         245               175         66   \n",
            "drat   ...         3.15        3.73              3.08       4.08   \n",
            "wt     ...        3.435        3.84             3.845      1.935   \n",
            "qsec   ...         17.3       15.41             17.05       18.9   \n",
            "vs     ...            0           0                 0          1   \n",
            "am     ...            0           0                 0          1   \n",
            "gear   ...            3           3                 3          4   \n",
            "carb   ...            2           4                 2          1   \n",
            "\n",
            "                  26            27              28            29  \\\n",
            "model  Porsche 914-2  Lotus Europa  Ford Pantera L  Ferrari Dino   \n",
            "mpg             26.0          30.4            15.8          19.7   \n",
            "cyl                4             4               8             6   \n",
            "disp           120.3          95.1           351.0         145.0   \n",
            "hp                91           113             264           175   \n",
            "drat            4.43          3.77            4.22          3.62   \n",
            "wt              2.14         1.513            3.17          2.77   \n",
            "qsec            16.7          16.9            14.5          15.5   \n",
            "vs                 0             1               0             0   \n",
            "am                 1             1               1             1   \n",
            "gear               5             5               5             5   \n",
            "carb               2             2               4             6   \n",
            "\n",
            "                  30          31  \n",
            "model  Maserati Bora  Volvo 142E  \n",
            "mpg             15.0        21.4  \n",
            "cyl                8           4  \n",
            "disp           301.0       121.0  \n",
            "hp               335         109  \n",
            "drat            3.54        4.11  \n",
            "wt              3.57        2.78  \n",
            "qsec            14.6        18.6  \n",
            "vs                 0           1  \n",
            "am                 1           1  \n",
            "gear               5           4  \n",
            "carb               8           2  \n",
            "\n",
            "[12 rows x 32 columns]\n",
            "DataFrame filtrado:\n",
            "                  model   mpg  cyl   disp   hp  drat     wt   qsec  vs  am  \\\n",
            "0             Mazda RX4  21.0    6  160.0  110  3.90  2.620  16.46   0   1   \n",
            "1         Mazda RX4 Wag  21.0    6  160.0  110  3.90  2.875  17.02   0   1   \n",
            "2            Datsun 710  22.8    4  108.0   93  3.85  2.320  18.61   1   1   \n",
            "3        Hornet 4 Drive  21.4    6  258.0  110  3.08  3.215  19.44   1   0   \n",
            "4     Hornet Sportabout  18.7    8  360.0  175  3.15  3.440  17.02   0   0   \n",
            "6            Duster 360  14.3    8  360.0  245  3.21  3.570  15.84   0   0   \n",
            "7             Merc 240D  24.4    4  146.7   62  3.69  3.190  20.00   1   0   \n",
            "8              Merc 230  22.8    4  140.8   95  3.92  3.150  22.90   1   0   \n",
            "9              Merc 280  19.2    6  167.6  123  3.92  3.440  18.30   1   0   \n",
            "10            Merc 280C  17.8    6  167.6  123  3.92  3.440  18.90   1   0   \n",
            "11           Merc 450SE  16.4    8  275.8  180  3.07  4.070  17.40   0   0   \n",
            "12           Merc 450SL  17.3    8  275.8  180  3.07  3.730  17.60   0   0   \n",
            "13          Merc 450SLC  15.2    8  275.8  180  3.07  3.780  18.00   0   0   \n",
            "14   Cadillac Fleetwood  10.4    8  472.0  205  2.93  5.250  17.98   0   0   \n",
            "15  Lincoln Continental  10.4    8  460.0  215  3.00  5.424  17.82   0   0   \n",
            "16    Chrysler Imperial  14.7    8  440.0  230  3.23  5.345  17.42   0   0   \n",
            "17             Fiat 128  32.4    4   78.7   66  4.08  2.200  19.47   1   1   \n",
            "18          Honda Civic  30.4    4   75.7   52  4.93  1.615  18.52   1   1   \n",
            "19       Toyota Corolla  33.9    4   71.1   65  4.22  1.835  19.90   1   1   \n",
            "20        Toyota Corona  21.5    4  120.1   97  3.70  2.465  20.01   1   0   \n",
            "21     Dodge Challenger  15.5    8  318.0  150  2.76  3.520  16.87   0   0   \n",
            "22          AMC Javelin  15.2    8  304.0  150  3.15  3.435  17.30   0   0   \n",
            "23           Camaro Z28  13.3    8  350.0  245  3.73  3.840  15.41   0   0   \n",
            "24     Pontiac Firebird  19.2    8  400.0  175  3.08  3.845  17.05   0   0   \n",
            "25            Fiat X1-9  27.3    4   79.0   66  4.08  1.935  18.90   1   1   \n",
            "26        Porsche 914-2  26.0    4  120.3   91  4.43  2.140  16.70   0   1   \n",
            "27         Lotus Europa  30.4    4   95.1  113  3.77  1.513  16.90   1   1   \n",
            "28       Ford Pantera L  15.8    8  351.0  264  4.22  3.170  14.50   0   1   \n",
            "29         Ferrari Dino  19.7    6  145.0  175  3.62  2.770  15.50   0   1   \n",
            "30        Maserati Bora  15.0    8  301.0  335  3.54  3.570  14.60   0   1   \n",
            "31           Volvo 142E  21.4    4  121.0  109  4.11  2.780  18.60   1   1   \n",
            "\n",
            "    gear  carb  \n",
            "0      4     4  \n",
            "1      4     4  \n",
            "2      4     1  \n",
            "3      3     1  \n",
            "4      3     2  \n",
            "6      3     4  \n",
            "7      4     2  \n",
            "8      4     2  \n",
            "9      4     4  \n",
            "10     4     4  \n",
            "11     3     3  \n",
            "12     3     3  \n",
            "13     3     3  \n",
            "14     3     4  \n",
            "15     3     4  \n",
            "16     3     4  \n",
            "17     4     1  \n",
            "18     4     2  \n",
            "19     4     1  \n",
            "20     3     1  \n",
            "21     3     2  \n",
            "22     3     2  \n",
            "23     3     4  \n",
            "24     3     2  \n",
            "25     4     1  \n",
            "26     5     2  \n",
            "27     5     2  \n",
            "28     5     4  \n",
            "29     5     6  \n",
            "30     5     8  \n",
            "31     4     2  \n",
            "DataFrame filtrado basado en valores específicos:\n",
            "Empty DataFrame\n",
            "Columns: [model, mpg, cyl, disp, hp, drat, wt, qsec, vs, am, gear, carb]\n",
            "Index: []\n",
            "DataFrame filtrado con condiciones AND:\n",
            "Empty DataFrame\n",
            "Columns: [model, mpg, cyl, disp, hp, drat, wt, qsec, vs, am, gear, carb]\n",
            "Index: []\n",
            "DataFrame filtrado con condiciones OR:\n",
            "                  model   mpg  cyl   disp   hp  drat     wt   qsec  vs  am  \\\n",
            "0             Mazda RX4  21.0    6  160.0  110  3.90  2.620  16.46   0   1   \n",
            "1         Mazda RX4 Wag  21.0    6  160.0  110  3.90  2.875  17.02   0   1   \n",
            "2            Datsun 710  22.8    4  108.0   93  3.85  2.320  18.61   1   1   \n",
            "3        Hornet 4 Drive  21.4    6  258.0  110  3.08  3.215  19.44   1   0   \n",
            "4     Hornet Sportabout  18.7    8  360.0  175  3.15  3.440  17.02   0   0   \n",
            "5               Valiant  18.1    6  225.0  105  2.76  3.460  20.22   1   0   \n",
            "6            Duster 360  14.3    8  360.0  245  3.21  3.570  15.84   0   0   \n",
            "7             Merc 240D  24.4    4  146.7   62  3.69  3.190  20.00   1   0   \n",
            "8              Merc 230  22.8    4  140.8   95  3.92  3.150  22.90   1   0   \n",
            "9              Merc 280  19.2    6  167.6  123  3.92  3.440  18.30   1   0   \n",
            "10            Merc 280C  17.8    6  167.6  123  3.92  3.440  18.90   1   0   \n",
            "11           Merc 450SE  16.4    8  275.8  180  3.07  4.070  17.40   0   0   \n",
            "12           Merc 450SL  17.3    8  275.8  180  3.07  3.730  17.60   0   0   \n",
            "13          Merc 450SLC  15.2    8  275.8  180  3.07  3.780  18.00   0   0   \n",
            "14   Cadillac Fleetwood  10.4    8  472.0  205  2.93  5.250  17.98   0   0   \n",
            "15  Lincoln Continental  10.4    8  460.0  215  3.00  5.424  17.82   0   0   \n",
            "16    Chrysler Imperial  14.7    8  440.0  230  3.23  5.345  17.42   0   0   \n",
            "17             Fiat 128  32.4    4   78.7   66  4.08  2.200  19.47   1   1   \n",
            "18          Honda Civic  30.4    4   75.7   52  4.93  1.615  18.52   1   1   \n",
            "19       Toyota Corolla  33.9    4   71.1   65  4.22  1.835  19.90   1   1   \n",
            "20        Toyota Corona  21.5    4  120.1   97  3.70  2.465  20.01   1   0   \n",
            "21     Dodge Challenger  15.5    8  318.0  150  2.76  3.520  16.87   0   0   \n",
            "22          AMC Javelin  15.2    8  304.0  150  3.15  3.435  17.30   0   0   \n",
            "23           Camaro Z28  13.3    8  350.0  245  3.73  3.840  15.41   0   0   \n",
            "24     Pontiac Firebird  19.2    8  400.0  175  3.08  3.845  17.05   0   0   \n",
            "25            Fiat X1-9  27.3    4   79.0   66  4.08  1.935  18.90   1   1   \n",
            "26        Porsche 914-2  26.0    4  120.3   91  4.43  2.140  16.70   0   1   \n",
            "27         Lotus Europa  30.4    4   95.1  113  3.77  1.513  16.90   1   1   \n",
            "28       Ford Pantera L  15.8    8  351.0  264  4.22  3.170  14.50   0   1   \n",
            "29         Ferrari Dino  19.7    6  145.0  175  3.62  2.770  15.50   0   1   \n",
            "30        Maserati Bora  15.0    8  301.0  335  3.54  3.570  14.60   0   1   \n",
            "31           Volvo 142E  21.4    4  121.0  109  4.11  2.780  18.60   1   1   \n",
            "\n",
            "    gear  carb  \n",
            "0      4     4  \n",
            "1      4     4  \n",
            "2      4     1  \n",
            "3      3     1  \n",
            "4      3     2  \n",
            "5      3     1  \n",
            "6      3     4  \n",
            "7      4     2  \n",
            "8      4     2  \n",
            "9      4     4  \n",
            "10     4     4  \n",
            "11     3     3  \n",
            "12     3     3  \n",
            "13     3     3  \n",
            "14     3     4  \n",
            "15     3     4  \n",
            "16     3     4  \n",
            "17     4     1  \n",
            "18     4     2  \n",
            "19     4     1  \n",
            "20     3     1  \n",
            "21     3     2  \n",
            "22     3     2  \n",
            "23     3     4  \n",
            "24     3     2  \n",
            "25     4     1  \n",
            "26     5     2  \n",
            "27     5     2  \n",
            "28     5     4  \n",
            "29     5     6  \n",
            "30     5     8  \n",
            "31     4     2  \n"
          ]
        }
      ],
      "source": [
        "import pandas as pd\n",
        "\n",
        "# Lectura del archivo CSV\n",
        "df = pd.read_csv('mtcars.csv')\n",
        "\n",
        "# Mirando los n primeros registros (valor predeterminado es 5 si no se especifica)\n",
        "print(df.head())\n",
        "\n",
        "# Mirando los n registros inferiores\n",
        "print(df.tail())\n",
        "\n",
        "# Obtener los nombres de las columnas\n",
        "print(\"Nombres de las columnas:\", df.columns)\n",
        "\n",
        "# Obtener los tipos de datos de las columnas\n",
        "print(\"Tipos de datos de las columnas:\", df.dtypes)\n",
        "\n",
        "# Obtener el índice del DataFrame\n",
        "print(\"Índice del DataFrame:\", df.index)\n",
        "\n",
        "# Obtener valores únicos de una columna\n",
        "print(\"Valores únicos de la columna 'Model':\", df['model'].unique())\n",
        "\n",
        "# Obtener valores\n",
        "print(\"Valores del DataFrame:\")\n",
        "print(df.values)\n",
        "\n",
        "# Ordenar el DataFrame por una o más columnas\n",
        "sorted_df = df.sort_values(by=['model', 'hp'], ascending=[True, True])\n",
        "print(\"DataFrame ordenado:\")\n",
        "print(sorted_df)\n",
        "\n",
        "# Seleccionar/ver por el nombre de la columna\n",
        "selected_column = df['model']\n",
        "print(\"Columna 'model':\")\n",
        "print(selected_column)\n",
        "\n",
        "# Seleccionar/ver por número de fila\n",
        "selected_rows = df.iloc[0:3]\n",
        "print(\"Filas 0 a 2:\")\n",
        "print(selected_rows)\n",
        "\n",
        "# Selección por índice\n",
        "selected_rows = df.loc[0:3]\n",
        "print(\"Filas 0 a 3:\")\n",
        "print(selected_rows)\n",
        "\n",
        "selected_data = df.loc[0:3, ['model', 'hp']]\n",
        "print(\"Filas 0 a 3 para columnas específicas:\")\n",
        "print(selected_data)\n",
        "\n",
        "# Selección por posición\n",
        "selected_rows = df.iloc[0:2]\n",
        "print(\"Primeras 2 filas:\")\n",
        "print(selected_rows)\n",
        "\n",
        "selected_data = df.iloc[2, 3]\n",
        "print(\"Valor en posición específica:\")\n",
        "print(selected_data)\n",
        "\n",
        "selected_data = df.iloc[0:2, 0:2]\n",
        "print(\"Primeras 2 filas y primeras 2 columnas:\")\n",
        "print(selected_data)\n",
        "\n",
        "# Selección sin que esté en el índice\n",
        "value = df.iat[1, 1]\n",
        "print(\"Valor de la primera fila y la primera columna:\")\n",
        "print(value)\n",
        "\n",
        "column_values = df.iloc[:, 2]\n",
        "print(\"Todas las filas de la columna en la segunda posición:\")\n",
        "print(column_values)\n",
        "\n",
        "# Transponer el DataFrame\n",
        "transposed_df = df.T\n",
        "print(\"DataFrame transpuesto:\")\n",
        "print(transposed_df)\n",
        "\n",
        "# Filtrar DataFrame según una condición de valor para una columna\n",
        "filtered_df = df[df['model'].str.len() > 7]\n",
        "print(\"DataFrame filtrado:\")\n",
        "print(filtered_df)\n",
        "\n",
        "# Filtrar DataFrame basado en una condición de valor en una columna\n",
        "filtered_df = df[df['model'].isin(['condition_value1', 'condition_value2'])]\n",
        "print(\"DataFrame filtrado basado en valores específicos:\")\n",
        "print(filtered_df)\n",
        "\n",
        "# Filtro basado en múltiples condiciones en múltiples columnas usando el operador AND\n",
        "filtered_df = df[df['model'].isin(['Mazda RX4', 'Toyota Corolla']) & (df['hp'] > 150)]\n",
        "print(\"DataFrame filtrado con condiciones AND:\")\n",
        "print(filtered_df)\n",
        "\n",
        "# Filtro basado en múltiples condiciones en múltiples columnas usando el operador OR\n",
        "filtered_df = df[(df['model'] == 'Mazda RX4') | (df['hp'] > 3)]\n",
        "print(\"DataFrame filtrado con condiciones OR:\")\n",
        "print(filtered_df)\n",
        "\n"
      ]
    },
    {
      "cell_type": "markdown",
      "metadata": {
        "id": "2mf3Je9gYpeV"
      },
      "source": [
        "Selección diferente por opciones de etiqueta\n",
        "\n",
        "- `loc:` solo funciona en el índice\n",
        "- `iloc:` trabaja en posición\n",
        "- `iat:` Obtener valores escalares. es un `iloc` muy rapido."
      ]
    },
    {
      "cell_type": "code",
      "execution_count": 38,
      "metadata": {
        "colab": {
          "base_uri": "https://localhost:8080/"
        },
        "id": "MT1DK0AcaAbH",
        "outputId": "1730ecbc-44a7-4789-d36d-065da139be00"
      },
      "outputs": [
        {
          "output_type": "stream",
          "name": "stdout",
          "text": [
            "Fila seleccionada por indice:\n",
            "model    Hornet 4 Drive\n",
            "mpg                21.4\n",
            "cyl                   6\n",
            "disp              258.0\n",
            "hp                  110\n",
            "drat               3.08\n",
            "wt                3.215\n",
            "qsec              19.44\n",
            "vs                    1\n",
            "am                    0\n",
            "gear                  3\n",
            "carb                  1\n",
            "Name: 3, dtype: object\n",
            "Fila seleccionada por etiqueta de indice:\n",
            "       model   mpg  cyl   disp   hp  drat    wt   qsec  vs  am  gear  carb\n",
            "0  Mazda RX4  21.0    6  160.0  110   3.9  2.62  16.46   0   1     4     4\n",
            "Fila seleccionada por posición:\n",
            "model    Datsun 710\n",
            "mpg            22.8\n",
            "cyl               4\n",
            "disp          108.0\n",
            "hp               93\n",
            "drat           3.85\n",
            "wt             2.32\n",
            "qsec          18.61\n",
            "vs                1\n",
            "am                1\n",
            "gear              4\n",
            "carb              1\n",
            "Name: 2, dtype: object\n",
            "Filas seleccionadas por rango de posición:\n",
            "               model   mpg  cyl   disp   hp  drat     wt   qsec  vs  am  gear  \\\n",
            "2         Datsun 710  22.8    4  108.0   93  3.85  2.320  18.61   1   1     4   \n",
            "3     Hornet 4 Drive  21.4    6  258.0  110  3.08  3.215  19.44   1   0     3   \n",
            "4  Hornet Sportabout  18.7    8  360.0  175  3.15  3.440  17.02   0   0     3   \n",
            "\n",
            "   carb  \n",
            "2     1  \n",
            "3     1  \n",
            "4     2  \n"
          ]
        }
      ],
      "source": [
        "# selección por indice\n",
        "selected_row = df.iloc[3]\n",
        "print(\"Fila seleccionada por indice:\")\n",
        "print(selected_row)\n",
        "\n",
        "# selección por indice de nombres de etiquetas específicas\n",
        "selected_row = df.loc[df['model'] == 'Mazda RX4']\n",
        "print(\"Fila seleccionada por etiqueta de indice:\")\n",
        "print(selected_row)\n",
        "\n",
        "# Selección por posición\n",
        "selected_row = df.iloc[2]\n",
        "print(\"Fila seleccionada por posición:\")\n",
        "print(selected_row)\n",
        "\n",
        "# Seleccion por posicion entre filas dadas como rango\n",
        "selected_rows = df.iloc[2:5]\n",
        "print(\"Filas seleccionadas por rango de posición:\")\n",
        "print(selected_rows)\n"
      ]
    },
    {
      "cell_type": "markdown",
      "metadata": {
        "id": "kaCwcf4SaTIL",
        "outputId": "1fb3ac6e-eacc-4773-c397-dbab246e9bd9"
      },
      "source": [
        "**Ejercicio**\n",
        "\n",
        "¿Qué produce `df.iloc[0:3, 0:3]` ?"
      ]
    },
    {
      "cell_type": "code",
      "execution_count": null,
      "metadata": {
        "id": "4pnG9dZPE24L"
      },
      "outputs": [],
      "source": [
        "## Tu respuesta\n",
        "# La expresión df.iloc[0:3, 0:3] selecciona un subconjunto del DataFrame df que incluye las primeras 3 filas y las primeras 3 columnas."
      ]
    },
    {
      "cell_type": "code",
      "execution_count": 39,
      "metadata": {
        "colab": {
          "base_uri": "https://localhost:8080/"
        },
        "id": "jZPYlJ2CaZgL",
        "outputId": "2eed8943-5389-498e-a15c-a0583ea78da7"
      },
      "outputs": [
        {
          "output_type": "stream",
          "name": "stdout",
          "text": [
            "               model   mpg  cyl   disp   hp  drat     wt   qsec  vs  am  gear  \\\n",
            "2         Datsun 710  22.8    4  108.0   93  3.85  2.320  18.61   1   1     4   \n",
            "3     Hornet 4 Drive  21.4    6  258.0  110  3.08  3.215  19.44   1   0     3   \n",
            "4  Hornet Sportabout  18.7    8  360.0  175  3.15  3.440  17.02   0   0     3   \n",
            "\n",
            "   carb  \n",
            "2     1  \n",
            "3     1  \n",
            "4     2  \n"
          ]
        }
      ],
      "source": [
        "# seleccion por posicion entre numeros de fila especificos dados\n",
        "# Completar\n",
        "# Seleccionar por posición entre filas dadas como rango\n",
        "selected_rows = df.iloc[2:5, :]  # Selecciona filas de la posición 2 a la 4 (5 excluido) y todas las columnas\n",
        "print(selected_rows)\n"
      ]
    },
    {
      "cell_type": "markdown",
      "metadata": {
        "id": "_orxFJhhbMj9"
      },
      "source": [
        "Selección por índice de fila y columna (el índice comienza con 0).\n",
        "\n",
        "El siguiente caso obtendrá el valor `[índice de la primera fila, índice de la primera columna]`."
      ]
    },
    {
      "cell_type": "code",
      "execution_count": null,
      "metadata": {
        "id": "BT4I0aspbA3y"
      },
      "outputs": [],
      "source": [
        "# obtener valores escalares. es un iloc muy rapido\n",
        "# print(df.iat[1,1])\n",
        "value = df.iat[1, 1]\n",
        "print(\"Valor en la primera fila y la primera columna:\", value)\n"
      ]
    },
    {
      "cell_type": "code",
      "execution_count": null,
      "metadata": {
        "id": "dA-ID00IbrvM"
      },
      "outputs": [],
      "source": [
        "# Obtencion de datos sin que este en el indice\n",
        "#print(df.iloc[1,1])\n",
        "data = df.iloc[1, 1]\n",
        "print(\"Dato en la posición específica:\", data)\n"
      ]
    },
    {
      "cell_type": "code",
      "execution_count": null,
      "metadata": {
        "id": "xCBzTNf7cGQ8"
      },
      "outputs": [],
      "source": [
        "# selecciona columnas por posicion\n",
        "#print (df.iloc[:, 2])\n",
        "column_values = df.iloc[:, 2]\n",
        "print(\"Valores de todas las filas en la columna en la segunda posición:\", column_values)\n"
      ]
    },
    {
      "cell_type": "code",
      "execution_count": null,
      "metadata": {
        "id": "D3D7ufT-cO9h"
      },
      "outputs": [],
      "source": [
        "# Transpuesta\n",
        "# df.T\n",
        "transposed_df = df.T\n",
        "print(\"DataFrame transpuesto:\")\n",
        "print(transposed_df)\n"
      ]
    },
    {
      "cell_type": "markdown",
      "metadata": {
        "id": "0gQUrpJYccGh"
      },
      "source": [
        "#### Indexado Booleano"
      ]
    },
    {
      "cell_type": "code",
      "execution_count": null,
      "metadata": {
        "id": "TSG2V1r1cTkl"
      },
      "outputs": [],
      "source": [
        "# Completar\n",
        "filtered_df = df[df['column_name'] > 7.5]\n",
        "print(\"DataFrame filtrado por una condición en una columna:\")\n",
        "print(filtered_df)\n"
      ]
    },
    {
      "cell_type": "code",
      "execution_count": null,
      "metadata": {
        "id": "Wof7vEMMcm7D"
      },
      "outputs": [],
      "source": [
        "# Completar\n",
        "filtered_df = df[df['column_name'].isin(['condition_value1', 'condition_value2'])]\n",
        "print(\"DataFrame filtrado por múltiples condiciones en una columna:\")\n",
        "print(filtered_df)\n"
      ]
    },
    {
      "cell_type": "code",
      "execution_count": null,
      "metadata": {
        "id": "Fu-djdEic9et"
      },
      "outputs": [],
      "source": [
        "# Completar\n",
        "filtered_df = df[(df['column1'] > 7.5) & (df['column2'] > 3)]\n",
        "print(\"DataFrame filtrado con condiciones AND:\")\n",
        "print(filtered_df)\n"
      ]
    },
    {
      "cell_type": "code",
      "execution_count": null,
      "metadata": {
        "id": "OBBtU0OVdj5q"
      },
      "outputs": [],
      "source": [
        "# Completar\n",
        "filtered_df = df[(df['column1'] > 7.5) | (df['column2'] > 3)]\n",
        "print(\"DataFrame filtrado con condiciones OR:\")\n",
        "print(filtered_df)\n"
      ]
    },
    {
      "cell_type": "markdown",
      "metadata": {
        "id": "tAu0CN5geolP"
      },
      "source": [
        "### Operaciones básicas con Pandas\n",
        "\n",
        "* Convertir cadenas a series de fechas: `pd.to_datetime(pd.Series(['2017-04-01','2017-04-02','2017-04-03']))`.\n",
        "\n",
        "* Cambiar el nombre de una columna específica: `df.rename(columns={‘old_columnname’:‘new_columnname'}, inplace=True)`\n",
        "\n",
        "* Cambiar el nombre de todas las columnas del DataFrame: `df.columns = ['col1_new_name','col2_new_name'...]`\n",
        "\n",
        "* Marcar duplicados: `df.duplicated()`\n",
        "\n",
        "* Quitar duplicados:`df = df.drop_duplicates()`\n",
        "\n",
        "* Quitar duplicados en una columna específica: `df.drop_duplicates(['column_name'])`\n",
        "\n",
        "* Quitar los duplicados en una columna específica, pero se conserva la primera o la última observación en el conjunto de duplicados: `df.drop_duplicates(['column_name'], keep = 'first') # cambiar al ultimo para conservar la ultima observación del duplicado`.\n",
        "\n",
        "* Crear una nueva columna a partir de una columna existente: `df['new_column_name'] = df['new_column_name'] + 5`\n",
        "\n",
        "* Crear una nueva columna a partir de los elementos de dos columnas: `df['new_column_name'] = df['existing_column1'] + '_' + df['existing_column2']`\n",
        "\n",
        "* Agregar una lista o una nueva columna a DataFrame: `df['new_column_name'] = pd.Series(mylist)`\n",
        "\n",
        "* Descartar las filas y columnas faltantes que tienen valores faltantes: `df.dropna()`\n",
        "\n",
        "* Reemplaza todos los valores faltantes con 0 (o puede usar cualquier int o str): `df.fillna(value=0)`\n",
        "\n",
        "* Reemplaza los valores faltantes con la última observación válida (útil en datos de series de tiempo). Por ejemplo, la temperatura no cambia drásticamente en comparación con una observación anterior. Una forma es llenar de NA forward-backward más alla de la media.\n",
        "\n",
        "    1) 'pad' / 'ffill' - forward fill\n",
        "\n",
        "    2) 'bfill'/'backfill' - backward fill\n",
        "\n",
        "    Límite: si se especifica el método, este es el número máximo de valores de NaN consecutivos para completar forward/backward fill: `df.fillna (method = 'ffill', inplace= True, limit = 1)`\n",
        "\n",
        "* Verifica la condición del valor faltante y devuelva el valor Booleano de `True` o `False` para cada celda: `pd.isnull(df)`\n",
        "\n",
        "* Reemplaza todos los valores faltantes para una columna dada con la media: `mean=df['column_name].mean(); df['column_name'].fillna(mean)`\n",
        "\n",
        "* Devuelve la media para cada columna: `df.mean()`\n",
        "\n",
        "* Retorna el máximo para cada columna: `df.max()`\n",
        "\n",
        "* Retorno el mínimo para cada columna: `df.min()`\n",
        "\n",
        "* Devuelve la suma para cada columna: `df.sum()`\n",
        "\n",
        "* Conteo para cada columna: `df.count()`\n",
        "\n",
        "* Devuelve la suma acumulada para cada columna: `df.cumsum()`\n",
        "\n",
        "* Aplica una función a lo largo de cualquier eje del DataFrame: `df.apply(np.cumsum)`\n",
        "\n",
        "* Itera sobre cada elemento de una serie y realizar la acción deseada: `df['column_name'].map(lambda x: 1+x) # esto itera sobre la columna y agrega el valor 1 a cada elemento`\n",
        "\n",
        "* Aplica una función a cada elemento del dataframe:`func = lambda x: x + 1 # función para agregar una constante 1 a cada elemento del dataframe df.applymap(func)`."
      ]
    },
    {
      "cell_type": "code",
      "execution_count": 40,
      "metadata": {
        "colab": {
          "base_uri": "https://localhost:8080/"
        },
        "id": "LT8uTUz6dmIb",
        "outputId": "1036f1ba-4087-450f-bce4-498f324def40"
      },
      "outputs": [
        {
          "output_type": "execute_result",
          "data": {
            "text/plain": [
              "0   2017-04-01\n",
              "1   2017-04-02\n",
              "2   2017-04-03\n",
              "3   2017-04-04\n",
              "dtype: datetime64[ns]"
            ]
          },
          "metadata": {},
          "execution_count": 40
        }
      ],
      "source": [
        "cadena_fechas = ('2017-04-01','2017-04-02','2017-04-03','2017-04-04')\n",
        "pd.to_datetime(pd.Series(cadena_fechas))"
      ]
    },
    {
      "cell_type": "code",
      "execution_count": 42,
      "metadata": {
        "id": "A6Gm80pLpQCe"
      },
      "outputs": [],
      "source": [
        "df.rename(columns = {'Sepal.Length': 'Sepal_Length'}, inplace=True)"
      ]
    },
    {
      "cell_type": "code",
      "execution_count": 48,
      "metadata": {
        "id": "2LJNuhlYpoWJ"
      },
      "outputs": [],
      "source": [
        "#df.columns = ['Sepal_Length', 'Sepal_Width', 'Petal_Length', 'Petal_Width', 'Species']\n"
      ]
    },
    {
      "cell_type": "code",
      "execution_count": 44,
      "metadata": {
        "colab": {
          "base_uri": "https://localhost:8080/"
        },
        "id": "82eOr0OmqCvT",
        "outputId": "dc7a690f-3001-441d-a371-9139998b1d8f"
      },
      "outputs": [
        {
          "output_type": "stream",
          "name": "stdout",
          "text": [
            "  primer_nombre ultimo_nombre  edad\n",
            "0           Amy       Jackson    42\n",
            "1           Amy             J    42\n",
            "2         Jason        Miller    36\n",
            "3          Nick        Milner    24\n",
            "4       Stephen             L    24\n",
            "5           Amy             J    42\n"
          ]
        }
      ],
      "source": [
        "# Removemos los duplicados\n",
        "\n",
        "data_1 = {'primer_nombre': ['Amy', 'Amy', 'Jason', 'Nick', 'Stephen','Amy'],\n",
        "        'ultimo_nombre': ['Jackson', 'J', 'Miller', 'Milner', 'L','J'],\n",
        "        'edad': [42, 42, 36, 24, 24, 42]}\n",
        "df = pd.DataFrame(data_1, columns = ['primer_nombre', 'ultimo_nombre', 'edad'])\n",
        "print(df)"
      ]
    },
    {
      "cell_type": "code",
      "execution_count": 45,
      "metadata": {
        "colab": {
          "base_uri": "https://localhost:8080/"
        },
        "id": "41fI6CqsqeGT",
        "outputId": "172d3bfa-6f7d-4981-b278-ffd0e74f7665"
      },
      "outputs": [
        {
          "output_type": "stream",
          "name": "stdout",
          "text": [
            "0    False\n",
            "1    False\n",
            "2    False\n",
            "3    False\n",
            "4    False\n",
            "5     True\n",
            "dtype: bool\n"
          ]
        }
      ],
      "source": [
        "print(df.duplicated())"
      ]
    },
    {
      "cell_type": "code",
      "execution_count": 46,
      "metadata": {
        "colab": {
          "base_uri": "https://localhost:8080/"
        },
        "id": "AeQFP7fYrjc4",
        "outputId": "e96b0888-6bb0-4a3b-bcb5-053448705e9f"
      },
      "outputs": [
        {
          "output_type": "stream",
          "name": "stdout",
          "text": [
            "  primer_nombre ultimo_nombre  edad\n",
            "0           Amy       Jackson    42\n",
            "1           Amy             J    42\n",
            "2         Jason        Miller    36\n",
            "3          Nick        Milner    24\n",
            "4       Stephen             L    24\n"
          ]
        }
      ],
      "source": [
        "print(df.drop_duplicates())"
      ]
    },
    {
      "cell_type": "code",
      "execution_count": 47,
      "metadata": {
        "colab": {
          "base_uri": "https://localhost:8080/",
          "height": 175
        },
        "id": "sPee656ar2sr",
        "outputId": "d0f56505-6ff4-492c-d9bd-94f8655e533d"
      },
      "outputs": [
        {
          "output_type": "execute_result",
          "data": {
            "text/plain": [
              "  primer_nombre ultimo_nombre  edad\n",
              "0           Amy       Jackson    42\n",
              "2         Jason        Miller    36\n",
              "3          Nick        Milner    24\n",
              "4       Stephen             L    24"
            ],
            "text/html": [
              "\n",
              "  <div id=\"df-fe393214-5ae3-419c-ac98-763e01aa8dd1\">\n",
              "    <div class=\"colab-df-container\">\n",
              "      <div>\n",
              "<style scoped>\n",
              "    .dataframe tbody tr th:only-of-type {\n",
              "        vertical-align: middle;\n",
              "    }\n",
              "\n",
              "    .dataframe tbody tr th {\n",
              "        vertical-align: top;\n",
              "    }\n",
              "\n",
              "    .dataframe thead th {\n",
              "        text-align: right;\n",
              "    }\n",
              "</style>\n",
              "<table border=\"1\" class=\"dataframe\">\n",
              "  <thead>\n",
              "    <tr style=\"text-align: right;\">\n",
              "      <th></th>\n",
              "      <th>primer_nombre</th>\n",
              "      <th>ultimo_nombre</th>\n",
              "      <th>edad</th>\n",
              "    </tr>\n",
              "  </thead>\n",
              "  <tbody>\n",
              "    <tr>\n",
              "      <th>0</th>\n",
              "      <td>Amy</td>\n",
              "      <td>Jackson</td>\n",
              "      <td>42</td>\n",
              "    </tr>\n",
              "    <tr>\n",
              "      <th>2</th>\n",
              "      <td>Jason</td>\n",
              "      <td>Miller</td>\n",
              "      <td>36</td>\n",
              "    </tr>\n",
              "    <tr>\n",
              "      <th>3</th>\n",
              "      <td>Nick</td>\n",
              "      <td>Milner</td>\n",
              "      <td>24</td>\n",
              "    </tr>\n",
              "    <tr>\n",
              "      <th>4</th>\n",
              "      <td>Stephen</td>\n",
              "      <td>L</td>\n",
              "      <td>24</td>\n",
              "    </tr>\n",
              "  </tbody>\n",
              "</table>\n",
              "</div>\n",
              "      <button class=\"colab-df-convert\" onclick=\"convertToInteractive('df-fe393214-5ae3-419c-ac98-763e01aa8dd1')\"\n",
              "              title=\"Convert this dataframe to an interactive table.\"\n",
              "              style=\"display:none;\">\n",
              "        \n",
              "  <svg xmlns=\"http://www.w3.org/2000/svg\" height=\"24px\"viewBox=\"0 0 24 24\"\n",
              "       width=\"24px\">\n",
              "    <path d=\"M0 0h24v24H0V0z\" fill=\"none\"/>\n",
              "    <path d=\"M18.56 5.44l.94 2.06.94-2.06 2.06-.94-2.06-.94-.94-2.06-.94 2.06-2.06.94zm-11 1L8.5 8.5l.94-2.06 2.06-.94-2.06-.94L8.5 2.5l-.94 2.06-2.06.94zm10 10l.94 2.06.94-2.06 2.06-.94-2.06-.94-.94-2.06-.94 2.06-2.06.94z\"/><path d=\"M17.41 7.96l-1.37-1.37c-.4-.4-.92-.59-1.43-.59-.52 0-1.04.2-1.43.59L10.3 9.45l-7.72 7.72c-.78.78-.78 2.05 0 2.83L4 21.41c.39.39.9.59 1.41.59.51 0 1.02-.2 1.41-.59l7.78-7.78 2.81-2.81c.8-.78.8-2.07 0-2.86zM5.41 20L4 18.59l7.72-7.72 1.47 1.35L5.41 20z\"/>\n",
              "  </svg>\n",
              "      </button>\n",
              "      \n",
              "  <style>\n",
              "    .colab-df-container {\n",
              "      display:flex;\n",
              "      flex-wrap:wrap;\n",
              "      gap: 12px;\n",
              "    }\n",
              "\n",
              "    .colab-df-convert {\n",
              "      background-color: #E8F0FE;\n",
              "      border: none;\n",
              "      border-radius: 50%;\n",
              "      cursor: pointer;\n",
              "      display: none;\n",
              "      fill: #1967D2;\n",
              "      height: 32px;\n",
              "      padding: 0 0 0 0;\n",
              "      width: 32px;\n",
              "    }\n",
              "\n",
              "    .colab-df-convert:hover {\n",
              "      background-color: #E2EBFA;\n",
              "      box-shadow: 0px 1px 2px rgba(60, 64, 67, 0.3), 0px 1px 3px 1px rgba(60, 64, 67, 0.15);\n",
              "      fill: #174EA6;\n",
              "    }\n",
              "\n",
              "    [theme=dark] .colab-df-convert {\n",
              "      background-color: #3B4455;\n",
              "      fill: #D2E3FC;\n",
              "    }\n",
              "\n",
              "    [theme=dark] .colab-df-convert:hover {\n",
              "      background-color: #434B5C;\n",
              "      box-shadow: 0px 1px 3px 1px rgba(0, 0, 0, 0.15);\n",
              "      filter: drop-shadow(0px 1px 2px rgba(0, 0, 0, 0.3));\n",
              "      fill: #FFFFFF;\n",
              "    }\n",
              "  </style>\n",
              "\n",
              "      <script>\n",
              "        const buttonEl =\n",
              "          document.querySelector('#df-fe393214-5ae3-419c-ac98-763e01aa8dd1 button.colab-df-convert');\n",
              "        buttonEl.style.display =\n",
              "          google.colab.kernel.accessAllowed ? 'block' : 'none';\n",
              "\n",
              "        async function convertToInteractive(key) {\n",
              "          const element = document.querySelector('#df-fe393214-5ae3-419c-ac98-763e01aa8dd1');\n",
              "          const dataTable =\n",
              "            await google.colab.kernel.invokeFunction('convertToInteractive',\n",
              "                                                     [key], {});\n",
              "          if (!dataTable) return;\n",
              "\n",
              "          const docLinkHtml = 'Like what you see? Visit the ' +\n",
              "            '<a target=\"_blank\" href=https://colab.research.google.com/notebooks/data_table.ipynb>data table notebook</a>'\n",
              "            + ' to learn more about interactive tables.';\n",
              "          element.innerHTML = '';\n",
              "          dataTable['output_type'] = 'display_data';\n",
              "          await google.colab.output.renderOutput(dataTable, element);\n",
              "          const docLink = document.createElement('div');\n",
              "          docLink.innerHTML = docLinkHtml;\n",
              "          element.appendChild(docLink);\n",
              "        }\n",
              "      </script>\n",
              "    </div>\n",
              "  </div>\n",
              "  "
            ]
          },
          "metadata": {},
          "execution_count": 47
        }
      ],
      "source": [
        "df.drop_duplicates(['primer_nombre'], keep ='first')"
      ]
    },
    {
      "cell_type": "markdown",
      "metadata": {
        "id": "xo35L0QsE24U"
      },
      "source": [
        "**Ejercicio**\n",
        "\n",
        "* Agrega las columnas siguientes: `edad_mas_5`, `nombre_completo` y `genero`\n",
        " - `edad_mas_5`viene de sumar 5 a la etiqueta `edad`\n",
        " - `nombre_completo` viene de sumar las etiquetas `primer_nombre`, `_` y `ultimo_nombre`\n",
        " - `genero` es una serie de elementos `'F','F','M','M','M','F'.`"
      ]
    },
    {
      "cell_type": "code",
      "execution_count": 49,
      "metadata": {
        "colab": {
          "base_uri": "https://localhost:8080/"
        },
        "id": "Hju_v1OUs8XV",
        "outputId": "85b35780-8bb9-4305-cb9c-b55072b76e5a"
      },
      "outputs": [
        {
          "output_type": "stream",
          "name": "stdout",
          "text": [
            "   edad primer_nombre ultimo_nombre  edad_mas_5 nombre_completo genero\n",
            "0    25          Juan         Pérez          30      Juan Pérez      F\n",
            "1    30         María         Gómez          35     María Gómez      F\n",
            "2    40         Pedro      González          45  Pedro González      M\n",
            "3    35           Ana         López          40       Ana López      M\n",
            "4    28          Luis        Torres          33     Luis Torres      M\n",
            "5    32         Laura      Martínez          37  Laura Martínez      F\n"
          ]
        }
      ],
      "source": [
        "# Tu respuesta\n",
        "import pandas as pd\n",
        "\n",
        "# Crear el DataFrame inicial\n",
        "df = pd.DataFrame({\n",
        "    'edad': [25, 30, 40, 35, 28, 32],\n",
        "    'primer_nombre': ['Juan', 'María', 'Pedro', 'Ana', 'Luis', 'Laura'],\n",
        "    'ultimo_nombre': ['Pérez', 'Gómez', 'González', 'López', 'Torres', 'Martínez']\n",
        "})\n",
        "\n",
        "# Agregar la columna 'edad_mas_5'\n",
        "df['edad_mas_5'] = df['edad'] + 5\n",
        "\n",
        "# Agregar la columna 'nombre_completo'\n",
        "df['nombre_completo'] = df['primer_nombre'] + ' ' + df['ultimo_nombre']\n",
        "\n",
        "# Agregar la columna 'genero'\n",
        "df['genero'] = pd.Series(['F', 'F', 'M', 'M', 'M', 'F'])\n",
        "\n",
        "# Imprimir el DataFrame resultante\n",
        "print(df)\n"
      ]
    },
    {
      "cell_type": "markdown",
      "metadata": {
        "id": "LV8Khzaqt5oY"
      },
      "source": [
        "#### Datos perdidos\n",
        "\n",
        "pandas usa principalmente el valor `np.nan` para representar los datos que faltan. Por defecto no se incluye en los cálculos."
      ]
    },
    {
      "cell_type": "code",
      "execution_count": 50,
      "metadata": {
        "colab": {
          "base_uri": "https://localhost:8080/"
        },
        "id": "APXmU7Gxyno_",
        "outputId": "306be40e-5a04-4cb0-ba4b-cf014b655448"
      },
      "outputs": [
        {
          "output_type": "stream",
          "name": "stdout",
          "text": [
            "DataFrame original:\n",
            "     A     B     C\n",
            "0  1.0   6.0  11.0\n",
            "1  2.0   7.0   NaN\n",
            "2  NaN   8.0  13.0\n",
            "3  4.0   NaN  14.0\n",
            "4  5.0  10.0  15.0\n",
            "Valores nulos:\n",
            "       A      B      C\n",
            "0  False  False  False\n",
            "1  False  False   True\n",
            "2   True  False  False\n",
            "3  False   True  False\n",
            "4  False  False  False\n",
            "DataFrame sin filas con valores nulos:\n",
            "     A     B     C\n",
            "0  1.0   6.0  11.0\n",
            "4  5.0  10.0  15.0\n",
            "DataFrame con valores nulos rellenados:\n",
            "     A     B     C\n",
            "0  1.0   6.0  11.0\n",
            "1  2.0   7.0   0.0\n",
            "2  0.0   8.0  13.0\n",
            "3  4.0   0.0  14.0\n",
            "4  5.0  10.0  15.0\n"
          ]
        }
      ],
      "source": [
        "import pandas as pd\n",
        "import numpy as np\n",
        "\n",
        "# Crear un DataFrame de ejemplo\n",
        "df = pd.DataFrame({\n",
        "    'A': [1, 2, np.nan, 4, 5],\n",
        "    'B': [6, 7, 8, np.nan, 10],\n",
        "    'C': [11, np.nan, 13, 14, 15]\n",
        "})\n",
        "\n",
        "# Imprimir el DataFrame original\n",
        "print(\"DataFrame original:\")\n",
        "print(df)\n",
        "\n",
        "# Verificar los valores nulos en el DataFrame\n",
        "print(\"Valores nulos:\")\n",
        "print(pd.isnull(df))\n",
        "\n",
        "# Eliminar filas con valores nulos\n",
        "print(\"DataFrame sin filas con valores nulos:\")\n",
        "print(df.dropna())\n",
        "\n",
        "# Rellenar valores nulos con un valor específico\n",
        "print(\"DataFrame con valores nulos rellenados:\")\n",
        "print(df.fillna(value=0))\n"
      ]
    },
    {
      "cell_type": "markdown",
      "metadata": {
        "id": "z4nEIfqkE24Y"
      },
      "source": [
        "#### Operaciones"
      ]
    },
    {
      "cell_type": "code",
      "execution_count": 51,
      "metadata": {
        "colab": {
          "base_uri": "https://localhost:8080/"
        },
        "id": "TAq1dqYH0kFe",
        "outputId": "90eb5cc5-151f-4fbf-8168-084ffba5a832"
      },
      "outputs": [
        {
          "output_type": "stream",
          "name": "stdout",
          "text": [
            "Media de la columna 'edad': 32.5\n",
            "DataFrame con valores NaN reemplazados:    edad  altura  peso\n",
            "0  25.0   160.0    60\n",
            "1  30.0   170.0    70\n",
            "2  32.5   175.0    80\n",
            "3  35.0     NaN    90\n",
            "4  40.0   180.0   100\n",
            "Media de todas las columnas:\n",
            "edad       32.50\n",
            "altura    171.25\n",
            "peso       80.00\n",
            "dtype: float64\n",
            "Valor mínimo de la columna 'altura': 160.0\n",
            "Valor máximo de la columna 'peso': 100\n",
            "Suma de la columna 'peso': 400\n",
            "Número de valores no nulos en la columna 'edad': 5\n",
            "Suma acumulativa de las columnas:\n",
            "    edad  altura  peso\n",
            "0   25.0   160.0    60\n",
            "1   55.0   330.0   130\n",
            "2   87.5   505.0   210\n",
            "3  122.5     NaN   300\n",
            "4  162.5   685.0   400\n"
          ]
        }
      ],
      "source": [
        "import pandas as pd\n",
        "import numpy as np\n",
        "\n",
        "# Crear un DataFrame de ejemplo\n",
        "df = pd.DataFrame({\n",
        "    'edad': [25, 30, np.nan, 35, 40],\n",
        "    'altura': [160, 170, 175, np.nan, 180],\n",
        "    'peso': [60, 70, 80, 90, 100]\n",
        "})\n",
        "\n",
        "# Calcular la media de una columna\n",
        "media = df['edad'].mean()\n",
        "print(\"Media de la columna 'edad':\", media)\n",
        "\n",
        "# Reemplazar los valores NaN con la media\n",
        "df['edad'].fillna(media, inplace=True)\n",
        "print(\"DataFrame con valores NaN reemplazados:\", df)\n",
        "\n",
        "# Calcular la media de todas las columnas\n",
        "media_total = df.mean()\n",
        "print(\"Media de todas las columnas:\")\n",
        "print(media_total)\n",
        "\n",
        "# Calcular el valor mínimo de una columna\n",
        "minimo = df['altura'].min()\n",
        "print(\"Valor mínimo de la columna 'altura':\", minimo)\n",
        "\n",
        "# Calcular el valor máximo de una columna\n",
        "maximo = df['peso'].max()\n",
        "print(\"Valor máximo de la columna 'peso':\", maximo)\n",
        "\n",
        "# Calcular la suma de una columna\n",
        "suma = df['peso'].sum()\n",
        "print(\"Suma de la columna 'peso':\", suma)\n",
        "\n",
        "# Contar el número de valores no nulos en una columna\n",
        "conteo = df['edad'].count()\n",
        "print(\"Número de valores no nulos en la columna 'edad':\", conteo)\n",
        "\n",
        "# Calcular la suma acumulativa de las columnas\n",
        "suma_acumulativa = df.cumsum()\n",
        "print(\"Suma acumulativa de las columnas:\")\n",
        "print(suma_acumulativa)\n"
      ]
    },
    {
      "cell_type": "markdown",
      "metadata": {
        "id": "7qJamnllXGKQ"
      },
      "source": [
        "#### Aplicación de función a elemento, columna o dataframe\n"
      ]
    },
    {
      "cell_type": "code",
      "execution_count": null,
      "metadata": {
        "id": "M_cB15f70m6-"
      },
      "outputs": [],
      "source": [
        "# completar"
      ]
    },
    {
      "cell_type": "code",
      "execution_count": null,
      "metadata": {
        "id": "6t1wvCStXU1O"
      },
      "outputs": [],
      "source": [
        "# Map: itera sobre cada elemento de una serie\n",
        "# Completar agrega una constante 1 a cada elemento de la column1\n"
      ]
    },
    {
      "cell_type": "code",
      "execution_count": null,
      "metadata": {
        "id": "mYEdjDSUXmrb"
      },
      "outputs": [],
      "source": [
        "#func=lambda x: x+1\n",
        "#df_filtrado = df.iloc[:, 2:4]\n",
        "#print(df_filtrado)"
      ]
    },
    {
      "cell_type": "code",
      "execution_count": null,
      "metadata": {
        "id": "YBiAYP8jYnzO"
      },
      "outputs": [],
      "source": [
        "#print(df_filtrado.applymap(func))"
      ]
    },
    {
      "cell_type": "markdown",
      "metadata": {
        "id": "gTfob_MNE24d"
      },
      "source": [
        "**Ejemplo**\n",
        "\n",
        "La parte del poder de pandas se da por los métodos integrados en los objetos Series y DataFrame."
      ]
    },
    {
      "cell_type": "code",
      "execution_count": null,
      "metadata": {
        "id": "-2wsN-rDE24d"
      },
      "outputs": [],
      "source": [
        "from io import StringIO\n",
        "data = StringIO('''UPC,Units,Sales,Date\n",
        "1234,5,20.2,1-1-2014\n",
        "1234,2,8.,1-2-2014\n",
        "1234,3,13.,1-3-2014\n",
        "789,1,2.,1-1-2014\n",
        "789,2,3.8,1-2-2014\n",
        "789,,,1-3-2014\n",
        "789,1,1.8,1-5-2014''')"
      ]
    },
    {
      "cell_type": "code",
      "execution_count": null,
      "metadata": {
        "id": "3PC19vr5E24e"
      },
      "outputs": [],
      "source": [
        "sales = pd.read_csv(data)\n",
        "sales"
      ]
    },
    {
      "cell_type": "code",
      "execution_count": null,
      "metadata": {
        "id": "eFW3TDAfE24e"
      },
      "outputs": [],
      "source": [
        "sales.shape"
      ]
    },
    {
      "cell_type": "code",
      "execution_count": null,
      "metadata": {
        "id": "O7YnDno1E24f"
      },
      "outputs": [],
      "source": [
        "sales.info()"
      ]
    },
    {
      "cell_type": "markdown",
      "metadata": {
        "id": "u2lvu3E-E24f"
      },
      "source": [
        "A diferencia del objeto `Series` que prueba la pertenencia con el índice, el `DataFrame` prueba la pertenencia con las columnas. El comportamiento de iteración `(__iter__)` y el comportamiento de pertenencia `(__contains__)` es el mismo para el `DataFrame`."
      ]
    },
    {
      "cell_type": "markdown",
      "metadata": {
        "id": "wZTg8UPXE24g"
      },
      "source": [
        "#### Operaciones de índice\n"
      ]
    },
    {
      "cell_type": "code",
      "execution_count": null,
      "metadata": {
        "id": "rBnecGb3E24g"
      },
      "outputs": [],
      "source": [
        "# sales.reindex([0, 4])"
      ]
    },
    {
      "cell_type": "code",
      "execution_count": null,
      "metadata": {
        "id": "Ccs6XESbE24h"
      },
      "outputs": [],
      "source": [
        "#sales.reindex(columns=['Date', 'Sales'])"
      ]
    },
    {
      "cell_type": "markdown",
      "metadata": {
        "id": "IX1p7zDEE24h"
      },
      "source": [
        "La selección de columnas e índices se puede combinar para refinar aún más la selección. Además, se pueden incluir nuevas entradas para valores de índices y nombres de columna. Por defecto, usarán el parámetro opcional `fill_value` (que es NaN a menos que se especifique):"
      ]
    },
    {
      "cell_type": "code",
      "execution_count": null,
      "metadata": {
        "id": "nafhZ-VpE24i"
      },
      "outputs": [],
      "source": [
        "#sales.reindex(index=[2, 6, 8], columns=['Sales', 'MIT', 'missing'])"
      ]
    },
    {
      "cell_type": "code",
      "execution_count": null,
      "metadata": {
        "id": "JxmCeWnEE24i"
      },
      "outputs": [],
      "source": [
        "#by_date = sales.set_index('Date')\n",
        "#by_date"
      ]
    },
    {
      "cell_type": "markdown",
      "metadata": {
        "id": "VRn6XDeZE24i"
      },
      "source": [
        "Para agregar un índice entero creciente a un data frame, usa `.reset_index`:"
      ]
    },
    {
      "cell_type": "code",
      "execution_count": null,
      "metadata": {
        "id": "IC7HMusFE24i"
      },
      "outputs": [],
      "source": [
        "# by_date.reset_index()"
      ]
    },
    {
      "cell_type": "markdown",
      "metadata": {
        "id": "QAkgUKPkE24j"
      },
      "source": [
        "#### Obtener y establecer valores\n"
      ]
    },
    {
      "cell_type": "code",
      "execution_count": null,
      "metadata": {
        "id": "0AIXBmFoE24j"
      },
      "outputs": [],
      "source": [
        "#sales.iat[4, 2]"
      ]
    },
    {
      "cell_type": "markdown",
      "metadata": {
        "id": "kdziA0pNE24j"
      },
      "source": [
        "\n",
        "A continuación, insertamos una columna `Category` después de ` UPC`  (en la posición 1):"
      ]
    },
    {
      "cell_type": "code",
      "execution_count": null,
      "metadata": {
        "id": "5v00mRwQE24j"
      },
      "outputs": [],
      "source": [
        "#sales.insert(1, 'Category', 'Food')\n",
        "# sales"
      ]
    },
    {
      "cell_type": "markdown",
      "metadata": {
        "id": "pXtyK1-jE24k"
      },
      "source": [
        "El método `.replace` es una forma poderosa de actualizar muchos valores de un data frame en las columnas. Para reemplazar todos los 789 con 790, realiza lo siguiente:"
      ]
    },
    {
      "cell_type": "code",
      "execution_count": null,
      "metadata": {
        "id": "klfXkOa0E24k"
      },
      "outputs": [],
      "source": [
        "# sales.replace(789, 790)"
      ]
    },
    {
      "cell_type": "code",
      "execution_count": null,
      "metadata": {
        "id": "iBuAXtzcE24l"
      },
      "outputs": [],
      "source": [
        "#sales.replace({'UPC': {789:790},\n",
        "#                'Sales': {789: 1.4}})"
      ]
    },
    {
      "cell_type": "markdown",
      "metadata": {
        "id": "MYiALK1iE24l"
      },
      "source": [
        "El método `replace` también acepta expresiones regulares (pueden ser incluidas en diccionarios anidados) si  el paramétro`regex` se coloca en `True`."
      ]
    },
    {
      "cell_type": "code",
      "execution_count": null,
      "metadata": {
        "id": "GP9DCbXGE24l"
      },
      "outputs": [],
      "source": [
        "#sales.replace('(F.*d)', r'\\1_stuff', regex=True)"
      ]
    },
    {
      "cell_type": "markdown",
      "metadata": {
        "id": "Hn_LMJ2sE24l"
      },
      "source": [
        "#### Eliminación de  columnas\n",
        "\n",
        "Hay al menos cuatro formas de eliminar una columna:\n",
        "\n",
        "* El método `.pop`\n",
        "\n",
        "* El método `.drop` con `axis = 1`\n",
        "\n",
        "* El método `.reindex`\n",
        "\n",
        "* Indexación con una lista de nuevas columnas\n",
        "\n",
        "El método `.pop` toma el nombre de una columna y lo elimina del data frame. Opera in-place. En lugar de devolver un data frame, devuelve la columna eliminada."
      ]
    },
    {
      "cell_type": "code",
      "execution_count": null,
      "metadata": {
        "id": "ABgs5nRRE24m"
      },
      "outputs": [],
      "source": [
        "#sales['subcat'] = 'Dairy'\n",
        "#sales"
      ]
    },
    {
      "cell_type": "code",
      "execution_count": null,
      "metadata": {
        "id": "o-_aLNJVE24m"
      },
      "outputs": [],
      "source": [
        "# sales.pop('subcat')"
      ]
    },
    {
      "cell_type": "code",
      "execution_count": null,
      "metadata": {
        "id": "n8NIkLYDE24m"
      },
      "outputs": [],
      "source": [
        "#sales"
      ]
    },
    {
      "cell_type": "markdown",
      "metadata": {
        "id": "o31csy35E24m"
      },
      "source": [
        "Para quitar una columna con el método `.drop`, simplemente páselo (o una lista de nombres de columna) junto con la configuración del parámetro `axis` en 1:"
      ]
    },
    {
      "cell_type": "code",
      "execution_count": 52,
      "metadata": {
        "colab": {
          "base_uri": "https://localhost:8080/"
        },
        "id": "HorOaso2E24n",
        "outputId": "9b55bd88-48d0-4b7f-8b2d-cf2e1bbb2f2c"
      },
      "outputs": [
        {
          "output_type": "stream",
          "name": "stdout",
          "text": [
            "   col1  col3\n",
            "0     1     7\n",
            "1     2     8\n",
            "2     3     9\n"
          ]
        }
      ],
      "source": [
        "# completar\n",
        "import pandas as pd\n",
        "\n",
        "# Crear un DataFrame de ejemplo\n",
        "df = pd.DataFrame({\n",
        "    'col1': [1, 2, 3],\n",
        "    'col2': [4, 5, 6],\n",
        "    'col3': [7, 8, 9]\n",
        "})\n",
        "\n",
        "# Quitar una columna específica\n",
        "df = df.drop('col2', axis=1)\n",
        "print(df)\n"
      ]
    },
    {
      "cell_type": "markdown",
      "metadata": {
        "id": "-DMxtcTzE24n"
      },
      "source": [
        "#### Los dos métodos finales para eliminar columnas"
      ]
    },
    {
      "cell_type": "code",
      "execution_count": null,
      "metadata": {
        "id": "BR2tpVM2E24n"
      },
      "outputs": [],
      "source": [
        "#cols = ['Sales', 'Date']"
      ]
    },
    {
      "cell_type": "code",
      "execution_count": null,
      "metadata": {
        "id": "__nAK10PE24n"
      },
      "outputs": [],
      "source": [
        "# sales.reindex(columns=cols)"
      ]
    },
    {
      "cell_type": "code",
      "execution_count": null,
      "metadata": {
        "id": "xpFEa6EsE24o"
      },
      "outputs": [],
      "source": [
        "#sales[cols]"
      ]
    },
    {
      "cell_type": "markdown",
      "metadata": {
        "id": "6-f9rHAhE24o"
      },
      "source": [
        "#### Recortes\n"
      ]
    },
    {
      "cell_type": "code",
      "execution_count": null,
      "metadata": {
        "id": "dJMBm4wsE24o"
      },
      "outputs": [],
      "source": [
        "#sales.head()"
      ]
    },
    {
      "cell_type": "code",
      "execution_count": null,
      "metadata": {
        "id": "jsRsSE21E24o"
      },
      "outputs": [],
      "source": [
        "#sales.tail(2)"
      ]
    },
    {
      "cell_type": "markdown",
      "metadata": {
        "id": "lwxeAyEzE24p"
      },
      "source": [
        "Usemos un índice basado en cadenas para que quede más claro qué hacen las opciones de recorte:"
      ]
    },
    {
      "cell_type": "code",
      "execution_count": 53,
      "metadata": {
        "colab": {
          "base_uri": "https://localhost:8080/"
        },
        "id": "l12U8z_YE24p",
        "outputId": "6c6698bb-b6b9-41f7-a3b8-729a8135e94c"
      },
      "outputs": [
        {
          "output_type": "stream",
          "name": "stdout",
          "text": [
            "        Producto  Ventas\n",
            "Febrero        B     200\n",
            "Marzo          C     150\n",
            "Abril          D     300\n"
          ]
        }
      ],
      "source": [
        "\n",
        "import pandas as pd\n",
        "\n",
        "# Crear un DataFrame de ejemplo\n",
        "sales = pd.DataFrame({\n",
        "    'Producto': ['A', 'B', 'C', 'D', 'E'],\n",
        "    'Ventas': [100, 200, 150, 300, 250],\n",
        "}, index=['Enero', 'Febrero', 'Marzo', 'Abril', 'Mayo'])\n",
        "\n",
        "# Recorte utilizando índice basado en cadenas\n",
        "sliced_sales = sales.loc['Febrero':'Abril']\n",
        "print(sliced_sales)\n"
      ]
    },
    {
      "cell_type": "code",
      "execution_count": 54,
      "metadata": {
        "colab": {
          "base_uri": "https://localhost:8080/"
        },
        "id": "NjSUztcjE24p",
        "outputId": "bacd657c-66cc-41c9-ca73-103d0a64fe1b"
      },
      "outputs": [
        {
          "output_type": "stream",
          "name": "stdout",
          "text": [
            "         Ventas\n",
            "Enero       100\n",
            "Febrero     200\n",
            "Marzo       150\n",
            "Abril       300\n",
            "Mayo        250\n"
          ]
        }
      ],
      "source": [
        "# del sales['new_index']\n",
        "# Eliminar una columna específica\n",
        "del sales['Producto']\n",
        "print(sales)\n"
      ]
    },
    {
      "cell_type": "code",
      "execution_count": null,
      "metadata": {
        "id": "mMWnUkUSE24p"
      },
      "outputs": [],
      "source": [
        "# df"
      ]
    },
    {
      "cell_type": "markdown",
      "metadata": {
        "id": "QhROpPw9E24q"
      },
      "source": [
        "Para dividir por posición, usa el atributo `.iloc`. Aquí tomamos filas en las posiciones dos hasta cuatro, pero sin incluirlas:"
      ]
    },
    {
      "cell_type": "code",
      "execution_count": null,
      "metadata": {
        "id": "-S3HGfk5E24q"
      },
      "outputs": [],
      "source": [
        "#df.iloc[2:4]"
      ]
    },
    {
      "cell_type": "markdown",
      "metadata": {
        "id": "e1GsWHhyE24q"
      },
      "source": [
        "También podemos proporcionar posiciones de columna que también queremos mantener. Las posiciones de las columnas deben seguir una coma en la operación de índice. Aquí mantenemos las filas desde dos hasta pero sin incluir la fila cuatro. También tomamos columnas desde cero hasta pero sin incluir uno (solo la columna en la posición de índice cero).\n",
        "\n",
        "Esto se expresa en la siguiente figura:\n",
        "\n",
        "\n",
        "<img src=\"recorte-pandas.png\" alt=\"Drawing\" style=\"width: 500px;\"/>\n",
        "\n",
        "A continuación se muestra un resumen de las construcciones de  de data frame por posición y etiqueta.\n",
        "\n",
        "\n",
        "```\n",
        ".iloc [i: j]            Posición de filas i hasta pero sin incluir j (semiabierto)\n",
        ".iloc [:, i: j]         Posición de las columnas i hasta pero sin incluir j (semiabierto)\n",
        ".iloc [[i, k, m]]       Filas en i, k y m (no es un intervalo)\n",
        ".loc [a: b]             Filas desde la etiqueta de índice a hasta b (cerrado)\n",
        ".loc [:, c: d]          Columnas de la etiqueta de columna c a d (cerrado)\n",
        ".loc [: [b, d, f]]      Columnas en las etiquetas b, d y f (no es un intervalo)\n",
        "\n",
        "```\n",
        "\n",
        "<img src=\"recorte-ejemplo.png\" alt=\"Drawing\" style=\"width: 600px;\"/>"
      ]
    },
    {
      "cell_type": "code",
      "execution_count": 57,
      "metadata": {
        "id": "9gLtKmDHE24q"
      },
      "outputs": [],
      "source": [
        "#df = df.drop(['Category'], axis=1)\n",
        "#df"
      ]
    },
    {
      "cell_type": "code",
      "execution_count": null,
      "metadata": {
        "id": "ofCbFn1-E24r"
      },
      "outputs": [],
      "source": [
        "# df.iloc[2:4, 0:1]"
      ]
    },
    {
      "cell_type": "markdown",
      "metadata": {
        "id": "2EwnbHtNE24r"
      },
      "source": [
        "También hay soporte para dividir datos por etiquetas. Usando el atributo `.loc`, podemos tomar valores de índice desde la `a` a la `d`:"
      ]
    },
    {
      "cell_type": "code",
      "execution_count": 58,
      "metadata": {
        "colab": {
          "base_uri": "https://localhost:8080/"
        },
        "id": "96nP3VixE24r",
        "outputId": "4330612a-f60a-481c-93c3-23e4fd486a51"
      },
      "outputs": [
        {
          "output_type": "stream",
          "name": "stdout",
          "text": [
            "Empty DataFrame\n",
            "Columns: [col1, col3]\n",
            "Index: []\n"
          ]
        }
      ],
      "source": [
        "# completar\n",
        "# Seleccionar valores de índice desde 'a' hasta 'd'\n",
        "selection = df.loc['a':'d']\n",
        "print(selection)\n"
      ]
    },
    {
      "cell_type": "markdown",
      "metadata": {
        "id": "nb70sFqrE24s"
      },
      "source": [
        "Y al igual que `.iloc`, `.loc` tiene la capacidad de especificar columnas por etiqueta. En este ejemplo, solo tomamos la columna `Units` y, por lo tanto, devuelve una serie:"
      ]
    },
    {
      "cell_type": "code",
      "execution_count": 56,
      "metadata": {
        "colab": {
          "base_uri": "https://localhost:8080/"
        },
        "id": "tOHY1roKE24s",
        "outputId": "6120276b-74b9-44e9-b41a-4280583c194e"
      },
      "outputs": [
        {
          "output_type": "stream",
          "name": "stdout",
          "text": [
            "Index(['col1', 'col3'], dtype='object')\n"
          ]
        }
      ],
      "source": [
        "# completar\n",
        "units = df.loc[:, 'Units']\n",
        "print(units)\n",
        "\n"
      ]
    },
    {
      "cell_type": "markdown",
      "metadata": {
        "id": "z02j6y9YE24s"
      },
      "source": [
        "Sacamos las columnas `UPC` y `Sales`, pero con solo los últimos 4 valores:"
      ]
    },
    {
      "cell_type": "code",
      "execution_count": null,
      "metadata": {
        "id": "zur_tuKZE24s"
      },
      "outputs": [],
      "source": [
        "# Completar\n",
        "selection = df.loc[:, ['UPC', 'Sales']].tail(4)\n",
        "print(selection)\n"
      ]
    },
    {
      "cell_type": "markdown",
      "metadata": {
        "id": "B7n_sZSRZAOZ"
      },
      "source": [
        "### Merge/Join\n"
      ]
    },
    {
      "cell_type": "code",
      "execution_count": 59,
      "metadata": {
        "colab": {
          "base_uri": "https://localhost:8080/"
        },
        "id": "E-2aVs4aY0Vr",
        "outputId": "21a3fea9-c2e4-40e5-ce8d-61977d8539d5"
      },
      "outputs": [
        {
          "output_type": "stream",
          "name": "stdout",
          "text": [
            "  emp_id primer_nombre ultimo_nombre\n",
            "0      1         Jason        Larkin\n",
            "1      2          Andy         Jacob\n",
            "2      3         Allen             A\n",
            "3      4          John            AA\n",
            "4      5           Amy       Jackson\n"
          ]
        }
      ],
      "source": [
        "data = {\n",
        "        'emp_id': ['1', '2', '3', '4', '5'],\n",
        "        'primer_nombre': ['Jason', 'Andy', 'Allen', 'John', 'Amy'],\n",
        "        'ultimo_nombre': ['Larkin', 'Jacob', 'A', 'AA', 'Jackson']}\n",
        "df_1 = pd.DataFrame(data, columns = ['emp_id', 'primer_nombre', 'ultimo_nombre'])\n",
        "print (df_1)"
      ]
    },
    {
      "cell_type": "code",
      "execution_count": 60,
      "metadata": {
        "colab": {
          "base_uri": "https://localhost:8080/"
        },
        "id": "jA72OR5JZZ6f",
        "outputId": "bb875a4f-c67d-42a6-a576-3cfdb130706b"
      },
      "outputs": [
        {
          "output_type": "stream",
          "name": "stdout",
          "text": [
            "  emp_id primer_nombre ultimo_nombre\n",
            "0      4         James     Alexander\n",
            "1      5         Shize          Suma\n",
            "2      6           Kim          Mike\n",
            "3      7          Jose             G\n"
          ]
        }
      ],
      "source": [
        "data = {\n",
        "        'emp_id': ['4', '5', '6', '7'],\n",
        "        'primer_nombre': ['James', 'Shize', 'Kim', 'Jose'],\n",
        "        'ultimo_nombre': ['Alexander', 'Suma', 'Mike', 'G']}\n",
        "df_2 = pd.DataFrame(data, columns = ['emp_id', 'primer_nombre', 'ultimo_nombre'])\n",
        "print (df_2)"
      ]
    },
    {
      "cell_type": "code",
      "execution_count": 61,
      "metadata": {
        "colab": {
          "base_uri": "https://localhost:8080/"
        },
        "id": "FR8uGPpNZlgO",
        "outputId": "5d9b3267-9dcd-4dae-9b83-554e4871acef"
      },
      "outputs": [
        {
          "output_type": "stream",
          "name": "stdout",
          "text": [
            "  emp_id primer_nombre ultimo_nombre\n",
            "0      1         Jason        Larkin\n",
            "1      2          Andy         Jacob\n",
            "2      3         Allen             A\n",
            "3      4          John            AA\n",
            "4      5           Amy       Jackson\n",
            "0      4         James     Alexander\n",
            "1      5         Shize          Suma\n",
            "2      6           Kim          Mike\n",
            "3      7          Jose             G\n"
          ]
        }
      ],
      "source": [
        "# usando concat\n",
        "df = pd.concat([df_1, df_2])\n",
        "print(df)"
      ]
    },
    {
      "cell_type": "code",
      "execution_count": 62,
      "metadata": {
        "colab": {
          "base_uri": "https://localhost:8080/",
          "height": 206
        },
        "id": "IfJmK4rLZ5-X",
        "outputId": "d3d8d072-f4fa-4c39-f441-6e1f43360639"
      },
      "outputs": [
        {
          "output_type": "execute_result",
          "data": {
            "text/plain": [
              "  emp_id primer_nombre ultimo_nombre emp_id primer_nombre ultimo_nombre\n",
              "0      1         Jason        Larkin      4         James     Alexander\n",
              "1      2          Andy         Jacob      5         Shize          Suma\n",
              "2      3         Allen             A      6           Kim          Mike\n",
              "3      4          John            AA      7          Jose             G\n",
              "4      5           Amy       Jackson    NaN           NaN           NaN"
            ],
            "text/html": [
              "\n",
              "  <div id=\"df-faba548d-b339-45f4-9e15-e49957325a46\">\n",
              "    <div class=\"colab-df-container\">\n",
              "      <div>\n",
              "<style scoped>\n",
              "    .dataframe tbody tr th:only-of-type {\n",
              "        vertical-align: middle;\n",
              "    }\n",
              "\n",
              "    .dataframe tbody tr th {\n",
              "        vertical-align: top;\n",
              "    }\n",
              "\n",
              "    .dataframe thead th {\n",
              "        text-align: right;\n",
              "    }\n",
              "</style>\n",
              "<table border=\"1\" class=\"dataframe\">\n",
              "  <thead>\n",
              "    <tr style=\"text-align: right;\">\n",
              "      <th></th>\n",
              "      <th>emp_id</th>\n",
              "      <th>primer_nombre</th>\n",
              "      <th>ultimo_nombre</th>\n",
              "      <th>emp_id</th>\n",
              "      <th>primer_nombre</th>\n",
              "      <th>ultimo_nombre</th>\n",
              "    </tr>\n",
              "  </thead>\n",
              "  <tbody>\n",
              "    <tr>\n",
              "      <th>0</th>\n",
              "      <td>1</td>\n",
              "      <td>Jason</td>\n",
              "      <td>Larkin</td>\n",
              "      <td>4</td>\n",
              "      <td>James</td>\n",
              "      <td>Alexander</td>\n",
              "    </tr>\n",
              "    <tr>\n",
              "      <th>1</th>\n",
              "      <td>2</td>\n",
              "      <td>Andy</td>\n",
              "      <td>Jacob</td>\n",
              "      <td>5</td>\n",
              "      <td>Shize</td>\n",
              "      <td>Suma</td>\n",
              "    </tr>\n",
              "    <tr>\n",
              "      <th>2</th>\n",
              "      <td>3</td>\n",
              "      <td>Allen</td>\n",
              "      <td>A</td>\n",
              "      <td>6</td>\n",
              "      <td>Kim</td>\n",
              "      <td>Mike</td>\n",
              "    </tr>\n",
              "    <tr>\n",
              "      <th>3</th>\n",
              "      <td>4</td>\n",
              "      <td>John</td>\n",
              "      <td>AA</td>\n",
              "      <td>7</td>\n",
              "      <td>Jose</td>\n",
              "      <td>G</td>\n",
              "    </tr>\n",
              "    <tr>\n",
              "      <th>4</th>\n",
              "      <td>5</td>\n",
              "      <td>Amy</td>\n",
              "      <td>Jackson</td>\n",
              "      <td>NaN</td>\n",
              "      <td>NaN</td>\n",
              "      <td>NaN</td>\n",
              "    </tr>\n",
              "  </tbody>\n",
              "</table>\n",
              "</div>\n",
              "      <button class=\"colab-df-convert\" onclick=\"convertToInteractive('df-faba548d-b339-45f4-9e15-e49957325a46')\"\n",
              "              title=\"Convert this dataframe to an interactive table.\"\n",
              "              style=\"display:none;\">\n",
              "        \n",
              "  <svg xmlns=\"http://www.w3.org/2000/svg\" height=\"24px\"viewBox=\"0 0 24 24\"\n",
              "       width=\"24px\">\n",
              "    <path d=\"M0 0h24v24H0V0z\" fill=\"none\"/>\n",
              "    <path d=\"M18.56 5.44l.94 2.06.94-2.06 2.06-.94-2.06-.94-.94-2.06-.94 2.06-2.06.94zm-11 1L8.5 8.5l.94-2.06 2.06-.94-2.06-.94L8.5 2.5l-.94 2.06-2.06.94zm10 10l.94 2.06.94-2.06 2.06-.94-2.06-.94-.94-2.06-.94 2.06-2.06.94z\"/><path d=\"M17.41 7.96l-1.37-1.37c-.4-.4-.92-.59-1.43-.59-.52 0-1.04.2-1.43.59L10.3 9.45l-7.72 7.72c-.78.78-.78 2.05 0 2.83L4 21.41c.39.39.9.59 1.41.59.51 0 1.02-.2 1.41-.59l7.78-7.78 2.81-2.81c.8-.78.8-2.07 0-2.86zM5.41 20L4 18.59l7.72-7.72 1.47 1.35L5.41 20z\"/>\n",
              "  </svg>\n",
              "      </button>\n",
              "      \n",
              "  <style>\n",
              "    .colab-df-container {\n",
              "      display:flex;\n",
              "      flex-wrap:wrap;\n",
              "      gap: 12px;\n",
              "    }\n",
              "\n",
              "    .colab-df-convert {\n",
              "      background-color: #E8F0FE;\n",
              "      border: none;\n",
              "      border-radius: 50%;\n",
              "      cursor: pointer;\n",
              "      display: none;\n",
              "      fill: #1967D2;\n",
              "      height: 32px;\n",
              "      padding: 0 0 0 0;\n",
              "      width: 32px;\n",
              "    }\n",
              "\n",
              "    .colab-df-convert:hover {\n",
              "      background-color: #E2EBFA;\n",
              "      box-shadow: 0px 1px 2px rgba(60, 64, 67, 0.3), 0px 1px 3px 1px rgba(60, 64, 67, 0.15);\n",
              "      fill: #174EA6;\n",
              "    }\n",
              "\n",
              "    [theme=dark] .colab-df-convert {\n",
              "      background-color: #3B4455;\n",
              "      fill: #D2E3FC;\n",
              "    }\n",
              "\n",
              "    [theme=dark] .colab-df-convert:hover {\n",
              "      background-color: #434B5C;\n",
              "      box-shadow: 0px 1px 3px 1px rgba(0, 0, 0, 0.15);\n",
              "      filter: drop-shadow(0px 1px 2px rgba(0, 0, 0, 0.3));\n",
              "      fill: #FFFFFF;\n",
              "    }\n",
              "  </style>\n",
              "\n",
              "      <script>\n",
              "        const buttonEl =\n",
              "          document.querySelector('#df-faba548d-b339-45f4-9e15-e49957325a46 button.colab-df-convert');\n",
              "        buttonEl.style.display =\n",
              "          google.colab.kernel.accessAllowed ? 'block' : 'none';\n",
              "\n",
              "        async function convertToInteractive(key) {\n",
              "          const element = document.querySelector('#df-faba548d-b339-45f4-9e15-e49957325a46');\n",
              "          const dataTable =\n",
              "            await google.colab.kernel.invokeFunction('convertToInteractive',\n",
              "                                                     [key], {});\n",
              "          if (!dataTable) return;\n",
              "\n",
              "          const docLinkHtml = 'Like what you see? Visit the ' +\n",
              "            '<a target=\"_blank\" href=https://colab.research.google.com/notebooks/data_table.ipynb>data table notebook</a>'\n",
              "            + ' to learn more about interactive tables.';\n",
              "          element.innerHTML = '';\n",
              "          dataTable['output_type'] = 'display_data';\n",
              "          await google.colab.output.renderOutput(dataTable, element);\n",
              "          const docLink = document.createElement('div');\n",
              "          docLink.innerHTML = docLinkHtml;\n",
              "          element.appendChild(docLink);\n",
              "        }\n",
              "      </script>\n",
              "    </div>\n",
              "  </div>\n",
              "  "
            ]
          },
          "metadata": {},
          "execution_count": 62
        }
      ],
      "source": [
        "# Juntando dos dataframes a lo largo de las columnas\n",
        "pd.concat([df_1,df_2], axis=1)"
      ]
    },
    {
      "cell_type": "markdown",
      "metadata": {
        "id": "Dob92Mh8cy-Q"
      },
      "source": [
        "Combinamos dos dataframes basados en el valor `emp_id` en este caso, solo se unirán los `emp_id` presentes en ambas tablas."
      ]
    },
    {
      "cell_type": "code",
      "execution_count": 63,
      "metadata": {
        "colab": {
          "base_uri": "https://localhost:8080/"
        },
        "id": "Qm6FdoJBbf8z",
        "outputId": "c82d00fa-ac3b-426f-fec3-362aed0362ad"
      },
      "outputs": [
        {
          "output_type": "stream",
          "name": "stdout",
          "text": [
            "  emp_id primer_nombre_x ultimo_nombre_x primer_nombre_y ultimo_nombre_y\n",
            "0      4            John              AA           James       Alexander\n",
            "1      5             Amy         Jackson           Shize            Suma\n"
          ]
        }
      ],
      "source": [
        "print(pd.merge(df_1,df_2, on='emp_id'))"
      ]
    },
    {
      "cell_type": "markdown",
      "metadata": {
        "id": "0_0FPmAtm7l_"
      },
      "source": [
        "### Grouping\n",
        "\n",
        "\n",
        "Pandas nos brinda la capacidad de agrupar data frames por valores de columna y luego fusionarlos nuevamente en un resultado con el método `.groupby`.\n",
        "Pandas `group by` nos permitirá lograr lo siguiente:\n",
        "\n",
        "- Aplicar una función de agregación a cada grupo de forma independiente\n",
        "- Según algunos criterios, divide los datos en grupos.\n",
        "- Combinar los resultados del `group by` en una estructura de datos.\n",
        "\n",
        "\n",
        "<img src=\"Groupby.png\" alt=\"Drawing\" style=\"width: 700px;\"/>\n",
        "\n",
        "Como ejemplo, en el data frame `scores`, calcularemos las puntuaciones medias de cada maestro. Primero llamamos a `.groupby` y entonces invocamos a `.median` en el resultado:"
      ]
    },
    {
      "cell_type": "code",
      "execution_count": null,
      "metadata": {
        "id": "hrMe0ka9E24y"
      },
      "outputs": [],
      "source": [
        "#scores = pd.DataFrame({\n",
        "#    'name':['Adam', 'Bob', 'Dave', 'Fred'],\n",
        "#    'age': [15, 16, 16, 15],\n",
        "#    'test1': [95, 81, 89, None],\n",
        "#    'test2': [80, 82, 84, 88],\n",
        "#    'teacher': ['Ashby', 'Ashby', 'Jones', 'Jones']})"
      ]
    },
    {
      "cell_type": "code",
      "execution_count": null,
      "metadata": {
        "id": "vhqX2SVOE24y"
      },
      "outputs": [],
      "source": [
        "import pandas as pd\n",
        "\n",
        "scores = pd.DataFrame({\n",
        "    'name':['Adam', 'Bob', 'Dave', 'Fred'],\n",
        "    'age': [15, 16, 16, 15],\n",
        "    'test1': [95, 81, 89, None],\n",
        "    'test2': [80, 82, 84, 88],\n",
        "    'teacher': ['Ashby', 'Ashby', 'Jones', 'Jones']\n",
        "})\n",
        "\n",
        "# Calcular las puntuaciones medias por maestro\n",
        "mean_scores = scores.groupby('teacher').median()\n",
        "\n",
        "print(mean_scores)\n"
      ]
    },
    {
      "cell_type": "markdown",
      "metadata": {
        "id": "7RnFrUQSE24z"
      },
      "source": [
        "Esto incluyó la columna `age`, para ignorar que podemos separar solo las columnas de prueba:"
      ]
    },
    {
      "cell_type": "code",
      "execution_count": null,
      "metadata": {
        "id": "d91Zu7C9E24z"
      },
      "outputs": [],
      "source": [
        "# completar\n",
        "import pandas as pd\n",
        "\n",
        "scores = pd.DataFrame({\n",
        "    'name':['Adam', 'Bob', 'Dave', 'Fred'],\n",
        "    'age': [15, 16, 16, 15],\n",
        "    'test1': [95, 81, 89, None],\n",
        "    'test2': [80, 82, 84, 88],\n",
        "    'teacher': ['Ashby', 'Ashby', 'Jones', 'Jones']\n",
        "})\n",
        "\n",
        "# Separar solo las columnas de prueba\n",
        "test_scores = scores[['test1', 'test2']]\n",
        "\n",
        "# Calcular los valores medianos de las pruebas por maestro\n",
        "median_scores = test_scores.groupby('teacher').median()\n",
        "\n",
        "print(median_scores)\n"
      ]
    },
    {
      "cell_type": "markdown",
      "metadata": {
        "id": "IsQlt_nQE24z"
      },
      "source": [
        "Para encontrar los valores medianos de cada grupo de edad para cada maestro, simplemente agrupa por maestro y edad:\n"
      ]
    },
    {
      "cell_type": "code",
      "execution_count": null,
      "metadata": {
        "id": "yXgofWJ9E240"
      },
      "outputs": [],
      "source": [
        "# completar\n",
        "import pandas as pd\n",
        "\n",
        "scores = pd.DataFrame({\n",
        "    'name':['Adam', 'Bob', 'Dave', 'Fred'],\n",
        "    'age': [15, 16, 16, 15],\n",
        "    'test1': [95, 81, 89, None],\n",
        "    'test2': [80, 82, 84, 88],\n",
        "    'teacher': ['Ashby', 'Ashby', 'Jones', 'Jones']\n",
        "})\n",
        "\n",
        "# Calcular los valores medianos de cada grupo de edad para cada maestro\n",
        "median_scores = scores.groupby(['teacher', 'age']).median()\n",
        "\n",
        "print(median_scores)\n"
      ]
    },
    {
      "cell_type": "markdown",
      "metadata": {
        "id": "AQH4s9RHE240"
      },
      "source": [
        "Si queremos los puntajes mínimos y máximos de las pruebas por maestro, usamos el método `.agg` y pasamos una lista de funciones para llamar:"
      ]
    },
    {
      "cell_type": "code",
      "execution_count": null,
      "metadata": {
        "id": "4XuSllBcE240"
      },
      "outputs": [],
      "source": [
        "# completar\n",
        "import pandas as pd\n",
        "\n",
        "scores = pd.DataFrame({\n",
        "    'name':['Adam', 'Bob', 'Dave', 'Fred'],\n",
        "    'age': [15, 16, 16, 15],\n",
        "    'test1': [95, 81, 89, None],\n",
        "    'test2': [80, 82, 84, 88],\n",
        "    'teacher': ['Ashby', 'Ashby', 'Jones', 'Jones']\n",
        "})\n",
        "\n",
        "# Obtener puntajes mínimos y máximos por maestro\n",
        "min_max_scores = scores.groupby('teacher').agg({'test1': ['min', 'max'], 'test2': ['min', 'max']})\n",
        "\n",
        "print(min_max_scores)\n"
      ]
    },
    {
      "cell_type": "markdown",
      "metadata": {
        "id": "mihXG1JwE241"
      },
      "source": [
        "**Ejercicio**"
      ]
    },
    {
      "cell_type": "code",
      "execution_count": null,
      "metadata": {
        "id": "pK19Cxsgm0nh"
      },
      "outputs": [],
      "source": [
        "df = pd.DataFrame({'Nombre' : ['jack', 'jane', 'jack', 'jane', 'jack', 'jane', 'jack', 'jane'],\n",
        "                   'Estado' : ['SFO', 'SFO', 'NYK', 'CA', 'NYK', 'NYK', 'SFO', 'CA'],\n",
        "                   'Genero':['A','A','B','A','C','B','C','A'],\n",
        "                   'Edad' : np.random.uniform(24, 50, size=8),\n",
        "                   'Salario' : np.random.uniform(3000, 5000, size=8),})"
      ]
    },
    {
      "cell_type": "markdown",
      "metadata": {
        "id": "jHjOj4Zxnz8r"
      },
      "source": [
        "Ten en cuenta que las columnas se ordenan automáticamente en su orden alfabético para un orden personalizado, usa el siguiente código_\n",
        "\n",
        "`df = pd.DataFrame (data, columns = ['Nombre', 'Estado', 'Edad', 'Salario'])`\n",
        "\n",
        "* Calcula la suma por nombres.\n",
        "\n",
        "* Encuentra la edad máxima y el salario por nombre/ estado. Puedes usar todas las funciones agregadas, como mínimo, máximo, media, conteo, suma acumulada."
      ]
    },
    {
      "cell_type": "code",
      "execution_count": null,
      "metadata": {
        "id": "eVwMPRL7oWCp"
      },
      "outputs": [],
      "source": [
        "# Tus  respuestas\n",
        "import pandas as pd\n",
        "import numpy as np\n",
        "\n",
        "data = {'Nombre': ['jack', 'jane', 'jack', 'jane', 'jack', 'jane', 'jack', 'jane'],\n",
        "        'Estado': ['SFO', 'SFO', 'NYK', 'CA', 'NYK', 'NYK', 'SFO', 'CA'],\n",
        "        'Genero': ['A', 'A', 'B', 'A', 'C', 'B', 'C', 'A'],\n",
        "        'Edad': np.random.uniform(24, 50, size=8),\n",
        "        'Salario': np.random.uniform(3000, 5000, size=8)}\n",
        "\n",
        "df = pd.DataFrame(data, columns=['Nombre', 'Estado', 'Genero', 'Edad', 'Salario'])\n",
        "\n",
        "suma_por_nombres = df.groupby('Nombre').sum()\n",
        "print(suma_por_nombres)\n",
        "\n",
        "max_edad_salario = df.groupby(['Nombre', 'Estado']).agg({'Edad': 'max', 'Salario': 'max'})\n",
        "print(max_edad_salario)\n"
      ]
    },
    {
      "cell_type": "markdown",
      "metadata": {
        "id": "kn_bSynhpVw9"
      },
      "source": [
        "#### Tablas pivot\n",
        "\n",
        "Pandas proporciona una función `pivot_table` para crear una tabla pivot (dinámica )de estilo de hoja de cálculo de MS-Excel. Puede tomar los siguientes argumentos:\n",
        "\n",
        "- `data`: objeto DataFrame\n",
        "- `values`: columna para agregar\n",
        "- `index`: etiquetas de fila\n",
        "- `columns`: etiquetas de columna\n",
        "- `aggfunc`: función de agregación que se usará en valores, el valor predeterminado es `NumPy.mean`.\n",
        "\n",
        "Usando una tabla pivot, podemos generalizar ciertos comportamientos grupales. Para obtener las puntuaciones medias de los profesores, podemos ejecutar lo siguiente:"
      ]
    },
    {
      "cell_type": "code",
      "execution_count": 64,
      "metadata": {
        "colab": {
          "base_uri": "https://localhost:8080/"
        },
        "id": "lHSYAkwkE242",
        "outputId": "2b1f7994-fde6-472f-f2b2-6bedc59f0b1c"
      },
      "outputs": [
        {
          "output_type": "stream",
          "name": "stdout",
          "text": [
            "         test1  test2\n",
            "teacher              \n",
            "Ashby     88.0     81\n",
            "Jones     89.0     86\n"
          ]
        }
      ],
      "source": [
        "# completar\n",
        "import pandas as pd\n",
        "\n",
        "scores = pd.DataFrame({\n",
        "    'name': ['Adam', 'Bob', 'Dave', 'Fred'],\n",
        "    'age': [15, 16, 16, 15],\n",
        "    'test1': [95, 81, 89, None],\n",
        "    'test2': [80, 82, 84, 88],\n",
        "    'teacher': ['Ashby', 'Ashby', 'Jones', 'Jones']\n",
        "})\n",
        "\n",
        "# Calcular las puntuaciones medias de los profesores\n",
        "mean_scores = scores.pivot_table(values=['test1', 'test2'], index='teacher', aggfunc='mean')\n",
        "print(mean_scores)\n"
      ]
    },
    {
      "cell_type": "markdown",
      "metadata": {
        "id": "t1f2aUSTq8uL"
      },
      "source": [
        "Si queremos agregar por maestro y edad, simplemente usamos una lista con ambos para el parámetro `index`:"
      ]
    },
    {
      "cell_type": "code",
      "execution_count": null,
      "metadata": {
        "id": "wnL1sqBvE243"
      },
      "outputs": [],
      "source": [
        "#scores.pivot_table(index=['teacher', 'age'],\n",
        "#                   values=['test1', 'test2'],\n",
        "#                   aggfunc='median')"
      ]
    },
    {
      "cell_type": "markdown",
      "metadata": {
        "id": "aY7DCpZFE243"
      },
      "source": [
        "Si queremos aplicar múltiples funciones, simplemente usa una lista de ellas. Aquí, analizamos los puntajes mínimos y máximos de las pruebas por maestro:"
      ]
    },
    {
      "cell_type": "code",
      "execution_count": null,
      "metadata": {
        "id": "nTR8vCcIE244"
      },
      "outputs": [],
      "source": [
        "#scores.pivot_table(index='teacher',\n",
        "#                   values=['test1', 'test2'],\n",
        "#                   aggfunc=[min, max])"
      ]
    },
    {
      "cell_type": "markdown",
      "metadata": {
        "id": "ISmhM-y5E244"
      },
      "source": [
        "Podemos ver que la tabla pivot y de grupo por comportamiento son muy similares. Hay del estilo declarativo de `.pivot_table` y el estilo  semántico de los grupos.\n",
        "\n",
        "Una característica adicional de las tablas pivots es la capacidad de agregar filas de resumen. Simplemente estableciendo `margins= True` obtenemos esta funcionalidad:"
      ]
    },
    {
      "cell_type": "code",
      "execution_count": null,
      "metadata": {
        "id": "CqGxOTylE244"
      },
      "outputs": [],
      "source": [
        "#scores.pivot_table(index='teacher',\n",
        "#                   values=['test1', 'test2'],\n",
        "#                   aggfunc='median', margins=True)"
      ]
    },
    {
      "cell_type": "markdown",
      "metadata": {
        "id": "-lqDA0o-E244"
      },
      "source": [
        "<img src=\"pivot.png\" alt=\"Drawing\" style=\"width: 700px;\"/>"
      ]
    },
    {
      "cell_type": "code",
      "execution_count": null,
      "metadata": {
        "id": "sliZPjuSE245"
      },
      "outputs": [],
      "source": [
        "#scores.pivot_table(index= ['teacher', 'age'],\n",
        "#                   values=['test1', 'test2'],\n",
        "#                   aggfunc=[len, sum], margins=True)"
      ]
    },
    {
      "cell_type": "markdown",
      "metadata": {
        "id": "fu6iJ-VYE245"
      },
      "source": [
        "<img src=\"pivot-parameters.png\" alt=\"Drawing\" style=\"width: 700px;\"/>"
      ]
    },
    {
      "cell_type": "markdown",
      "metadata": {
        "id": "oPxeZCDME245"
      },
      "source": [
        "**Ejercicio** Del dataframe anterior agrupa por estado y nombre y encuentre la edad media para cada grado.\n"
      ]
    },
    {
      "cell_type": "code",
      "execution_count": null,
      "metadata": {
        "id": "Ph3nkRruE246"
      },
      "outputs": [],
      "source": [
        "## Tu respuesta\n",
        "import pandas as pd\n",
        "\n",
        "df = pd.DataFrame({\n",
        "    'Nombre' : ['jack', 'jane', 'jack', 'jane', 'jack', 'jane', 'jack', 'jane'],\n",
        "    'Estado' : ['SFO', 'SFO', 'NYK', 'CA', 'NYK', 'NYK', 'SFO', 'CA'],\n",
        "    'Genero' : ['A','A','B','A','C','B','C','A'],\n",
        "    'Edad' : np.random.uniform(24, 50, size=8),\n",
        "    'Salario' : np.random.uniform(3000, 5000, size=8),\n",
        "})\n",
        "\n",
        "# Calcular la edad media para cada estado y nombre\n",
        "media_edad = df.pivot_table(values='Edad', index=['Estado', 'Nombre'], aggfunc='mean')\n",
        "print(media_edad)\n"
      ]
    }
  ],
  "metadata": {
    "colab": {
      "provenance": []
    },
    "kernelspec": {
      "display_name": "Python 3",
      "language": "python",
      "name": "python3"
    },
    "language_info": {
      "codemirror_mode": {
        "name": "ipython",
        "version": 3
      },
      "file_extension": ".py",
      "mimetype": "text/x-python",
      "name": "python",
      "nbconvert_exporter": "python",
      "pygments_lexer": "ipython3",
      "version": "3.7.10"
    }
  },
  "nbformat": 4,
  "nbformat_minor": 0
}