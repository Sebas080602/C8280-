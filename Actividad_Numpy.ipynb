{
  "nbformat": 4,
  "nbformat_minor": 0,
  "metadata": {
    "colab": {
      "provenance": [],
      "authorship_tag": "ABX9TyNilKqaNogjtDKBycrdxBfP",
      "include_colab_link": true
    },
    "kernelspec": {
      "name": "python3",
      "display_name": "Python 3"
    },
    "language_info": {
      "name": "python"
    }
  },
  "cells": [
    {
      "cell_type": "markdown",
      "metadata": {
        "id": "view-in-github",
        "colab_type": "text"
      },
      "source": [
        "<a href=\"https://colab.research.google.com/github/Sebas080602/C8280-/blob/main/Actividad_Numpy.ipynb\" target=\"_parent\"><img src=\"https://colab.research.google.com/assets/colab-badge.svg\" alt=\"Open In Colab\"/></a>"
      ]
    },
    {
      "cell_type": "markdown",
      "source": [
        "ALUMNO: SEBASTIAN ANTONIO SALDAÑA RODRIGUEZ"
      ],
      "metadata": {
        "id": "3TGsKZkymRJ-"
      }
    },
    {
      "cell_type": "code",
      "source": [
        "from __future__ import division\n",
        "import time\n",
        "import numpy as np\n",
        "\n",
        "tam_vec = 1000\n",
        "\n",
        "def lista_python():\n",
        "    t1 = time.time()\n",
        "    X = range(tam_vec)\n",
        "    Y = range(tam_vec)\n",
        "    Z = []\n",
        "    for i in range(len(X)):\n",
        "        Z.append(X[i] + Y[i])\n",
        "    return time.time() - t1\n",
        "\n",
        "def matriz_numpy():\n",
        "    t1 = time.time()\n",
        "    X = np.arange(tam_vec)\n",
        "    Y = np.arange(tam_vec)\n",
        "    Z = X + Y\n",
        "    return time.time() - t1\n",
        "\n",
        "tiempo_lista_python = lista_python()\n",
        "tiempo_matriz_numpy = matriz_numpy()\n",
        "\n",
        "print(\"Tiempo de ejecución utilizando lista en Python:\", tiempo_lista_python)\n",
        "print(\"Tiempo de ejecución utilizando matriz NumPy:\", tiempo_matriz_numpy)\n"
      ],
      "metadata": {
        "colab": {
          "base_uri": "https://localhost:8080/"
        },
        "id": "pxSj5rbemU0j",
        "outputId": "412f8fd4-8a4a-4c8b-f817-1e9e8dc0b338"
      },
      "execution_count": null,
      "outputs": [
        {
          "output_type": "stream",
          "name": "stdout",
          "text": [
            "Tiempo de ejecución utilizando lista en Python: 0.0002110004425048828\n",
            "Tiempo de ejecución utilizando matriz NumPy: 0.008327007293701172\n"
          ]
        }
      ]
    },
    {
      "cell_type": "code",
      "source": [
        "import numpy as np\n",
        "\n",
        "# Creamos una matriz de rango 1\n",
        "a = np.array([0, 1, 2])\n",
        "print (type(a))\n",
        "\n",
        "# Imprimimos la dimension de la matriz\n",
        "print (a.shape)\n",
        "print (a[0])\n",
        "print (a[1])\n",
        "print (a[2])\n",
        "\n",
        "# Cambiamos un elemento de un array\n",
        "a[0] = 5\n",
        "print (a)"
      ],
      "metadata": {
        "colab": {
          "base_uri": "https://localhost:8080/"
        },
        "id": "0qQ9RCNZmrPS",
        "outputId": "b177847a-6dc2-4aba-e8c4-885239099775"
      },
      "execution_count": null,
      "outputs": [
        {
          "output_type": "stream",
          "name": "stdout",
          "text": [
            "<class 'numpy.ndarray'>\n",
            "(3,)\n",
            "0\n",
            "1\n",
            "2\n",
            "[5 1 2]\n"
          ]
        }
      ]
    },
    {
      "cell_type": "code",
      "source": [
        "# Creamos una matriz de rango 2\n",
        "b = np.array([[0,1,2],[3,4,5]])\n",
        "print (b.shape)\n",
        "print (b)\n",
        "print (b[0, 0], b[0, 1], b[1, 0])"
      ],
      "metadata": {
        "colab": {
          "base_uri": "https://localhost:8080/"
        },
        "id": "IHV22dWAmsgS",
        "outputId": "0dda245f-632c-4b3a-f377-5ceb92e4c37a"
      },
      "execution_count": null,
      "outputs": [
        {
          "output_type": "stream",
          "name": "stdout",
          "text": [
            "(2, 3)\n",
            "[[0 1 2]\n",
            " [3 4 5]]\n",
            "0 1 3\n"
          ]
        }
      ]
    },
    {
      "cell_type": "code",
      "source": [
        "print ( b.shape)\n",
        "print ( b[0, 0], b[0, 1], b[1, 0])"
      ],
      "metadata": {
        "colab": {
          "base_uri": "https://localhost:8080/"
        },
        "id": "VQWTlamOmvzi",
        "outputId": "9b508e5c-a953-4c95-d3a4-9726b55c6dd5"
      },
      "execution_count": null,
      "outputs": [
        {
          "output_type": "stream",
          "name": "stdout",
          "text": [
            "(2, 3)\n",
            "0 1 3\n"
          ]
        }
      ]
    },
    {
      "cell_type": "code",
      "source": [
        "# Creamos una matriz 3x3 de todos ceros\n",
        "a = np.zeros((3,3))\n",
        "print (a)"
      ],
      "metadata": {
        "colab": {
          "base_uri": "https://localhost:8080/"
        },
        "id": "KTEjDInbmx_P",
        "outputId": "4f086a25-20bc-4d0a-ff4a-8114e6ff6b2d"
      },
      "execution_count": null,
      "outputs": [
        {
          "output_type": "stream",
          "name": "stdout",
          "text": [
            "[[0. 0. 0.]\n",
            " [0. 0. 0.]\n",
            " [0. 0. 0.]]\n"
          ]
        }
      ]
    },
    {
      "cell_type": "code",
      "source": [
        "# Creamos una matriz 2x2 de todos 1\n",
        "b = np.ones((2,2))\n",
        "print (b)"
      ],
      "metadata": {
        "colab": {
          "base_uri": "https://localhost:8080/"
        },
        "id": "uttamAC9m2Hj",
        "outputId": "5c794871-5a35-4193-a789-363375431c58"
      },
      "execution_count": null,
      "outputs": [
        {
          "output_type": "stream",
          "name": "stdout",
          "text": [
            "[[1. 1.]\n",
            " [1. 1.]]\n"
          ]
        }
      ]
    },
    {
      "cell_type": "code",
      "source": [
        "# Creamos una matriz 3x3 constantes\n",
        "c = np.full((3,3), 7)\n",
        "print(c)"
      ],
      "metadata": {
        "colab": {
          "base_uri": "https://localhost:8080/"
        },
        "id": "gXR7ejvbm44Z",
        "outputId": "3d41513d-83e2-4cc4-c6b8-5c905d1d9ca9"
      },
      "execution_count": null,
      "outputs": [
        {
          "output_type": "stream",
          "name": "stdout",
          "text": [
            "[[7 7 7]\n",
            " [7 7 7]\n",
            " [7 7 7]]\n"
          ]
        }
      ]
    },
    {
      "cell_type": "code",
      "source": [
        "# Creamos una matriz 3x3 con valores aleatorios\n",
        "d = np.random.random((3,3))\n",
        "print (d)"
      ],
      "metadata": {
        "colab": {
          "base_uri": "https://localhost:8080/"
        },
        "id": "hqtaOsw1m7tD",
        "outputId": "42576a85-08e2-4b79-fd22-987156514500"
      },
      "execution_count": null,
      "outputs": [
        {
          "output_type": "stream",
          "name": "stdout",
          "text": [
            "[[0.46867429 0.48162935 0.55255933]\n",
            " [0.12222796 0.1767319  0.31947032]\n",
            " [0.94905873 0.23141582 0.37820354]]\n"
          ]
        }
      ]
    },
    {
      "cell_type": "code",
      "source": [
        "# Creamos una matriz identidad 3x3\n",
        "e = np.eye(3)\n",
        "print(e)"
      ],
      "metadata": {
        "colab": {
          "base_uri": "https://localhost:8080/"
        },
        "id": "U0yLUMbinAah",
        "outputId": "620881ba-16fa-4297-e474-5df4975bad0e"
      },
      "execution_count": null,
      "outputs": [
        {
          "output_type": "stream",
          "name": "stdout",
          "text": [
            "[[1. 0. 0.]\n",
            " [0. 1. 0.]\n",
            " [0. 0. 1.]]\n"
          ]
        }
      ]
    },
    {
      "cell_type": "code",
      "source": [
        "# Convertir una lista en una matriz\n",
        "f = np.array([2, 3, 1,0])\n",
        "print(f)"
      ],
      "metadata": {
        "colab": {
          "base_uri": "https://localhost:8080/"
        },
        "id": "npCgLTotnBoh",
        "outputId": "4f5bc91a-c3f7-4b56-9e5a-23f56463e1fd"
      },
      "execution_count": null,
      "outputs": [
        {
          "output_type": "stream",
          "name": "stdout",
          "text": [
            "[2 3 1 0]\n"
          ]
        }
      ]
    },
    {
      "cell_type": "code",
      "source": [
        "# arange() crea matrices con valores que se incrementan regularmente\n",
        "g = np.arange(0, 10, 2)  # Crea una matriz con valores de 0 a 8, incrementando de 2 en 2\n",
        "print(g)"
      ],
      "metadata": {
        "colab": {
          "base_uri": "https://localhost:8080/"
        },
        "id": "0hDYhowTnGLY",
        "outputId": "a5e57a81-1c2d-40c3-c7b1-f8bbba15f52c"
      },
      "execution_count": null,
      "outputs": [
        {
          "output_type": "stream",
          "name": "stdout",
          "text": [
            "[0 2 4 6 8]\n"
          ]
        }
      ]
    },
    {
      "cell_type": "code",
      "source": [
        "# Mezcla de tuplas y listas\n",
        "h = np.array([(1, 2, 3), [4, 5, 6]])\n",
        "print(h)"
      ],
      "metadata": {
        "colab": {
          "base_uri": "https://localhost:8080/"
        },
        "id": "DZ3SBf2pnXXL",
        "outputId": "bd0f4cca-3a66-44fb-fe8d-2f3479b01306"
      },
      "execution_count": null,
      "outputs": [
        {
          "output_type": "stream",
          "name": "stdout",
          "text": [
            "[[1 2 3]\n",
            " [4 5 6]]\n"
          ]
        }
      ]
    },
    {
      "cell_type": "code",
      "source": [
        "# Crear una matriz de rango con tipo de datos flotante\n",
        "i = np.arange(1, 8, dtype=np.float64)\n",
        "print(i)"
      ],
      "metadata": {
        "colab": {
          "base_uri": "https://localhost:8080/"
        },
        "id": "DHpAgNsfnZqU",
        "outputId": "83297a5b-cb7b-491b-88bb-a81b190ca845"
      },
      "execution_count": null,
      "outputs": [
        {
          "output_type": "stream",
          "name": "stdout",
          "text": [
            "[1. 2. 3. 4. 5. 6. 7.]\n"
          ]
        }
      ]
    },
    {
      "cell_type": "code",
      "source": [
        "# linspace() crea matrices con un número específico de elementos que están espaciados por igual entre los valores inicial y final especificados\n",
        "j = np.linspace(0, 1, 5)  # Crea una matriz con 5 elementos espaciados por igual entre 0 y 1\n",
        "print(j)"
      ],
      "metadata": {
        "colab": {
          "base_uri": "https://localhost:8080/"
        },
        "id": "QVsLF4WYnca9",
        "outputId": "7db9b577-23c4-4835-b0c2-438252ebab33"
      },
      "execution_count": null,
      "outputs": [
        {
          "output_type": "stream",
          "name": "stdout",
          "text": [
            "[0.   0.25 0.5  0.75 1.  ]\n"
          ]
        }
      ]
    },
    {
      "cell_type": "code",
      "source": [
        "# Numpy escoge el tipo de datos\n",
        "x = np.array([0, 1])\n",
        "y = np.array([2.0, 3.0])\n",
        "\n",
        "# Fuerza un tipo de datos en particular\n",
        "z = np.array([5, 6], dtype=np.int64)\n",
        "print (x.dtype, y.dtype, z.dtype)"
      ],
      "metadata": {
        "colab": {
          "base_uri": "https://localhost:8080/"
        },
        "id": "zS_V3a3MniNy",
        "outputId": "5a894abf-3f6f-4f05-ffe1-c7bd8ff5c486"
      },
      "execution_count": null,
      "outputs": [
        {
          "output_type": "stream",
          "name": "stdout",
          "text": [
            "int64 float64 int64\n"
          ]
        }
      ]
    },
    {
      "cell_type": "code",
      "source": [
        "import numpy as np\n",
        "\n",
        "# Configuración de la semilla aleatoria para reproducibilidad\n",
        "np.random.seed(0)\n",
        "\n",
        "x1 = np.random.randint(10, size=6)  # Matriz 1D\n",
        "x2 = np.random.randint(10, size=(5, 4))  # Matriz 2D\n",
        "x3 = np.random.randint(10, size=(2, 4, 5))  # Matriz 3D\n",
        "\n",
        "print(\"Matriz 1D:\")\n",
        "print(\"Dimensión:\", x1.ndim)\n",
        "print(\"Forma:\", x1.shape)\n",
        "print(\"Tamaño:\", x1.size)\n",
        "print(\"Tipo de datos:\", x1.dtype)\n",
        "print(\"Tamaño de cada elemento (en bytes):\", x1.itemsize)\n",
        "print(\"Tamaño total de la matriz (en bytes):\", x1.nbytes)\n",
        "print()\n",
        "\n",
        "print(\"Matriz 2D:\")\n",
        "print(\"Dimensión:\", x2.ndim)\n",
        "print(\"Forma:\", x2.shape)\n",
        "print(\"Tamaño:\", x2.size)\n",
        "print(\"Tipo de datos:\", x2.dtype)\n",
        "print(\"Tamaño de cada elemento (en bytes):\", x2.itemsize)\n",
        "print(\"Tamaño total de la matriz (en bytes):\", x2.nbytes)\n",
        "print()\n",
        "\n",
        "print(\"Matriz 3D:\")\n",
        "print(\"Dimensión:\", x3.ndim)\n",
        "print(\"Forma:\", x3.shape)\n",
        "print(\"Tamaño:\", x3.size)\n",
        "print(\"Tipo de datos:\", x3.dtype)\n",
        "print(\"Tamaño de cada elemento (en bytes):\", x3.itemsize)\n",
        "print(\"Tamaño total de la matriz (en bytes):\", x3.nbytes)\n"
      ],
      "metadata": {
        "colab": {
          "base_uri": "https://localhost:8080/"
        },
        "id": "LoF9gRz5n5ud",
        "outputId": "bad92888-2b40-4ae7-c223-c5eeb6330bdb"
      },
      "execution_count": null,
      "outputs": [
        {
          "output_type": "stream",
          "name": "stdout",
          "text": [
            "Matriz 1D:\n",
            "Dimensión: 1\n",
            "Forma: (6,)\n",
            "Tamaño: 6\n",
            "Tipo de datos: int64\n",
            "Tamaño de cada elemento (en bytes): 8\n",
            "Tamaño total de la matriz (en bytes): 48\n",
            "\n",
            "Matriz 2D:\n",
            "Dimensión: 2\n",
            "Forma: (5, 4)\n",
            "Tamaño: 20\n",
            "Tipo de datos: int64\n",
            "Tamaño de cada elemento (en bytes): 8\n",
            "Tamaño total de la matriz (en bytes): 160\n",
            "\n",
            "Matriz 3D:\n",
            "Dimensión: 3\n",
            "Forma: (2, 4, 5)\n",
            "Tamaño: 40\n",
            "Tipo de datos: int64\n",
            "Tamaño de cada elemento (en bytes): 8\n",
            "Tamaño total de la matriz (en bytes): 320\n"
          ]
        }
      ]
    },
    {
      "cell_type": "code",
      "source": [
        "x = np.zeros((3,3), dtype=[('a', np.int32), ('b', np.float64, (3,3))])\n",
        "print(x)"
      ],
      "metadata": {
        "colab": {
          "base_uri": "https://localhost:8080/"
        },
        "id": "OpmyM48-n-uq",
        "outputId": "dbc021d0-574e-4edd-8bc1-72eac07f7a3b"
      },
      "execution_count": null,
      "outputs": [
        {
          "output_type": "stream",
          "name": "stdout",
          "text": [
            "[[(0, [[0., 0., 0.], [0., 0., 0.], [0., 0., 0.]])\n",
            "  (0, [[0., 0., 0.], [0., 0., 0.], [0., 0., 0.]])\n",
            "  (0, [[0., 0., 0.], [0., 0., 0.], [0., 0., 0.]])]\n",
            " [(0, [[0., 0., 0.], [0., 0., 0.], [0., 0., 0.]])\n",
            "  (0, [[0., 0., 0.], [0., 0., 0.], [0., 0., 0.]])\n",
            "  (0, [[0., 0., 0.], [0., 0., 0.], [0., 0., 0.]])]\n",
            " [(0, [[0., 0., 0.], [0., 0., 0.], [0., 0., 0.]])\n",
            "  (0, [[0., 0., 0.], [0., 0., 0.], [0., 0., 0.]])\n",
            "  (0, [[0., 0., 0.], [0., 0., 0.], [0., 0., 0.]])]]\n"
          ]
        }
      ]
    },
    {
      "cell_type": "code",
      "source": [
        "print (\"x['a'].shape: \",x['a'].shape)\n",
        "print (\"x['a'].dtype: \", x['a'].dtype)\n",
        "\n",
        "print (\"x['b'].shape: \", x['b'].shape)\n",
        "print (\"x['b'].dtype: \", x['b'].dtype)"
      ],
      "metadata": {
        "colab": {
          "base_uri": "https://localhost:8080/"
        },
        "id": "aBkcPDWXoDGj",
        "outputId": "d4203f3c-72f2-4389-8aba-5cfe479bbda4"
      },
      "execution_count": null,
      "outputs": [
        {
          "output_type": "stream",
          "name": "stdout",
          "text": [
            "x['a'].shape:  (3, 3)\n",
            "x['a'].dtype:  int32\n",
            "x['b'].shape:  (3, 3, 3, 3)\n",
            "x['b'].dtype:  float64\n"
          ]
        }
      ]
    },
    {
      "cell_type": "code",
      "source": [
        "x = np.array([5, 6, 7, 8, 9])\n",
        "x[1:7:2]"
      ],
      "metadata": {
        "colab": {
          "base_uri": "https://localhost:8080/"
        },
        "id": "ddOMysQXoGlC",
        "outputId": "eb21da56-6694-4984-fdab-fe0362c295ce"
      },
      "execution_count": null,
      "outputs": [
        {
          "output_type": "execute_result",
          "data": {
            "text/plain": [
              "array([6, 8])"
            ]
          },
          "metadata": {},
          "execution_count": 19
        }
      ]
    },
    {
      "cell_type": "code",
      "source": [
        "print (x[-2:5])\n",
        "print (x[-1:1:-1])"
      ],
      "metadata": {
        "colab": {
          "base_uri": "https://localhost:8080/"
        },
        "id": "77_ZcVKJoJFz",
        "outputId": "f027cb48-60e6-45aa-978b-0e28e6b2742f"
      },
      "execution_count": null,
      "outputs": [
        {
          "output_type": "stream",
          "name": "stdout",
          "text": [
            "[8 9]\n",
            "[9 8 7]\n"
          ]
        }
      ]
    },
    {
      "cell_type": "code",
      "source": [
        "x[4:]"
      ],
      "metadata": {
        "colab": {
          "base_uri": "https://localhost:8080/"
        },
        "id": "szQqP7TDoLvK",
        "outputId": "048e186c-bb7d-4b7e-d8ec-1fc0b15d3645"
      },
      "execution_count": null,
      "outputs": [
        {
          "output_type": "execute_result",
          "data": {
            "text/plain": [
              "array([9])"
            ]
          },
          "metadata": {},
          "execution_count": 21
        }
      ]
    },
    {
      "cell_type": "code",
      "source": [
        "import numpy as np\n",
        "\n",
        "# Recorte con tupla de selección incompleta\n",
        "z = np.array([[1, 2, 3], [4, 5, 6], [7, 8, 9]])\n",
        "print(\"Recorte con tupla de selección incompleta:\")\n",
        "print(z[:2])  # Selecciona las dos primeras filas de la matriz\n",
        "print(z[:, 1])  # Selecciona la segunda columna de la matriz\n",
        "print(z[:2, 1:])  # Selecciona las dos primeras filas y las columnas desde la segunda hasta el final\n"
      ],
      "metadata": {
        "colab": {
          "base_uri": "https://localhost:8080/"
        },
        "id": "mEQXUlPKppdz",
        "outputId": "827bba59-4bf2-4940-e19d-0c8eb52edfe8"
      },
      "execution_count": null,
      "outputs": [
        {
          "output_type": "stream",
          "name": "stdout",
          "text": [
            "Recorte con tupla de selección incompleta:\n",
            "[[1 2 3]\n",
            " [4 5 6]]\n",
            "[2 5 8]\n",
            "[[2 3]\n",
            " [5 6]]\n"
          ]
        }
      ]
    },
    {
      "cell_type": "code",
      "source": [
        "import numpy as np\n",
        "# OTRO EJEMPLO\n",
        "# Ejemplo de recorte básico\n",
        "x = np.array([5, 6, 7, 8, 9])\n",
        "print(\"Recorte básico:\")\n",
        "print(x[1:7:2])  # Selecciona los elementos desde el índice 1 hasta el índice 7 (no inclusivo) con un paso de 2\n",
        "print()\n",
        "\n",
        "# Recorte con índices negativos\n",
        "print(\"Recorte con índices negativos:\")\n",
        "print(x[-2:5])  # Selecciona los elementos desde el índice -2 hasta el índice 5\n",
        "print(x[-1:1:-1])  # Selecciona los elementos desde el índice -1 hasta el índice 1 en orden inverso\n",
        "print()\n",
        "\n",
        "# Recorte con valores predeterminados\n",
        "print(\"Recorte con valores predeterminados:\")\n",
        "print(x[4:])  # Selecciona los elementos desde el índice 4 hasta el final\n",
        "print()\n",
        "\n",
        "# Recorte en matrices multidimensionales\n",
        "y = np.array([[1, 2, 3], [4, 5, 6], [7, 8, 9]])\n",
        "print(\"Recorte en matrices multidimensionales:\")\n",
        "print(y[0:2, 1:3])  # Selecciona los elementos en las filas 0 y 1, y en las columnas 1 y 2\n"
      ],
      "metadata": {
        "colab": {
          "base_uri": "https://localhost:8080/"
        },
        "id": "3GbpvILqoRe7",
        "outputId": "e6fa5c42-57a4-4831-9e39-55650093550a"
      },
      "execution_count": null,
      "outputs": [
        {
          "output_type": "stream",
          "name": "stdout",
          "text": [
            "Recorte básico:\n",
            "[6 8]\n",
            "\n",
            "Recorte con índices negativos:\n",
            "[8 9]\n",
            "[9 8 7]\n",
            "\n",
            "Recorte con valores predeterminados:\n",
            "[9]\n",
            "\n",
            "Recorte en matrices multidimensionales:\n",
            "[[2 3]\n",
            " [5 6]]\n"
          ]
        }
      ]
    },
    {
      "cell_type": "code",
      "source": [
        "print(x)"
      ],
      "metadata": {
        "colab": {
          "base_uri": "https://localhost:8080/"
        },
        "id": "zl5YnLeQpF93",
        "outputId": "14af5117-6d4e-40d3-825d-ee9b6254a56c"
      },
      "execution_count": null,
      "outputs": [
        {
          "output_type": "stream",
          "name": "stdout",
          "text": [
            "[5 6 7 8 9]\n"
          ]
        }
      ]
    },
    {
      "cell_type": "code",
      "source": [
        "x[...,0]"
      ],
      "metadata": {
        "colab": {
          "base_uri": "https://localhost:8080/"
        },
        "id": "sTsThwxVpKci",
        "outputId": "61e4611f-3e1a-4924-9efe-ed83938c654c"
      },
      "execution_count": null,
      "outputs": [
        {
          "output_type": "execute_result",
          "data": {
            "text/plain": [
              "array(5)"
            ]
          },
          "metadata": {},
          "execution_count": 24
        }
      ]
    },
    {
      "cell_type": "code",
      "source": [
        "'''\n",
        "Ejercicio\n",
        "Crea una matriz de rango 2 con dimension (3, 4)\n",
        "\n",
        "Usa el recorte para extraer la submatriz que consta de las primeras 2 filas y las columnas 1 y 2.\n",
        "\n",
        "Una parte de una matriz es solo una vista de los mismos datos, comprueba quecualquier modificación modificará la matriz original.\n",
        "'''\n",
        "import numpy as np\n",
        "\n",
        "# Crear una matriz de rango 2 con dimensiones (3, 4)\n",
        "matriz = np.array([[1, 2, 3, 4],\n",
        "                   [5, 6, 7, 8],\n",
        "                   [9, 10, 11, 12]])\n",
        "\n",
        "print(\"Matriz original:\")\n",
        "print(matriz)\n",
        "print()\n",
        "\n",
        "# Recorte para extraer la submatriz de las primeras 2 filas y las columnas 1 y 2\n",
        "submatriz = matriz[0:2, 0:2]\n",
        "\n",
        "print(\"Submatriz extraída:\")\n",
        "print(submatriz)\n",
        "print()\n",
        "\n",
        "# Modificar la submatriz\n",
        "submatriz[0, 0] = 99\n",
        "\n",
        "print(\"Submatriz modificada:\")\n",
        "print(submatriz)\n",
        "print()\n",
        "\n",
        "# Verificar que la matriz original también se modifique\n",
        "print(\"Matriz original después de modificar la submatriz:\")\n",
        "print(matriz)\n"
      ],
      "metadata": {
        "colab": {
          "base_uri": "https://localhost:8080/"
        },
        "id": "V0rmK_TFpmmZ",
        "outputId": "c23540f8-79f6-48a1-bc4b-b695c9a05429"
      },
      "execution_count": null,
      "outputs": [
        {
          "output_type": "stream",
          "name": "stdout",
          "text": [
            "Matriz original:\n",
            "[[ 1  2  3  4]\n",
            " [ 5  6  7  8]\n",
            " [ 9 10 11 12]]\n",
            "\n",
            "Submatriz extraída:\n",
            "[[1 2]\n",
            " [5 6]]\n",
            "\n",
            "Submatriz modificada:\n",
            "[[99  2]\n",
            " [ 5  6]]\n",
            "\n",
            "Matriz original después de modificar la submatriz:\n",
            "[[99  2  3  4]\n",
            " [ 5  6  7  8]\n",
            " [ 9 10 11 12]]\n"
          ]
        }
      ]
    },
    {
      "cell_type": "code",
      "source": [
        "# Creamos una matriz de rango 2 array con dimensión (3, 4)\n",
        "a = np.array([[1,2,3,4], [5,6,7,8], [9,10,11,12]])\n",
        "print (a)"
      ],
      "metadata": {
        "colab": {
          "base_uri": "https://localhost:8080/"
        },
        "id": "zQJjENiWqIMi",
        "outputId": "569ef9f9-88fe-4b0a-d4a0-7192897282ef"
      },
      "execution_count": null,
      "outputs": [
        {
          "output_type": "stream",
          "name": "stdout",
          "text": [
            "[[ 1  2  3  4]\n",
            " [ 5  6  7  8]\n",
            " [ 9 10 11 12]]\n"
          ]
        }
      ]
    },
    {
      "cell_type": "code",
      "source": [
        "fila_r1 = a[1, :]    # Vista de rango 1 de la segunda fila de a\n",
        "fila_r2 = a[1:2, :]  # Vista de rango 2 de la segunda fila de a\n",
        "fila_r3 = a[[1], :]  # Vista de ranfo 2 de la segunda fila de a\n",
        "print (fila_r1, fila_r1.shape)\n",
        "print (fila_r2, fila_r2.shape)\n",
        "print (fila_r3, fila_r3.shape)"
      ],
      "metadata": {
        "colab": {
          "base_uri": "https://localhost:8080/"
        },
        "id": "V1WEmz_wqPBx",
        "outputId": "f012b695-3c83-4fc9-d745-1c95950e751b"
      },
      "execution_count": null,
      "outputs": [
        {
          "output_type": "stream",
          "name": "stdout",
          "text": [
            "[5 6 7 8] (4,)\n",
            "[[5 6 7 8]] (1, 4)\n",
            "[[5 6 7 8]] (1, 4)\n"
          ]
        }
      ]
    },
    {
      "cell_type": "code",
      "source": [
        "col_r1 = a[:, 1]\n",
        "col_r2 = a[:, 1:2]\n",
        "print (col_r1, col_r1.shape)\n",
        "print (col_r2, col_r2.shape)"
      ],
      "metadata": {
        "colab": {
          "base_uri": "https://localhost:8080/"
        },
        "id": "PfcFoaHMqScy",
        "outputId": "b9f14489-ef52-46f6-b34e-5ab4a32378fa"
      },
      "execution_count": null,
      "outputs": [
        {
          "output_type": "stream",
          "name": "stdout",
          "text": [
            "[ 2  6 10] (3,)\n",
            "[[ 2]\n",
            " [ 6]\n",
            " [10]] (3, 1)\n"
          ]
        }
      ]
    },
    {
      "cell_type": "code",
      "source": [
        "a = [[1, 2], [3, 4]]\n",
        "result = [a[0][0], a[1][1]]\n",
        "print(result)\n"
      ],
      "metadata": {
        "colab": {
          "base_uri": "https://localhost:8080/"
        },
        "id": "pjHcskmKqUZp",
        "outputId": "8b2b5e48-c953-49a8-8abe-a5278dc6e1ee"
      },
      "execution_count": null,
      "outputs": [
        {
          "output_type": "stream",
          "name": "stdout",
          "text": [
            "[1, 4]\n"
          ]
        }
      ]
    },
    {
      "cell_type": "code",
      "source": [
        "a = [[1, 2], [3, 4]]\n",
        "result = [a[0][1], a[0][1]]\n",
        "print(result)\n"
      ],
      "metadata": {
        "colab": {
          "base_uri": "https://localhost:8080/"
        },
        "id": "HRlwMeXYsye3",
        "outputId": "32ddeb2b-c456-4880-dab1-e66fb5e430be"
      },
      "execution_count": null,
      "outputs": [
        {
          "output_type": "stream",
          "name": "stdout",
          "text": [
            "[2, 2]\n"
          ]
        }
      ]
    },
    {
      "cell_type": "code",
      "source": [
        "np.random.seed(0)\n",
        "x2 = np.random.randint(10, size=(5, 4))\n",
        "x2"
      ],
      "metadata": {
        "colab": {
          "base_uri": "https://localhost:8080/"
        },
        "id": "cks5xUM5s1fI",
        "outputId": "c8c392fa-973a-4e25-c1c8-8e0bbc6dd12c"
      },
      "execution_count": null,
      "outputs": [
        {
          "output_type": "execute_result",
          "data": {
            "text/plain": [
              "array([[5, 0, 3, 3],\n",
              "       [7, 9, 3, 5],\n",
              "       [2, 4, 7, 6],\n",
              "       [8, 8, 1, 6],\n",
              "       [7, 7, 8, 1]])"
            ]
          },
          "metadata": {},
          "execution_count": 32
        }
      ]
    },
    {
      "cell_type": "code",
      "source": [
        "x2_sub = x2[:2, :2]\n",
        "print(x2_sub)"
      ],
      "metadata": {
        "colab": {
          "base_uri": "https://localhost:8080/"
        },
        "id": "aA12HWVPs4wb",
        "outputId": "f89bae3b-b290-4045-bb21-633d156d8b39"
      },
      "execution_count": null,
      "outputs": [
        {
          "output_type": "stream",
          "name": "stdout",
          "text": [
            "[[5 0]\n",
            " [7 9]]\n"
          ]
        }
      ]
    },
    {
      "cell_type": "code",
      "source": [
        "x2_sub[0, 0] = 99\n",
        "print(x2_sub)"
      ],
      "metadata": {
        "colab": {
          "base_uri": "https://localhost:8080/"
        },
        "id": "oH0FatSSs7GY",
        "outputId": "180b14db-9c02-4c71-da3d-4930eaf8d577"
      },
      "execution_count": null,
      "outputs": [
        {
          "output_type": "stream",
          "name": "stdout",
          "text": [
            "[[99  0]\n",
            " [ 7  9]]\n"
          ]
        }
      ]
    },
    {
      "cell_type": "code",
      "source": [
        "x2_sub_copy = x2[:2, :2].copy()\n",
        "print(x2_sub_copy)"
      ],
      "metadata": {
        "colab": {
          "base_uri": "https://localhost:8080/"
        },
        "id": "zuCh9-bos93i",
        "outputId": "52f30cd4-ede2-4335-b38a-5a8b03f2aaf6"
      },
      "execution_count": null,
      "outputs": [
        {
          "output_type": "stream",
          "name": "stdout",
          "text": [
            "[[99  0]\n",
            " [ 7  9]]\n"
          ]
        }
      ]
    },
    {
      "cell_type": "code",
      "source": [
        "x2_sub_copy[0, 0] = 42\n",
        "print(x2_sub_copy)"
      ],
      "metadata": {
        "colab": {
          "base_uri": "https://localhost:8080/"
        },
        "id": "cI4F49COtAjw",
        "outputId": "920e6a9d-5bba-40e8-fbc1-1cd85b4de07b"
      },
      "execution_count": null,
      "outputs": [
        {
          "output_type": "stream",
          "name": "stdout",
          "text": [
            "[[42  0]\n",
            " [ 7  9]]\n"
          ]
        }
      ]
    },
    {
      "cell_type": "code",
      "source": [
        "print(x2)"
      ],
      "metadata": {
        "colab": {
          "base_uri": "https://localhost:8080/"
        },
        "id": "5cWrXLP5tDBx",
        "outputId": "c2567444-3e5e-4db7-a09e-3ed9742326a3"
      },
      "execution_count": null,
      "outputs": [
        {
          "output_type": "stream",
          "name": "stdout",
          "text": [
            "[[99  0  3  3]\n",
            " [ 7  9  3  5]\n",
            " [ 2  4  7  6]\n",
            " [ 8  8  1  6]\n",
            " [ 7  7  8  1]]\n"
          ]
        }
      ]
    },
    {
      "cell_type": "code",
      "source": [
        "x4 = np.arange(1, 10).reshape((3, 3))\n",
        "print(x4)"
      ],
      "metadata": {
        "colab": {
          "base_uri": "https://localhost:8080/"
        },
        "id": "DyNhYOyDtFFk",
        "outputId": "a2569bae-b8b4-4471-fd1f-e03b4f985dd6"
      },
      "execution_count": null,
      "outputs": [
        {
          "output_type": "stream",
          "name": "stdout",
          "text": [
            "[[1 2 3]\n",
            " [4 5 6]\n",
            " [7 8 9]]\n"
          ]
        }
      ]
    },
    {
      "cell_type": "code",
      "source": [
        "import numpy as np\n",
        "\n",
        "x5 = np.array([1, 2, 3])\n",
        "print(\"Vector original:\", x5)\n",
        "\n",
        "# Vector fila utilizando reshape\n",
        "vector_fila_reshape = x5.reshape((1, x5.shape[0]))\n",
        "print(\"Vector fila utilizando reshape:\", vector_fila_reshape)\n",
        "\n",
        "# Vector fila utilizando newaxis\n",
        "vector_fila_newaxis = x5[np.newaxis, :]\n",
        "print(\"Vector fila utilizando newaxis:\", vector_fila_newaxis)\n",
        "\n",
        "# Vector columna utilizando reshape\n",
        "vector_columna_reshape = x5.reshape((x5.shape[0], 1))\n",
        "print(\"Vector columna utilizando reshape:\", vector_columna_reshape)\n",
        "\n",
        "# Vector columna utilizando newaxis\n",
        "vector_columna_newaxis = x5[:, np.newaxis]\n",
        "print(\"Vector columna utilizando newaxis:\", vector_columna_newaxis)\n"
      ],
      "metadata": {
        "colab": {
          "base_uri": "https://localhost:8080/"
        },
        "id": "WGNYVWx3tHvR",
        "outputId": "69a9eccb-27ae-44f4-e66b-be1e7fab1c06"
      },
      "execution_count": null,
      "outputs": [
        {
          "output_type": "stream",
          "name": "stdout",
          "text": [
            "Vector original: [1 2 3]\n",
            "Vector fila utilizando reshape: [[1 2 3]]\n",
            "Vector fila utilizando newaxis: [[1 2 3]]\n",
            "Vector columna utilizando reshape: [[1]\n",
            " [2]\n",
            " [3]]\n",
            "Vector columna utilizando newaxis: [[1]\n",
            " [2]\n",
            " [3]]\n"
          ]
        }
      ]
    },
    {
      "cell_type": "code",
      "source": [
        "x = np.array([4, 5, 6])\n",
        "y = np.array([7, 8, 9])\n",
        "np.concatenate([x, y])"
      ],
      "metadata": {
        "colab": {
          "base_uri": "https://localhost:8080/"
        },
        "id": "E2rYfz4ztaLp",
        "outputId": "d817177d-41e2-41a2-d882-3fba0e66e309"
      },
      "execution_count": null,
      "outputs": [
        {
          "output_type": "execute_result",
          "data": {
            "text/plain": [
              "array([4, 5, 6, 7, 8, 9])"
            ]
          },
          "metadata": {},
          "execution_count": 40
        }
      ]
    },
    {
      "cell_type": "code",
      "source": [
        "# concatenacion de dos o mas matrices\n",
        "z = [99, 99, 99]\n",
        "print(np.concatenate([x, y, z]))"
      ],
      "metadata": {
        "colab": {
          "base_uri": "https://localhost:8080/"
        },
        "id": "yLNDTO5hteM7",
        "outputId": "e3e4e0d8-33be-45e7-c44a-12e2aff7477b"
      },
      "execution_count": null,
      "outputs": [
        {
          "output_type": "stream",
          "name": "stdout",
          "text": [
            "[ 4  5  6  7  8  9 99 99 99]\n"
          ]
        }
      ]
    },
    {
      "cell_type": "code",
      "source": [
        "# concatendo una matriz dos veces\n",
        "grid = np.array([[1, 2, 3],\n",
        "                 [4, 5, 6]])\n",
        "np.concatenate([grid, grid])"
      ],
      "metadata": {
        "colab": {
          "base_uri": "https://localhost:8080/"
        },
        "id": "kJSMS7O6tjJA",
        "outputId": "953e06aa-6733-458a-8d4f-6931b7e0a03c"
      },
      "execution_count": null,
      "outputs": [
        {
          "output_type": "execute_result",
          "data": {
            "text/plain": [
              "array([[1, 2, 3],\n",
              "       [4, 5, 6],\n",
              "       [1, 2, 3],\n",
              "       [4, 5, 6]])"
            ]
          },
          "metadata": {},
          "execution_count": 42
        }
      ]
    },
    {
      "cell_type": "code",
      "source": [
        "import numpy as np\n",
        "\n",
        "x = np.array([0, 1, 2])\n",
        "grid = np.array([[3, 4, 5],\n",
        "                 [6, 5, 4]])\n",
        "\n",
        "# Unir matrices verticalmente\n",
        "matriz_vertical = np.vstack((x, grid))\n",
        "print(\"Unir matrices verticalmente:\")\n",
        "print(matriz_vertical)\n",
        "\n",
        "# Unir matrices horizontalmente\n",
        "y = np.array([[23],\n",
        "              [23]])\n",
        "matriz_horizontal = np.hstack((grid, y))\n",
        "print(\"Unir matrices horizontalmente:\")\n",
        "print(matriz_horizontal)\n"
      ],
      "metadata": {
        "colab": {
          "base_uri": "https://localhost:8080/"
        },
        "id": "NiuJGkCitkPQ",
        "outputId": "f23f7e0e-5970-42d5-ae48-82e4ad18916c"
      },
      "execution_count": null,
      "outputs": [
        {
          "output_type": "stream",
          "name": "stdout",
          "text": [
            "Unir matrices verticalmente:\n",
            "[[0 1 2]\n",
            " [3 4 5]\n",
            " [6 5 4]]\n",
            "Unir matrices horizontalmente:\n",
            "[[ 3  4  5 23]\n",
            " [ 6  5  4 23]]\n"
          ]
        }
      ]
    },
    {
      "cell_type": "code",
      "source": [
        "x = [1, 2, 3, 44, 95, 3, 2, 1]\n",
        "x1, x2, x3 = np.split(x, [3, 5])\n",
        "print(x1, x2, x3)"
      ],
      "metadata": {
        "colab": {
          "base_uri": "https://localhost:8080/"
        },
        "id": "wX7AAxoAt7de",
        "outputId": "b066b17d-d0db-4fa0-f9b8-a516e836df18"
      },
      "execution_count": null,
      "outputs": [
        {
          "output_type": "stream",
          "name": "stdout",
          "text": [
            "[1 2 3] [44 95] [3 2 1]\n"
          ]
        }
      ]
    },
    {
      "cell_type": "code",
      "source": [
        "grid = np.arange(16).reshape((4, 4))\n",
        "grid"
      ],
      "metadata": {
        "colab": {
          "base_uri": "https://localhost:8080/"
        },
        "id": "pzu6pTs_t9Wp",
        "outputId": "32ac6801-b4c9-4585-8de4-ad4807c7db07"
      },
      "execution_count": null,
      "outputs": [
        {
          "output_type": "execute_result",
          "data": {
            "text/plain": [
              "array([[ 0,  1,  2,  3],\n",
              "       [ 4,  5,  6,  7],\n",
              "       [ 8,  9, 10, 11],\n",
              "       [12, 13, 14, 15]])"
            ]
          },
          "metadata": {},
          "execution_count": 45
        }
      ]
    },
    {
      "cell_type": "code",
      "source": [
        "grid1, grid2 = np.vsplit(grid, [2])\n",
        "print(grid1)\n",
        "print(grid2)"
      ],
      "metadata": {
        "colab": {
          "base_uri": "https://localhost:8080/"
        },
        "id": "kMM8eh0suADV",
        "outputId": "dc66b226-bbe3-4476-a3dd-55480fce2440"
      },
      "execution_count": null,
      "outputs": [
        {
          "output_type": "stream",
          "name": "stdout",
          "text": [
            "[[0 1 2 3]\n",
            " [4 5 6 7]]\n",
            "[[ 8  9 10 11]\n",
            " [12 13 14 15]]\n"
          ]
        }
      ]
    },
    {
      "cell_type": "code",
      "source": [
        "grid3, grid4 = np.hsplit(grid,[2])\n",
        "print(grid3)\n",
        "print(grid4)"
      ],
      "metadata": {
        "colab": {
          "base_uri": "https://localhost:8080/"
        },
        "id": "iE3lc9DmuAIP",
        "outputId": "f6e71f71-f17b-43e3-8a0c-40d51d6f0719"
      },
      "execution_count": null,
      "outputs": [
        {
          "output_type": "stream",
          "name": "stdout",
          "text": [
            "[[ 0  1]\n",
            " [ 4  5]\n",
            " [ 8  9]\n",
            " [12 13]]\n",
            "[[ 2  3]\n",
            " [ 6  7]\n",
            " [10 11]\n",
            " [14 15]]\n"
          ]
        }
      ]
    },
    {
      "cell_type": "code",
      "source": [
        "rand = np.random.RandomState(42)\n",
        "x = rand.randint(100, size=10)\n",
        "print(x)"
      ],
      "metadata": {
        "colab": {
          "base_uri": "https://localhost:8080/"
        },
        "id": "eNYNo7EPuF8I",
        "outputId": "9f8f1458-724f-446c-bcbe-cff831de02d8"
      },
      "execution_count": null,
      "outputs": [
        {
          "output_type": "stream",
          "name": "stdout",
          "text": [
            "[51 92 14 71 60 20 82 86 74 74]\n"
          ]
        }
      ]
    },
    {
      "cell_type": "code",
      "source": [
        "# Accedemos a tres elementos diferentes\n",
        "[x[1], x[5], x[2]]"
      ],
      "metadata": {
        "colab": {
          "base_uri": "https://localhost:8080/"
        },
        "id": "MzsVRjFwuUST",
        "outputId": "bb0625d9-ea6f-4ab2-c645-7bc522ba3df0"
      },
      "execution_count": null,
      "outputs": [
        {
          "output_type": "execute_result",
          "data": {
            "text/plain": [
              "[92, 20, 14]"
            ]
          },
          "metadata": {},
          "execution_count": 49
        }
      ]
    },
    {
      "cell_type": "code",
      "source": [
        "rand = np.random.RandomState(42)\n",
        "x = rand.randint(100, size=10)\n",
        "print(x)\n",
        "\n",
        "# Accedemos a tres elementos diferentes\n",
        "indices = [1, 5, 2]\n",
        "resultado = x[indices]\n",
        "print(resultado)\n"
      ],
      "metadata": {
        "colab": {
          "base_uri": "https://localhost:8080/"
        },
        "id": "wcJNy96LuWoV",
        "outputId": "482961b4-68bb-42ab-c684-5fe9dbf52d10"
      },
      "execution_count": null,
      "outputs": [
        {
          "output_type": "stream",
          "name": "stdout",
          "text": [
            "[51 92 14 71 60 20 82 86 74 74]\n",
            "[92 20 14]\n"
          ]
        }
      ]
    },
    {
      "cell_type": "code",
      "source": [
        "X = np.array([[1, 2, 3],\n",
        "              [4, 5, 6],\n",
        "              [7, 8, 9]])\n",
        "\n",
        "indices_row = np.array([0, 2])\n",
        "indices_col = np.array([1, 2])\n",
        "\n",
        "resultado = X[indices_row, indices_col]\n",
        "print(resultado)\n"
      ],
      "metadata": {
        "colab": {
          "base_uri": "https://localhost:8080/"
        },
        "id": "Na_STbIduc97",
        "outputId": "2faa996b-f851-4933-c347-be9c5ac7fb99"
      },
      "execution_count": null,
      "outputs": [
        {
          "output_type": "stream",
          "name": "stdout",
          "text": [
            "[2 9]\n"
          ]
        }
      ]
    },
    {
      "cell_type": "code",
      "source": [
        "X = np.arange(12).reshape((3, 4))\n",
        "X"
      ],
      "metadata": {
        "colab": {
          "base_uri": "https://localhost:8080/"
        },
        "id": "QpJElVkfvBPb",
        "outputId": "27d36fa7-bb80-4877-ad39-8ce045a039bc"
      },
      "execution_count": null,
      "outputs": [
        {
          "output_type": "execute_result",
          "data": {
            "text/plain": [
              "array([[ 0,  1,  2,  3],\n",
              "       [ 4,  5,  6,  7],\n",
              "       [ 8,  9, 10, 11]])"
            ]
          },
          "metadata": {},
          "execution_count": 52
        }
      ]
    },
    {
      "cell_type": "code",
      "source": [
        "fila = np.array([0, 1, 2])\n",
        "col = np.array([2, 1, 3])\n",
        "X[fila, col]"
      ],
      "metadata": {
        "colab": {
          "base_uri": "https://localhost:8080/"
        },
        "id": "yDUgMOIBvL5J",
        "outputId": "f04c10a5-e6db-43dd-dff5-9508441f25cc"
      },
      "execution_count": null,
      "outputs": [
        {
          "output_type": "execute_result",
          "data": {
            "text/plain": [
              "array([ 2,  5, 11])"
            ]
          },
          "metadata": {},
          "execution_count": 54
        }
      ]
    },
    {
      "cell_type": "code",
      "source": [
        "indices_row = np.array([[0],\n",
        "                       [2]])\n",
        "indices_col = np.array([1, 3])\n",
        "\n",
        "resultado = X[indices_row, indices_col]\n",
        "print(resultado)\n",
        "\n"
      ],
      "metadata": {
        "colab": {
          "base_uri": "https://localhost:8080/"
        },
        "id": "XuQPl95xvVql",
        "outputId": "15154ff9-c080-4530-d126-3b1092da0abe"
      },
      "execution_count": null,
      "outputs": [
        {
          "output_type": "stream",
          "name": "stdout",
          "text": [
            "[[ 1  3]\n",
            " [ 9 11]]\n"
          ]
        }
      ]
    },
    {
      "cell_type": "code",
      "source": [
        "indices_row = np.array([0, 2])\n",
        "indices_col = np.array([1, 3])\n",
        "\n",
        "resultado = X[indices_row[:, np.newaxis], indices_col]\n",
        "print(resultado)\n"
      ],
      "metadata": {
        "colab": {
          "base_uri": "https://localhost:8080/"
        },
        "id": "NCshCu37vb5w",
        "outputId": "b49fc8a3-5f51-41d3-b66c-883d08458c80"
      },
      "execution_count": null,
      "outputs": [
        {
          "output_type": "stream",
          "name": "stdout",
          "text": [
            "[[ 1  3]\n",
            " [ 9 11]]\n"
          ]
        }
      ]
    },
    {
      "cell_type": "code",
      "source": [
        "indices_fancy = np.array([0, 2])\n",
        "indices_simple = 1\n",
        "\n",
        "resultado = X[indices_fancy, indices_simple]\n",
        "print(resultado)\n"
      ],
      "metadata": {
        "colab": {
          "base_uri": "https://localhost:8080/"
        },
        "id": "6RffWeosvfC5",
        "outputId": "a1005997-8062-4052-a173-7392dcd4f878"
      },
      "execution_count": null,
      "outputs": [
        {
          "output_type": "stream",
          "name": "stdout",
          "text": [
            "[1 9]\n"
          ]
        }
      ]
    },
    {
      "cell_type": "code",
      "source": [
        "indices_fancy = np.array([0, 2])\n",
        "indices_recorte = slice(1, 3)\n",
        "\n",
        "resultado = X[indices_fancy, indices_recorte]\n",
        "print(resultado)"
      ],
      "metadata": {
        "colab": {
          "base_uri": "https://localhost:8080/"
        },
        "id": "5ALkguwfv29o",
        "outputId": "5e697e8f-fc36-4f24-d471-5753a8fd6ac3"
      },
      "execution_count": null,
      "outputs": [
        {
          "output_type": "stream",
          "name": "stdout",
          "text": [
            "[[ 1  2]\n",
            " [ 9 10]]\n"
          ]
        }
      ]
    },
    {
      "cell_type": "code",
      "source": [
        "x = np.arange(10)\n",
        "i = np.array([2, 1, 8, 4])\n",
        "x[i] = 99\n",
        "print(x)"
      ],
      "metadata": {
        "colab": {
          "base_uri": "https://localhost:8080/"
        },
        "id": "yNcOqYfcv5P_",
        "outputId": "15918598-15eb-4d56-de5c-ad4888a8326f"
      },
      "execution_count": null,
      "outputs": [
        {
          "output_type": "stream",
          "name": "stdout",
          "text": [
            "[ 0 99 99  3 99  5  6  7 99  9]\n"
          ]
        }
      ]
    },
    {
      "cell_type": "code",
      "source": [
        "x = np.zeros(10)\n",
        "x[[0, 0]] = [4, 6]\n",
        "print(x)"
      ],
      "metadata": {
        "colab": {
          "base_uri": "https://localhost:8080/"
        },
        "id": "yzJ5JN7Lv9Rg",
        "outputId": "e2718ad4-0fa8-4daf-e791-0985241bed2e"
      },
      "execution_count": null,
      "outputs": [
        {
          "output_type": "stream",
          "name": "stdout",
          "text": [
            "[6. 0. 0. 0. 0. 0. 0. 0. 0. 0.]\n"
          ]
        }
      ]
    },
    {
      "cell_type": "code",
      "source": [
        "i = [2, 3, 3, 4, 4, 4]\n",
        "x[i] += 1\n",
        "x"
      ],
      "metadata": {
        "colab": {
          "base_uri": "https://localhost:8080/"
        },
        "id": "7Yf7KorAv_rL",
        "outputId": "2f54f71a-9e97-4ab7-c3fb-97012dd595ac"
      },
      "execution_count": null,
      "outputs": [
        {
          "output_type": "execute_result",
          "data": {
            "text/plain": [
              "array([6., 0., 1., 1., 1., 0., 0., 0., 0., 0.])"
            ]
          },
          "metadata": {},
          "execution_count": 64
        }
      ]
    },
    {
      "cell_type": "code",
      "source": [
        "import numpy as np\n",
        "\n",
        "x = np.array([1, 2, 3, 4, 5])\n",
        "indices = [0, 1, 2]\n",
        "\n",
        "np.add.at(x, indices, 1)\n",
        "\n",
        "print(x)\n"
      ],
      "metadata": {
        "colab": {
          "base_uri": "https://localhost:8080/"
        },
        "id": "H2K8zj8MwCVq",
        "outputId": "c9fb0ddf-4894-4a0b-db08-5867d61161fd"
      },
      "execution_count": null,
      "outputs": [
        {
          "output_type": "stream",
          "name": "stdout",
          "text": [
            "[2 3 4 4 5]\n"
          ]
        }
      ]
    },
    {
      "cell_type": "code",
      "source": [
        "L = np.random.random(100)\n",
        "sum(L)"
      ],
      "metadata": {
        "colab": {
          "base_uri": "https://localhost:8080/"
        },
        "id": "NkOddsjwwJk5",
        "outputId": "5f947a0f-1aa3-417b-d2c3-73cee1d7870c"
      },
      "execution_count": null,
      "outputs": [
        {
          "output_type": "execute_result",
          "data": {
            "text/plain": [
              "47.03631196196963"
            ]
          },
          "metadata": {},
          "execution_count": 66
        }
      ]
    },
    {
      "cell_type": "code",
      "source": [
        "np.sum(L)"
      ],
      "metadata": {
        "colab": {
          "base_uri": "https://localhost:8080/"
        },
        "id": "OIrBlzofwMIb",
        "outputId": "1706467b-d5c3-4535-9fab-c8bd785f46b8"
      },
      "execution_count": null,
      "outputs": [
        {
          "output_type": "execute_result",
          "data": {
            "text/plain": [
              "47.03631196196964"
            ]
          },
          "metadata": {},
          "execution_count": 67
        }
      ]
    },
    {
      "cell_type": "code",
      "source": [
        "matriz_grande = np.random.rand(1000000)\n",
        "%timeit sum(matriz_grande)\n",
        "%timeit np.sum(matriz_grande)"
      ],
      "metadata": {
        "colab": {
          "base_uri": "https://localhost:8080/"
        },
        "id": "6H8siG6CwPqK",
        "outputId": "97e21415-f6fe-4ae8-e599-5208582ca872"
      },
      "execution_count": null,
      "outputs": [
        {
          "output_type": "stream",
          "name": "stdout",
          "text": [
            "103 ms ± 17.6 ms per loop (mean ± std. dev. of 7 runs, 10 loops each)\n",
            "263 µs ± 9.89 µs per loop (mean ± std. dev. of 7 runs, 1000 loops each)\n"
          ]
        }
      ]
    },
    {
      "cell_type": "code",
      "source": [
        "# Otras funciones min y max\n",
        "min(matriz_grande), max(matriz_grande)"
      ],
      "metadata": {
        "colab": {
          "base_uri": "https://localhost:8080/"
        },
        "id": "BidTVQDNwVXq",
        "outputId": "096e4394-9a5d-4aaa-941b-863ecc31adc3"
      },
      "execution_count": null,
      "outputs": [
        {
          "output_type": "execute_result",
          "data": {
            "text/plain": [
              "(7.071203171893359e-07, 0.9999997207656334)"
            ]
          },
          "metadata": {},
          "execution_count": 69
        }
      ]
    },
    {
      "cell_type": "code",
      "source": [
        "%timeit min(matriz_grande)\n",
        "%timeit np.min(matriz_grande)"
      ],
      "metadata": {
        "colab": {
          "base_uri": "https://localhost:8080/"
        },
        "id": "3ajM013nwX44",
        "outputId": "2d90c4c0-aee3-4cbf-da6b-2f3c101be1a0"
      },
      "execution_count": null,
      "outputs": [
        {
          "output_type": "stream",
          "name": "stdout",
          "text": [
            "72.4 ms ± 5.81 ms per loop (mean ± std. dev. of 7 runs, 10 loops each)\n",
            "192 µs ± 27 µs per loop (mean ± std. dev. of 7 runs, 10000 loops each)\n"
          ]
        }
      ]
    },
    {
      "cell_type": "code",
      "source": [
        "data = np.random.normal(size=(15, 15))\n",
        "np.mean(data)"
      ],
      "metadata": {
        "colab": {
          "base_uri": "https://localhost:8080/"
        },
        "id": "OfS5e833wZC8",
        "outputId": "b0561dea-76e3-48a8-d2d4-6f5119befb81"
      },
      "execution_count": null,
      "outputs": [
        {
          "output_type": "execute_result",
          "data": {
            "text/plain": [
              "0.044126718568646986"
            ]
          },
          "metadata": {},
          "execution_count": 71
        }
      ]
    },
    {
      "cell_type": "code",
      "source": [
        "data.mean()"
      ],
      "metadata": {
        "colab": {
          "base_uri": "https://localhost:8080/"
        },
        "id": "HFL8A2ORwhHx",
        "outputId": "f7867b34-1749-4fed-d818-d99a645d0a5c"
      },
      "execution_count": null,
      "outputs": [
        {
          "output_type": "execute_result",
          "data": {
            "text/plain": [
              "0.044126718568646986"
            ]
          },
          "metadata": {},
          "execution_count": 72
        }
      ]
    },
    {
      "cell_type": "code",
      "source": [
        "M = np.random.random((5, 6))\n",
        "print(M)"
      ],
      "metadata": {
        "colab": {
          "base_uri": "https://localhost:8080/"
        },
        "id": "dn98159SwjDM",
        "outputId": "d0393cd8-825b-41dc-e1f6-78fb2b910b7a"
      },
      "execution_count": null,
      "outputs": [
        {
          "output_type": "stream",
          "name": "stdout",
          "text": [
            "[[0.78911301 0.63111867 0.7285163  0.66979703 0.17088322 0.13881003]\n",
            " [0.00935403 0.63751707 0.76420221 0.1876222  0.95137218 0.44469986]\n",
            " [0.47577551 0.43077223 0.49532871 0.58341548 0.27654054 0.96025749]\n",
            " [0.12685672 0.38686572 0.29660634 0.99907694 0.00377931 0.82984241]\n",
            " [0.75816216 0.01685189 0.23811077 0.28054238 0.63922302 0.31781681]]\n"
          ]
        }
      ]
    },
    {
      "cell_type": "code",
      "source": [
        "M.sum()"
      ],
      "metadata": {
        "colab": {
          "base_uri": "https://localhost:8080/"
        },
        "id": "pi-vKH2kwli7",
        "outputId": "ebe04c2b-10c8-4f2e-daf5-58bd7fce60ad"
      },
      "execution_count": null,
      "outputs": [
        {
          "output_type": "execute_result",
          "data": {
            "text/plain": [
              "14.238830244406318"
            ]
          },
          "metadata": {},
          "execution_count": 74
        }
      ]
    },
    {
      "cell_type": "code",
      "source": [
        "M.sum(axis= 0)"
      ],
      "metadata": {
        "colab": {
          "base_uri": "https://localhost:8080/"
        },
        "id": "-n11Q7n0woag",
        "outputId": "80342edd-6f57-4037-cfaa-65a3a5a407b1"
      },
      "execution_count": null,
      "outputs": [
        {
          "output_type": "execute_result",
          "data": {
            "text/plain": [
              "array([2.15926144, 2.10312558, 2.52276433, 2.72045403, 2.04179827,\n",
              "       2.69142659])"
            ]
          },
          "metadata": {},
          "execution_count": 75
        }
      ]
    },
    {
      "cell_type": "code",
      "source": [
        "data = np.random.normal(size=(5, 10, 15))\n",
        "data.sum(axis=0).shape"
      ],
      "metadata": {
        "colab": {
          "base_uri": "https://localhost:8080/"
        },
        "id": "yLuZJ_0RwryK",
        "outputId": "171822b2-53be-4801-cc4a-27ec318301bb"
      },
      "execution_count": null,
      "outputs": [
        {
          "output_type": "execute_result",
          "data": {
            "text/plain": [
              "(10, 15)"
            ]
          },
          "metadata": {},
          "execution_count": 76
        }
      ]
    },
    {
      "cell_type": "code",
      "source": [
        "data.sum(axis=(0, 2)).shape"
      ],
      "metadata": {
        "colab": {
          "base_uri": "https://localhost:8080/"
        },
        "id": "ntBSJMzLwu-A",
        "outputId": "14f869c6-0dc9-46a0-ba4b-3afc364ed5f1"
      },
      "execution_count": null,
      "outputs": [
        {
          "output_type": "execute_result",
          "data": {
            "text/plain": [
              "(10,)"
            ]
          },
          "metadata": {},
          "execution_count": 77
        }
      ]
    },
    {
      "cell_type": "code",
      "source": [
        "data.sum()"
      ],
      "metadata": {
        "colab": {
          "base_uri": "https://localhost:8080/"
        },
        "id": "CYuZdZdSwxUY",
        "outputId": "a6ef4f80-5015-45cc-a038-29f9c7f15e7a"
      },
      "execution_count": null,
      "outputs": [
        {
          "output_type": "execute_result",
          "data": {
            "text/plain": [
              "-40.96575138792459"
            ]
          },
          "metadata": {},
          "execution_count": 78
        }
      ]
    },
    {
      "cell_type": "code",
      "source": [
        "a = np.array([0, 1, 2])\n",
        "b = np.array([2, 6, 1])\n",
        "a + b"
      ],
      "metadata": {
        "colab": {
          "base_uri": "https://localhost:8080/"
        },
        "id": "Enk6mbCQw2vA",
        "outputId": "d9dcfa6e-f080-4f9e-ab34-4c7acc684687"
      },
      "execution_count": null,
      "outputs": [
        {
          "output_type": "execute_result",
          "data": {
            "text/plain": [
              "array([2, 7, 3])"
            ]
          },
          "metadata": {},
          "execution_count": 79
        }
      ]
    },
    {
      "cell_type": "code",
      "source": [
        "a + 5"
      ],
      "metadata": {
        "colab": {
          "base_uri": "https://localhost:8080/"
        },
        "id": "1qSLQW3fw7df",
        "outputId": "d9609b33-40d4-4a31-8168-15f8c8f1fd1e"
      },
      "execution_count": null,
      "outputs": [
        {
          "output_type": "execute_result",
          "data": {
            "text/plain": [
              "array([5, 6, 7])"
            ]
          },
          "metadata": {},
          "execution_count": 80
        }
      ]
    },
    {
      "cell_type": "code",
      "source": [
        "A = np.arange(16).reshape(4, 4)\n",
        "b = np.arange(4)\n",
        "A"
      ],
      "metadata": {
        "colab": {
          "base_uri": "https://localhost:8080/"
        },
        "id": "SBim7Bi6w8Ig",
        "outputId": "2a1c409d-5a43-44cd-c600-38332af5dae3"
      },
      "execution_count": null,
      "outputs": [
        {
          "output_type": "execute_result",
          "data": {
            "text/plain": [
              "array([[ 0,  1,  2,  3],\n",
              "       [ 4,  5,  6,  7],\n",
              "       [ 8,  9, 10, 11],\n",
              "       [12, 13, 14, 15]])"
            ]
          },
          "metadata": {},
          "execution_count": 81
        }
      ]
    },
    {
      "cell_type": "code",
      "source": [
        "A + b"
      ],
      "metadata": {
        "colab": {
          "base_uri": "https://localhost:8080/"
        },
        "id": "EAlPIRaGw-lj",
        "outputId": "4ab7e17d-0763-42fc-d213-89bfa7e1a130"
      },
      "execution_count": null,
      "outputs": [
        {
          "output_type": "execute_result",
          "data": {
            "text/plain": [
              "array([[ 0,  2,  4,  6],\n",
              "       [ 4,  6,  8, 10],\n",
              "       [ 8, 10, 12, 14],\n",
              "       [12, 14, 16, 18]])"
            ]
          },
          "metadata": {},
          "execution_count": 82
        }
      ]
    },
    {
      "cell_type": "code",
      "source": [
        "import numpy as np\n",
        "\n",
        "a = np.array([0, 1, 2])\n",
        "b = np.array([2, 6, 1])\n",
        "\n",
        "result1 = a + b\n",
        "print(result1)\n",
        "\n",
        "result2 = a + 5\n",
        "print(result2)\n",
        "\n",
        "A = np.arange(16).reshape(4, 4)\n",
        "b = np.arange(4)\n",
        "\n",
        "result3 = A + b\n",
        "print(result3)\n",
        "\n",
        "# Broadcasting en dos matrices\n",
        "C = np.array([[1, 2, 3]])\n",
        "D = np.array([[4], [5], [6]])\n",
        "\n",
        "result4 = C + D\n",
        "print(result4)\n"
      ],
      "metadata": {
        "colab": {
          "base_uri": "https://localhost:8080/"
        },
        "id": "jHoKSxtpxA8b",
        "outputId": "10ec67fa-1000-4e02-94a1-789c8059dab7"
      },
      "execution_count": null,
      "outputs": [
        {
          "output_type": "stream",
          "name": "stdout",
          "text": [
            "[2 7 3]\n",
            "[5 6 7]\n",
            "[[ 0  2  4  6]\n",
            " [ 4  6  8 10]\n",
            " [ 8 10 12 14]\n",
            " [12 14 16 18]]\n",
            "[[5 6 7]\n",
            " [6 7 8]\n",
            " [7 8 9]]\n"
          ]
        }
      ]
    },
    {
      "cell_type": "code",
      "source": [
        "J = np.arange(0, 40, 10)\n",
        "J.shape"
      ],
      "metadata": {
        "colab": {
          "base_uri": "https://localhost:8080/"
        },
        "id": "SScPF2rUxLVB",
        "outputId": "9f077b6b-6abb-4354-ccc8-16002297af78"
      },
      "execution_count": null,
      "outputs": [
        {
          "output_type": "execute_result",
          "data": {
            "text/plain": [
              "(4,)"
            ]
          },
          "metadata": {},
          "execution_count": 84
        }
      ]
    },
    {
      "cell_type": "code",
      "source": [
        "J = J[:, np.newaxis]  # agregamos un nuevo eje ->  matriz 2D\n",
        "J.shape\n"
      ],
      "metadata": {
        "colab": {
          "base_uri": "https://localhost:8080/"
        },
        "id": "eH1gVzsKxPxq",
        "outputId": "14baf991-5012-4b4a-c70b-f8ac7f4646e0"
      },
      "execution_count": null,
      "outputs": [
        {
          "output_type": "execute_result",
          "data": {
            "text/plain": [
              "(4, 1)"
            ]
          },
          "metadata": {},
          "execution_count": 85
        }
      ]
    },
    {
      "cell_type": "code",
      "source": [
        "J"
      ],
      "metadata": {
        "colab": {
          "base_uri": "https://localhost:8080/"
        },
        "id": "9rgDgd2PxQ1B",
        "outputId": "6cedd611-5df7-4747-8cf4-f12a9e164376"
      },
      "execution_count": null,
      "outputs": [
        {
          "output_type": "execute_result",
          "data": {
            "text/plain": [
              "array([[ 0],\n",
              "       [10],\n",
              "       [20],\n",
              "       [30]])"
            ]
          },
          "metadata": {},
          "execution_count": 86
        }
      ]
    },
    {
      "cell_type": "code",
      "source": [
        "J + 3"
      ],
      "metadata": {
        "colab": {
          "base_uri": "https://localhost:8080/"
        },
        "id": "3reYsdkXxTEe",
        "outputId": "dacfc4c9-edbc-438f-beda-4d336aef73e0"
      },
      "execution_count": null,
      "outputs": [
        {
          "output_type": "execute_result",
          "data": {
            "text/plain": [
              "array([[ 3],\n",
              "       [13],\n",
              "       [23],\n",
              "       [33]])"
            ]
          },
          "metadata": {},
          "execution_count": 87
        }
      ]
    },
    {
      "cell_type": "code",
      "source": [
        "a1 = np.array([1, 2, 3, 4])\n",
        "b1 = np.array([4, 3, 2, 1])\n",
        "a1 < b1"
      ],
      "metadata": {
        "colab": {
          "base_uri": "https://localhost:8080/"
        },
        "id": "A1nzyFWxxVkH",
        "outputId": "6ca9283a-b9d5-4b91-a352-db177f99ace6"
      },
      "execution_count": null,
      "outputs": [
        {
          "output_type": "execute_result",
          "data": {
            "text/plain": [
              "array([ True,  True, False, False])"
            ]
          },
          "metadata": {},
          "execution_count": 88
        }
      ]
    },
    {
      "cell_type": "code",
      "source": [
        "np.all(a1 < b1)"
      ],
      "metadata": {
        "colab": {
          "base_uri": "https://localhost:8080/"
        },
        "id": "PCKpjBksxZmf",
        "outputId": "a6e8d6f4-62ac-44bb-b47e-b6c46b978610"
      },
      "execution_count": null,
      "outputs": [
        {
          "output_type": "execute_result",
          "data": {
            "text/plain": [
              "False"
            ]
          },
          "metadata": {},
          "execution_count": 89
        }
      ]
    },
    {
      "cell_type": "code",
      "source": [
        "np.any(a1 < b1)"
      ],
      "metadata": {
        "colab": {
          "base_uri": "https://localhost:8080/"
        },
        "id": "ER6X12X0xZst",
        "outputId": "90b733ba-fb31-4d8b-aea6-5ffee41d2cc9"
      },
      "execution_count": null,
      "outputs": [
        {
          "output_type": "execute_result",
          "data": {
            "text/plain": [
              "True"
            ]
          },
          "metadata": {},
          "execution_count": 90
        }
      ]
    },
    {
      "cell_type": "code",
      "source": [
        "if np.all(a1 < b1):\n",
        "    print(\" Todos los elementos en a1 son menores que los elementos en b1 \")\n",
        "elif np.any(a1 < b1):\n",
        "    print(\"Algunos elementos en a1 son menores que los elementos de b1\")\n",
        "else:\n",
        "    print(\"Todos los elementos en b1 son menores que los elementos de a1\")"
      ],
      "metadata": {
        "colab": {
          "base_uri": "https://localhost:8080/"
        },
        "id": "ShEEFy5Sxyhw",
        "outputId": "856aec79-36aa-432b-a7cf-3a8db18c349a"
      },
      "execution_count": null,
      "outputs": [
        {
          "output_type": "stream",
          "name": "stdout",
          "text": [
            "Algunos elementos en a1 son menores que los elementos de b1\n"
          ]
        }
      ]
    },
    {
      "cell_type": "code",
      "source": [
        "import numpy as np\n",
        "\n",
        "a = np.array([0, 1, 2])\n",
        "b = np.array([2, 6, 1])\n",
        "\n",
        "result1 = a + b\n",
        "print(result1)\n",
        "\n",
        "result2 = a + 5\n",
        "print(result2)\n",
        "\n",
        "A = np.arange(16).reshape(4, 4)\n",
        "b = np.arange(4)\n",
        "\n",
        "result3 = A + b\n",
        "print(result3)\n",
        "\n",
        "# Broadcasting en dos matrices\n",
        "C = np.array([[1, 2, 3]])\n",
        "D = np.array([[4], [5], [6]])\n",
        "\n",
        "result4 = C + D\n",
        "print(result4)\n"
      ],
      "metadata": {
        "colab": {
          "base_uri": "https://localhost:8080/"
        },
        "id": "H27Mo1_zxzph",
        "outputId": "dfeac9d4-1633-4014-815e-b14cb8cc644b"
      },
      "execution_count": null,
      "outputs": [
        {
          "output_type": "stream",
          "name": "stdout",
          "text": [
            "[2 7 3]\n",
            "[5 6 7]\n",
            "[[ 0  2  4  6]\n",
            " [ 4  6  8 10]\n",
            " [ 8 10 12 14]\n",
            " [12 14 16 18]]\n",
            "[[5 6 7]\n",
            " [6 7 8]\n",
            " [7 8 9]]\n"
          ]
        }
      ]
    },
    {
      "cell_type": "code",
      "source": [
        "def pulso(t, posicion, altura, ancho):\n",
        "    return altura * ((t >= posicion) & (t <= (posicion + ancho)))\n"
      ],
      "metadata": {
        "id": "xH9C3eo7yV1x"
      },
      "execution_count": null,
      "outputs": []
    },
    {
      "cell_type": "code",
      "source": [
        "t = np.linspace(0, 10, 100)\n",
        "posicion = 2\n",
        "altura = 5\n",
        "ancho = 3\n",
        "\n",
        "resultado = pulso(t, posicion, altura, ancho)\n",
        "print(resultado)\n"
      ],
      "metadata": {
        "colab": {
          "base_uri": "https://localhost:8080/"
        },
        "id": "ZWn2PNRQyXIv",
        "outputId": "729259b7-a1be-4988-aef5-b5fa58858114"
      },
      "execution_count": null,
      "outputs": [
        {
          "output_type": "stream",
          "name": "stdout",
          "text": [
            "[0 0 0 0 0 0 0 0 0 0 0 0 0 0 0 0 0 0 0 0 5 5 5 5 5 5 5 5 5 5 5 5 5 5 5 5 5\n",
            " 5 5 5 5 5 5 5 5 5 5 5 5 5 0 0 0 0 0 0 0 0 0 0 0 0 0 0 0 0 0 0 0 0 0 0 0 0\n",
            " 0 0 0 0 0 0 0 0 0 0 0 0 0 0 0 0 0 0 0 0 0 0 0 0 0 0]\n"
          ]
        }
      ]
    },
    {
      "cell_type": "code",
      "source": [
        "k = np.array([1, 3, -1, 5, 7, -1])\n",
        "mask = (k < 0)\n",
        "mask"
      ],
      "metadata": {
        "colab": {
          "base_uri": "https://localhost:8080/"
        },
        "id": "gxTO1-etyZbH",
        "outputId": "027c1547-3e86-4df8-bc74-2334b975f218"
      },
      "execution_count": null,
      "outputs": [
        {
          "output_type": "execute_result",
          "data": {
            "text/plain": [
              "array([False, False,  True, False, False,  True])"
            ]
          },
          "metadata": {},
          "execution_count": 96
        }
      ]
    },
    {
      "cell_type": "code",
      "source": [
        "# Un ejemplo bidimensional\n",
        "rng = np.random.RandomState(0)\n",
        "z1 = rng.randint(10, size=(3, 4))\n",
        "z1"
      ],
      "metadata": {
        "colab": {
          "base_uri": "https://localhost:8080/"
        },
        "id": "yRCZlP0tyeBw",
        "outputId": "b830fbfd-4ba7-4ddb-8923-8a06c48215a1"
      },
      "execution_count": null,
      "outputs": [
        {
          "output_type": "execute_result",
          "data": {
            "text/plain": [
              "array([[5, 0, 3, 3],\n",
              "       [7, 9, 3, 5],\n",
              "       [2, 4, 7, 6]])"
            ]
          },
          "metadata": {},
          "execution_count": 97
        }
      ]
    },
    {
      "cell_type": "code",
      "source": [
        "k = np.array([1, 3, -1, 5, 7, -1])\n",
        "mask = (k < 0)\n",
        "print(mask)\n"
      ],
      "metadata": {
        "colab": {
          "base_uri": "https://localhost:8080/"
        },
        "id": "mZVAUG5Jygkf",
        "outputId": "cbd59b78-0a6e-43a7-b4e3-a2c909ee64d1"
      },
      "execution_count": null,
      "outputs": [
        {
          "output_type": "stream",
          "name": "stdout",
          "text": [
            "[False False  True False False  True]\n"
          ]
        }
      ]
    },
    {
      "cell_type": "code",
      "source": [
        "rng = np.random.RandomState(0)\n",
        "z1 = rng.randint(10, size=(3, 4))\n",
        "print(z1)\n"
      ],
      "metadata": {
        "colab": {
          "base_uri": "https://localhost:8080/"
        },
        "id": "R5Z7WloSyyPx",
        "outputId": "ade86d14-a871-42a3-857a-2b3b577e4741"
      },
      "execution_count": null,
      "outputs": [
        {
          "output_type": "stream",
          "name": "stdout",
          "text": [
            "[[5 0 3 3]\n",
            " [7 9 3 5]\n",
            " [2 4 7 6]]\n"
          ]
        }
      ]
    },
    {
      "cell_type": "code",
      "source": [
        "z1 = np.array([[1, 2, 3, 4],\n",
        "               [5, 6, 7, 8],\n",
        "               [9, 10, 11, 12]])\n",
        "\n",
        "mask = np.array([[True, False, True, False],\n",
        "                 [False, True, False, True],\n",
        "                 [True, False, True, False]])\n",
        "\n",
        "masked_sum = np.sum(z1 * mask)\n",
        "print(masked_sum)\n"
      ],
      "metadata": {
        "colab": {
          "base_uri": "https://localhost:8080/"
        },
        "id": "L8essZ5Zy2yI",
        "outputId": "5d11aa23-f6d8-43cf-b861-2afb2ef0c12a"
      },
      "execution_count": null,
      "outputs": [
        {
          "output_type": "stream",
          "name": "stdout",
          "text": [
            "38\n"
          ]
        }
      ]
    },
    {
      "cell_type": "code",
      "source": [
        "z1 = np.array([[1, 2, 3, 4],\n",
        "               [5, 6, 7, 8],\n",
        "               [9, 10, 11, 12]])\n",
        "\n",
        "mask = np.array([[True, False, True, False],\n",
        "                 [False, True, False, True],\n",
        "                 [True, False, True, False]])\n",
        "\n",
        "masked_values = z1[mask]\n",
        "print(masked_values)\n"
      ],
      "metadata": {
        "colab": {
          "base_uri": "https://localhost:8080/"
        },
        "id": "upRpimXizFsZ",
        "outputId": "58fda56c-4b41-4635-8a7b-610e2470981e"
      },
      "execution_count": null,
      "outputs": [
        {
          "output_type": "stream",
          "name": "stdout",
          "text": [
            "[ 1  3  6  8  9 11]\n"
          ]
        }
      ]
    },
    {
      "cell_type": "code",
      "source": [
        "z1 = np.array([[1, 2, 3, 4],\n",
        "               [5, 6, 7, 8],\n",
        "               [9, 10, 11, 12]])\n",
        "\n",
        "mask = np.array([[True, False, True, False],\n",
        "                 [False, True, False, True],\n",
        "                 [True, False, True, False]])\n",
        "\n",
        "sum_of_masked_values = np.sum(z1[mask])\n",
        "print(sum_of_masked_values)\n"
      ],
      "metadata": {
        "colab": {
          "base_uri": "https://localhost:8080/"
        },
        "id": "DKCYRPxkzHU_",
        "outputId": "3ede39f0-39e6-4168-c6fd-f7277f3aa429"
      },
      "execution_count": null,
      "outputs": [
        {
          "output_type": "stream",
          "name": "stdout",
          "text": [
            "38\n"
          ]
        }
      ]
    }
  ]
}